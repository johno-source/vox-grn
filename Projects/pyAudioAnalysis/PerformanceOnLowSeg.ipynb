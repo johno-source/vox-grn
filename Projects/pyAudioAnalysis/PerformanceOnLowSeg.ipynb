{
 "cells": [
  {
   "attachments": {},
   "cell_type": "markdown",
   "metadata": {},
   "source": [
    "# Performance on Low Segment Languages\n",
    "The purpose of this notebook is to see if the pyAudioAnalysis library can do a better job of pulling out voice segments than wedrctvad did.\n",
    "\n",
    "The following will be looked at:\n",
    "1. FewSegmentLanguages.ipynb identified languages that had a low number of segments generated. Compare how pyAudioAnalysis does on the same files\n",
    "2. Compare how pyAudioAnalysis does on files that webrtcvad did a reasonable job\n",
    "3. Compare how pyAudioAnalysis does on files that contain pure instrumentals, and those that have voice over instruments. "
   ]
  },
  {
   "attachments": {},
   "cell_type": "markdown",
   "metadata": {},
   "source": [
    "## Files that had few segments extracted.\n"
   ]
  },
  {
   "cell_type": "code",
   "execution_count": 2,
   "metadata": {},
   "outputs": [],
   "source": [
    "import pandas as pd\n",
    "import numpy as np\n",
    "import os\n",
    "import sys\n",
    "module_path = os.path.abspath(os.path.join('~/work/pyAudioAnalysis'))\n",
    "if module_path not in sys.path:\n",
    "    sys.path.append(module_path)\n",
    "from collections import namedtuple\n",
    "\n",
    "from pyAudioAnalysis import audioSegmentation as aS\n",
    "from pyAudioAnalysis import audioTrainTest as at\n",
    "from pyAudioAnalysis import MidTermFeatures as mtf\n",
    "from pyAudioAnalysis import audioBasicIO"
   ]
  },
  {
   "cell_type": "code",
   "execution_count": 5,
   "metadata": {},
   "outputs": [],
   "source": [
    "# define our unittests\n",
    "import unittest\n",
    "\n",
    "def run_tests(test_invoked=''):\n",
    "  default_test = (test_invoked, ) if test_invoked != '' else None\n",
    "  unittest.main(argv=[''], verbosity=1, exit=False, defaultTest=default_test)"
   ]
  },
  {
   "cell_type": "code",
   "execution_count": 6,
   "metadata": {},
   "outputs": [],
   "source": [
    "fd_low_segs = pd.read_csv('../../data/files_with_few_segs.csv')"
   ]
  },
  {
   "attachments": {},
   "cell_type": "markdown",
   "metadata": {},
   "source": [
    "Now try analysis on just one file."
   ]
  },
  {
   "cell_type": "code",
   "execution_count": 7,
   "metadata": {},
   "outputs": [
    {
     "name": "stdout",
     "output_type": "stream",
     "text": [
      "/media/programs/Programs/37/37924/A37924/PM-Copy-1001/A37924-38.wav\n"
     ]
    }
   ],
   "source": [
    "test_file = '/media/programs/' + fd_low_segs.iloc[1000].path + fd_low_segs.iloc[1000].filename\n",
    "print(test_file)"
   ]
  },
  {
   "cell_type": "code",
   "execution_count": 8,
   "metadata": {},
   "outputs": [
    {
     "name": "stdout",
     "output_type": "stream",
     "text": [
      "[0. 2.] 1\n",
      "[2. 4.] 3\n",
      "[4. 5.] 0\n",
      "[5. 7.] 1\n",
      "[7. 8.] 0\n",
      "[8. 9.] 3\n",
      "[ 9. 10.] 1\n",
      "[10. 12.] 3\n",
      "[12. 13.] 1\n",
      "[13. 17.] 3\n",
      "[17. 18.] 1\n",
      "[18. 20.] 3\n",
      "[20. 22.] 1\n",
      "[22. 23.] 0\n",
      "[23. 25.] 1\n",
      "[25. 26.] 3\n",
      "[26. 28.] 1\n",
      "[28. 30.] 3\n",
      "[30. 31.] 1\n",
      "[31. 34.] 3\n",
      "[34. 36.] 1\n",
      "[36. 37.] 0\n",
      "[37. 38.] 1\n",
      "[38. 39.] 3\n",
      "[39. 40.] 0\n",
      "[40. 41.] 1\n",
      "[41. 42.] 0\n",
      "[42. 43.] 3\n",
      "[43. 45.] 1\n",
      "[45. 46.] 3\n",
      "[46. 47.] 0\n",
      "[47. 48.] 3\n",
      "[48. 49.] 1\n",
      "[49. 50.] 3\n",
      "[50. 51.] 1\n",
      "[51. 52.] 3\n",
      "[52. 54.] 1\n",
      "[54. 58.] 3\n",
      "[58. 62.] 1\n"
     ]
    }
   ],
   "source": [
    "[flagsInd, classesAll, acc, CM] = aS.mid_term_file_classification(test_file, \"/home/jovyan/work/pyAudioAnalysis/pyAudioAnalysis/data/models/knn_4class\", \"knn\", True)\n"
   ]
  },
  {
   "attachments": {},
   "cell_type": "markdown",
   "metadata": {},
   "source": [
    "OK - So that is another wrinkle. There are multiple models in the code loaded. It would appear they are as follows:\n",
    "- knn_4class: this uses k nearest neighbour to classify audio into speech, music, silence and other.\n",
    "- knnMusicGenre6: This does not support segmentation - it determines the genre of the whole track.\n",
    "- knn_speaker_10: This classifies into 10 different speakers, 5 male and 5 female using knn\n",
    "- svm_rbf_4class: as for knn_4class but using an SVM algorithm\n",
    "- knn_sm: uses knn to differentiate between speech and music\n",
    "- svm_rbf_sm: as above but uses an SvM\n",
    "- then others for male/female determination and musical genres.\n",
    "\n",
    "So this leaves me with two choices: knn_4class and svm_rbf_4class. Are they very different- and if so which one is right?"
   ]
  },
  {
   "attachments": {},
   "cell_type": "markdown",
   "metadata": {},
   "source": [
    "## Algorithm Comparison\n",
    "Lets compare webrtcvad, knn_4class and svm_4class on three sets of data:\n",
    "1. Instrumentals\n",
    "2. Files that webrtcvad did poorly on\n",
    "3. Files that webrtcvad did well on\n",
    "\n",
    "First of all get our sample data sets together."
   ]
  },
  {
   "cell_type": "code",
   "execution_count": 9,
   "metadata": {},
   "outputs": [],
   "source": [
    "def get_filename(row):\n",
    "    return row.path + row.filename if row.path[-1] =='/' else row.path + '/' + row.filename\n",
    "    \n",
    "instrumental = pd.read_csv(\"../../data/instrumenal_file_segs.csv\")\n",
    "fsegs_4sec = pd.read_csv(\"/media/originals/fsegs/fseg_4_df.csv\")\n",
    "# I want to reduce fsegs to one row per file and a count.\n",
    "fsegs_file = fsegs_4sec.apply(get_filename, axis=1)\n",
    "fsegs_per_file = fsegs_file.value_counts().to_frame().reset_index()\n",
    "fsegs_per_file.rename(columns={'index':'filename', 0:'segments'}, inplace=True)\n",
    "good_webrtcvad = fsegs_per_file[100000:101000].copy()\n",
    "poor_webrtcvad = fsegs_per_file[-1000:].copy()\n",
    "\n"
   ]
  },
  {
   "cell_type": "code",
   "execution_count": 10,
   "metadata": {},
   "outputs": [
    {
     "name": "stdout",
     "output_type": "stream",
     "text": [
      "Instrumental Records: 10783\n",
      "Poor performing webrtcvad Records: 1000\n",
      "Well performing webrtcvad Records: 1000\n"
     ]
    }
   ],
   "source": [
    "print(f\"Instrumental Records: {len(instrumental)}\")\n",
    "print(f\"Poor performing webrtcvad Records: {len(poor_webrtcvad)}\")\n",
    "print(f\"Well performing webrtcvad Records: {len(good_webrtcvad)}\")"
   ]
  },
  {
   "attachments": {},
   "cell_type": "markdown",
   "metadata": {},
   "source": [
    "## Reimplement mid_term_file_classification\n",
    "For some bizarre reason this function prints the information you want rather than returning it. Rather than modify it in the donwloaded library I have modified it here."
   ]
  },
  {
   "cell_type": "code",
   "execution_count": 11,
   "metadata": {},
   "outputs": [],
   "source": [
    "Segment = namedtuple('Segment', ['start', 'end', 'classification'])\n",
    "\n",
    "# re-implement a simplified version of mid_term_file_classification\n",
    "def as_classification(input_file, model_name, model_type):\n",
    "    \"\"\"\n",
    "    This function performs mid-term classification of an audio stream.\n",
    "    Towards this end, supervised knowledge is used,\n",
    "    i.e. a pre-trained classifier.\n",
    "    ARGUMENTS:\n",
    "        - input_file:        path of the input WAV file\n",
    "        - model_name:        name of the classification model\n",
    "        - model_type:        svm or knn depending on the classifier type\n",
    "    RETURNS:\n",
    "    (start, end, label), class_names\n",
    "          - start, end, label:  a sequence of tuples of each segment.\n",
    "          - class_names:    a string sequence of class_names used in classification:\n",
    "                            class_names[i] is the name of classes[i]\n",
    "    \"\"\"\n",
    "    \n",
    "    segments = []\n",
    "    labels = []\n",
    "    class_names = []\n",
    "    if not os.path.isfile(model_name):\n",
    "        print(\"mtFileClassificationError: input model_type not found!\")\n",
    "        return segments, class_names\n",
    "\n",
    "    # Load classifier:\n",
    "    if model_type == \"knn\":\n",
    "        classifier, mean, std, class_names, mt_win, mid_step, st_win, \\\n",
    "         st_step, compute_beat = at.load_model_knn(model_name)\n",
    "    else:\n",
    "        classifier, mean, std, class_names, mt_win, mid_step, st_win, \\\n",
    "         st_step, compute_beat = at.load_model(model_name)\n",
    "    if compute_beat:\n",
    "        print(\"Model \" + model_name + \" contains long-term music features \"\n",
    "                                      \"(beat etc) and cannot be used in \"\n",
    "                                      \"segmentation\")\n",
    "        return segments, class_names\n",
    "    # load input file\n",
    "    sampling_rate, signal = audioBasicIO.read_audio_file(input_file)\n",
    "\n",
    "    # could not read file\n",
    "    if sampling_rate == 0:\n",
    "        return segments, class_names\n",
    "\n",
    "    # convert stereo (if) to mono\n",
    "    signal = audioBasicIO.stereo_to_mono(signal)\n",
    "\n",
    "    # mid-term feature extraction:\n",
    "    mt_feats, _, _ = \\\n",
    "        mtf.mid_feature_extraction(signal, sampling_rate,\n",
    "                                   mt_win * sampling_rate,\n",
    "                                   mid_step * sampling_rate,\n",
    "                                   round(sampling_rate * st_win),\n",
    "                                   round(sampling_rate * st_step))\n",
    "    posterior_matrix = []\n",
    "\n",
    "    # for each feature vector (i.e. for each fix-sized segment):\n",
    "    for col_index in range(mt_feats.shape[1]):\n",
    "        # normalize current feature v\n",
    "        feature_vector = (mt_feats[:, col_index] - mean) / std\n",
    "\n",
    "        # classify vector:\n",
    "        label_predicted, posterior = \\\n",
    "            at.classifier_wrapper(classifier, model_type, feature_vector)\n",
    "        labels.append(label_predicted)\n",
    "\n",
    "        # update probability matrix\n",
    "        posterior_matrix.append(np.max(posterior))\n",
    "    labels = np.array(labels)\n",
    "\n",
    "    # convert fix-sized flags to segments and classes\n",
    "    segs, classes = aS.labels_to_segments(labels, mid_step)\n",
    "    segments = [Segment(seg[0], seg[1], class_names[int(label)]) for seg, label in zip(segs, classes)]\n",
    "    return segments, class_names"
   ]
  },
  {
   "cell_type": "code",
   "execution_count": 12,
   "metadata": {},
   "outputs": [],
   "source": [
    "segments, classnames = as_classification(test_file, \"/home/jovyan/work/pyAudioAnalysis/pyAudioAnalysis/data/models/knn_4class\", \"knn\")\n"
   ]
  },
  {
   "attachments": {},
   "cell_type": "markdown",
   "metadata": {},
   "source": [
    "Now to compare like with like we want to turn the list of segments into 4 second segments.\n",
    "The rule to use is that one second of anything does not count. We are dividing on second boundaries which may mean some words are partial. We want to split it into 4 second Segments of speech."
   ]
  },
  {
   "cell_type": "code",
   "execution_count": 25,
   "metadata": {},
   "outputs": [],
   "source": [
    "Epoch = namedtuple('Epoch', ['start', 'end'])\n",
    "def divide_into_4sec_speech_epochs(segments, speech_epochs):\n",
    "    # check for termination condition\n",
    "    if len(segments) == 0:\n",
    "        return speech_epochs\n",
    "    \n",
    "    # check for skip a segment\n",
    "    seg = segments[0]\n",
    "    if seg.classification != 'speech':\n",
    "        return divide_into_4sec_speech_epochs(segments[1:], speech_epochs)\n",
    "    \n",
    "    # see if the segment has 4 seconds to take\n",
    "    duration = seg.end - seg.start\n",
    "    if duration < 4:\n",
    "        return divide_into_4sec_speech_epochs(segments[1:], speech_epochs)\n",
    "    \n",
    "    speech_epochs.append(Epoch(segments[0].start, segments[0].start+4))\n",
    "    segments[0] = Segment(seg.start+4, seg.end, seg.classification)\n",
    "    return divide_into_4sec_speech_epochs(segments, speech_epochs)\n",
    "\n"
   ]
  },
  {
   "cell_type": "code",
   "execution_count": 11,
   "metadata": {},
   "outputs": [
    {
     "name": "stderr",
     "output_type": "stream",
     "text": [
      "......\n",
      "----------------------------------------------------------------------\n",
      "Ran 6 tests in 0.003s\n",
      "\n",
      "OK\n"
     ]
    }
   ],
   "source": [
    "class TestCreateSpeechEpochs(unittest.TestCase):\n",
    "\n",
    "    def test_null_case(self):\n",
    "        self.assertEqual([], divide_into_4sec_speech_epochs([], []))\n",
    "        self.assertEqual([Epoch(0, 0)], divide_into_4sec_speech_epochs([], [Epoch(0, 0)]))\n",
    "\n",
    "    def test_one_Segment(self):\n",
    "        self.assertEqual([Epoch(0, 4)], divide_into_4sec_speech_epochs([Segment(0, 5, 'speech')], []))\n",
    "\n",
    "    def test_reject_music(self):\n",
    "        self.assertEqual([Epoch(5, 9)], divide_into_4sec_speech_epochs([\n",
    "            Segment(0, 5, 'music'),\n",
    "            Segment(5, 10, 'speech')], []))\n",
    "        \n",
    "    def test_two_epochs_one_segment(self):\n",
    "        self.assertEqual([Epoch(0,4), Epoch(4,8)], divide_into_4sec_speech_epochs([Segment(0,9, 'speech')], []))\n",
    "\n",
    "    def test_pass_epoch(self):\n",
    "        self.assertEqual([Epoch(10, 14),Epoch(0,4), Epoch(4,8)], divide_into_4sec_speech_epochs([Segment(0,9, 'speech')], [Epoch(10, 14)]))\n",
    "\n",
    "    def test_reject_complex(self):\n",
    "        self.assertEqual([Epoch(5, 9), Epoch(25, 29)], divide_into_4sec_speech_epochs([\n",
    "            Segment(0, 5, 'music'),\n",
    "            Segment(5, 10, 'speech'),\n",
    "            Segment(11, 20, 'other'),\n",
    "            Segment(25, 30, 'speech') ], []))\n",
    "        \n",
    "\n",
    "run_tests('TestCreateSpeechEpochs')\n"
   ]
  },
  {
   "cell_type": "code",
   "execution_count": 14,
   "metadata": {},
   "outputs": [],
   "source": [
    "\n",
    "# This function filters out short segments that occur in the middle of longer ones\n",
    "def merge_short_segments(segments):\n",
    "    if len(segments) < 3:\n",
    "        return segments\n",
    "    \n",
    "    \n",
    "    seg0 = segments[0]\n",
    "    seg1 = segments[1]\n",
    "    seg2 = segments[2]\n",
    "\n",
    "    # check for a merge condition\n",
    "    if seg0.classification == seg2.classification:\n",
    "        # check they are contiguous\n",
    "        if seg0.end == seg1.start and seg1.end == seg2.start:\n",
    "            # check the durations\n",
    "            seg0_duration = seg0.end - seg0.start\n",
    "            seg1_duration = seg1.end - seg1.start\n",
    "            seg2_duration = seg2.end - seg2.start\n",
    "            if seg1_duration == 1 and (seg0_duration > 1 or seg2_duration > 1):\n",
    "                # we want to merge these three together\n",
    "                new_segs = [Segment(seg0.start, seg2.end, seg0.classification)]\n",
    "                new_segs.extend(segments[3:])\n",
    "                return merge_short_segments(new_segs)\n",
    "\n",
    "    new_segs = [seg0]\n",
    "    new_segs.extend(merge_short_segments(segments[1:]))\n",
    "    return new_segs\n"
   ]
  },
  {
   "cell_type": "code",
   "execution_count": 14,
   "metadata": {},
   "outputs": [
    {
     "name": "stderr",
     "output_type": "stream",
     "text": [
      ".........\n",
      "----------------------------------------------------------------------\n",
      "Ran 9 tests in 0.004s\n",
      "\n",
      "OK\n"
     ]
    }
   ],
   "source": [
    "class TestRemoveShortSegments(unittest.TestCase):\n",
    "\n",
    "    def test_null_case(self):\n",
    "        self.assertEqual([], merge_short_segments([]))\n",
    "\n",
    "    def test_one_segment(self):\n",
    "        self.assertEqual([Segment(0, 6, 'music')], merge_short_segments([Segment(0, 6, 'music')]))\n",
    "\n",
    "    def test_two_segments(self):\n",
    "        self.assertEqual(\n",
    "            [Segment(0, 6, 'music'), Segment(6, 7, 'silence')],\n",
    "            merge_short_segments([Segment(0, 6, 'music'), Segment(6, 7, 'silence')]))\n",
    "\n",
    "    def test_three_segments(self):\n",
    "        self.assertEqual(\n",
    "            [Segment(0, 6, 'music'), Segment(6, 7, 'silence'), Segment(7, 8, 'speech')],\n",
    "            merge_short_segments([Segment(0, 6, 'music'), Segment(6, 7, 'silence'), Segment(7, 8, 'speech')]))\n",
    "\n",
    "    def test_simple_merge(self):\n",
    "        self.assertEqual(\n",
    "            [Segment(0, 8, 'music')],\n",
    "            merge_short_segments([Segment(0, 6, 'music'), Segment(6, 7, 'silence'), Segment(7, 8, 'music')]))\n",
    "\n",
    "    def test_hanging_segment_merge(self):\n",
    "        self.assertEqual(\n",
    "            [Segment(0, 8, 'music'), Segment(8, 9, 'silence')],\n",
    "            merge_short_segments([Segment(0, 6, 'music'), Segment(6, 7, 'silence'), Segment(7, 8, 'music'), Segment(8, 9, 'silence')]))\n",
    "\n",
    "    def test_discontiguous_non_merge(self):\n",
    "        self.assertEqual(\n",
    "            [Segment(0, 6, 'music'), Segment(7, 8, 'silence'), Segment(8, 9, 'music')],\n",
    "            merge_short_segments([Segment(0, 6, 'music'), Segment(7, 8, 'silence'), Segment(8, 9, 'music')]))\n",
    "\n",
    "    def test_segment_too_long_to_merge(self):\n",
    "        self.assertEqual(\n",
    "            [Segment(0, 6, 'music'), Segment(6, 8, 'silence'), Segment(8, 9, 'music')],\n",
    "            merge_short_segments([Segment(0, 6, 'music'), Segment(6, 8, 'silence'), Segment(8, 9, 'music')]))\n",
    "        \n",
    "    def test_compound_merge(self):\n",
    "        self.assertEqual(\n",
    "            [Segment(0,9,'music')],\n",
    "            merge_short_segments([Segment(0, 2, 'music'), Segment(2, 3, 'silence'), Segment(3, 4, 'music'), Segment(4, 5, 'silence'), Segment(5,9, 'music')]))\n",
    "\n",
    "\n",
    "run_tests('TestRemoveShortSegments')\n"
   ]
  },
  {
   "cell_type": "code",
   "execution_count": 15,
   "metadata": {},
   "outputs": [
    {
     "name": "stderr",
     "output_type": "stream",
     "text": [
      "...............\n",
      "----------------------------------------------------------------------\n",
      "Ran 15 tests in 0.008s\n",
      "\n",
      "OK\n"
     ]
    }
   ],
   "source": [
    "run_tests()"
   ]
  },
  {
   "attachments": {},
   "cell_type": "markdown",
   "metadata": {},
   "source": [
    "Now for running these tests I do not actually want the segments, I just want to count them."
   ]
  },
  {
   "cell_type": "code",
   "execution_count": 15,
   "metadata": {},
   "outputs": [],
   "source": [
    "import time\n",
    "import warnings\n",
    "# sklearn puts out a lot of annoying warnings\n",
    "warnings.filterwarnings('ignore')\n",
    "\n",
    "class ApplyClassification:\n",
    "    def __init__(self, model_type):\n",
    "        self.count = 0\n",
    "        model_t = model_type if model_type == 'knn' else 'svm_rbf'\n",
    "        self.model = f\"/home/jovyan/work/pyAudioAnalysis/pyAudioAnalysis/data/models/{model_t}_4class\"\n",
    "        self.model_type = model_type if model_type == 'knn' else 'svm'\n",
    "        self.start_time = time.time()\n",
    "\n",
    "    def segment(self, filename):\n",
    "        if self.count % 10 == 0:\n",
    "            print(f'Processing({self.count}) {time.time()-self.start_time}: {filename}')\n",
    "        self.count += 1\n",
    "        segments, _ = as_classification('/media/programs/' + filename, self.model, self.model_type)\n",
    "        segs = merge_short_segments(segments)\n",
    "        return divide_into_4sec_speech_epochs(segs, [])\n",
    "    \n",
    "    def __call__(self, filename):\n",
    "        return len(self.segment(filename))\n",
    "\n",
    "       "
   ]
  },
  {
   "cell_type": "code",
   "execution_count": 16,
   "metadata": {},
   "outputs": [
    {
     "name": "stdout",
     "output_type": "stream",
     "text": [
      "Processing(0) 0.0006229877471923828: Programs/73/73980/A73980/PM-1906/A73980-008.wav\n"
     ]
    },
    {
     "ename": "KeyboardInterrupt",
     "evalue": "",
     "output_type": "error",
     "traceback": [
      "\u001b[0;31m---------------------------------------------------------------------------\u001b[0m",
      "\u001b[0;31mKeyboardInterrupt\u001b[0m                         Traceback (most recent call last)",
      "\u001b[1;32m/home/jovyan/work/vox-grn/Projects/pyAudioAnalysis/PerformanceOnLowSeg.ipynb Cell 24\u001b[0m in \u001b[0;36m<cell line: 2>\u001b[0;34m()\u001b[0m\n\u001b[1;32m      <a href='vscode-notebook-cell://ssh-remote%2Bvox-grn/home/jovyan/work/vox-grn/Projects/pyAudioAnalysis/PerformanceOnLowSeg.ipynb#X32sdnNjb2RlLXJlbW90ZQ%3D%3D?line=0'>1</a>\u001b[0m count_segs_knn \u001b[39m=\u001b[39m ApplyClassification(\u001b[39m'\u001b[39m\u001b[39mknn\u001b[39m\u001b[39m'\u001b[39m)\n\u001b[0;32m----> <a href='vscode-notebook-cell://ssh-remote%2Bvox-grn/home/jovyan/work/vox-grn/Projects/pyAudioAnalysis/PerformanceOnLowSeg.ipynb#X32sdnNjb2RlLXJlbW90ZQ%3D%3D?line=1'>2</a>\u001b[0m good_webrtcvad[\u001b[39m'\u001b[39m\u001b[39mknn_segs\u001b[39m\u001b[39m'\u001b[39m] \u001b[39m=\u001b[39m good_webrtcvad\u001b[39m.\u001b[39;49mfilename\u001b[39m.\u001b[39;49mapply(count_segs_knn)\n",
      "File \u001b[0;32m~/.conda/envs/pyAudio/lib/python3.9/site-packages/pandas/core/series.py:4433\u001b[0m, in \u001b[0;36mSeries.apply\u001b[0;34m(self, func, convert_dtype, args, **kwargs)\u001b[0m\n\u001b[1;32m   4323\u001b[0m \u001b[39mdef\u001b[39;00m \u001b[39mapply\u001b[39m(\n\u001b[1;32m   4324\u001b[0m     \u001b[39mself\u001b[39m,\n\u001b[1;32m   4325\u001b[0m     func: AggFuncType,\n\u001b[0;32m   (...)\u001b[0m\n\u001b[1;32m   4328\u001b[0m     \u001b[39m*\u001b[39m\u001b[39m*\u001b[39mkwargs,\n\u001b[1;32m   4329\u001b[0m ) \u001b[39m-\u001b[39m\u001b[39m>\u001b[39m DataFrame \u001b[39m|\u001b[39m Series:\n\u001b[1;32m   4330\u001b[0m     \u001b[39m\"\"\"\u001b[39;00m\n\u001b[1;32m   4331\u001b[0m \u001b[39m    Invoke function on values of Series.\u001b[39;00m\n\u001b[1;32m   4332\u001b[0m \n\u001b[0;32m   (...)\u001b[0m\n\u001b[1;32m   4431\u001b[0m \u001b[39m    dtype: float64\u001b[39;00m\n\u001b[1;32m   4432\u001b[0m \u001b[39m    \"\"\"\u001b[39;00m\n\u001b[0;32m-> 4433\u001b[0m     \u001b[39mreturn\u001b[39;00m SeriesApply(\u001b[39mself\u001b[39;49m, func, convert_dtype, args, kwargs)\u001b[39m.\u001b[39;49mapply()\n",
      "File \u001b[0;32m~/.conda/envs/pyAudio/lib/python3.9/site-packages/pandas/core/apply.py:1082\u001b[0m, in \u001b[0;36mSeriesApply.apply\u001b[0;34m(self)\u001b[0m\n\u001b[1;32m   1078\u001b[0m \u001b[39mif\u001b[39;00m \u001b[39misinstance\u001b[39m(\u001b[39mself\u001b[39m\u001b[39m.\u001b[39mf, \u001b[39mstr\u001b[39m):\n\u001b[1;32m   1079\u001b[0m     \u001b[39m# if we are a string, try to dispatch\u001b[39;00m\n\u001b[1;32m   1080\u001b[0m     \u001b[39mreturn\u001b[39;00m \u001b[39mself\u001b[39m\u001b[39m.\u001b[39mapply_str()\n\u001b[0;32m-> 1082\u001b[0m \u001b[39mreturn\u001b[39;00m \u001b[39mself\u001b[39;49m\u001b[39m.\u001b[39;49mapply_standard()\n",
      "File \u001b[0;32m~/.conda/envs/pyAudio/lib/python3.9/site-packages/pandas/core/apply.py:1137\u001b[0m, in \u001b[0;36mSeriesApply.apply_standard\u001b[0;34m(self)\u001b[0m\n\u001b[1;32m   1131\u001b[0m         values \u001b[39m=\u001b[39m obj\u001b[39m.\u001b[39mastype(\u001b[39mobject\u001b[39m)\u001b[39m.\u001b[39m_values\n\u001b[1;32m   1132\u001b[0m         \u001b[39m# error: Argument 2 to \"map_infer\" has incompatible type\u001b[39;00m\n\u001b[1;32m   1133\u001b[0m         \u001b[39m# \"Union[Callable[..., Any], str, List[Union[Callable[..., Any], str]],\u001b[39;00m\n\u001b[1;32m   1134\u001b[0m         \u001b[39m# Dict[Hashable, Union[Union[Callable[..., Any], str],\u001b[39;00m\n\u001b[1;32m   1135\u001b[0m         \u001b[39m# List[Union[Callable[..., Any], str]]]]]\"; expected\u001b[39;00m\n\u001b[1;32m   1136\u001b[0m         \u001b[39m# \"Callable[[Any], Any]\"\u001b[39;00m\n\u001b[0;32m-> 1137\u001b[0m         mapped \u001b[39m=\u001b[39m lib\u001b[39m.\u001b[39;49mmap_infer(\n\u001b[1;32m   1138\u001b[0m             values,\n\u001b[1;32m   1139\u001b[0m             f,  \u001b[39m# type: ignore[arg-type]\u001b[39;49;00m\n\u001b[1;32m   1140\u001b[0m             convert\u001b[39m=\u001b[39;49m\u001b[39mself\u001b[39;49m\u001b[39m.\u001b[39;49mconvert_dtype,\n\u001b[1;32m   1141\u001b[0m         )\n\u001b[1;32m   1143\u001b[0m \u001b[39mif\u001b[39;00m \u001b[39mlen\u001b[39m(mapped) \u001b[39mand\u001b[39;00m \u001b[39misinstance\u001b[39m(mapped[\u001b[39m0\u001b[39m], ABCSeries):\n\u001b[1;32m   1144\u001b[0m     \u001b[39m# GH#43986 Need to do list(mapped) in order to get treated as nested\u001b[39;00m\n\u001b[1;32m   1145\u001b[0m     \u001b[39m#  See also GH#25959 regarding EA support\u001b[39;00m\n\u001b[1;32m   1146\u001b[0m     \u001b[39mreturn\u001b[39;00m obj\u001b[39m.\u001b[39m_constructor_expanddim(\u001b[39mlist\u001b[39m(mapped), index\u001b[39m=\u001b[39mobj\u001b[39m.\u001b[39mindex)\n",
      "File \u001b[0;32m~/.conda/envs/pyAudio/lib/python3.9/site-packages/pandas/_libs/lib.pyx:2870\u001b[0m, in \u001b[0;36mpandas._libs.lib.map_infer\u001b[0;34m()\u001b[0m\n",
      "\u001b[1;32m/home/jovyan/work/vox-grn/Projects/pyAudioAnalysis/PerformanceOnLowSeg.ipynb Cell 24\u001b[0m in \u001b[0;36mApplyClassification.__call__\u001b[0;34m(self, filename)\u001b[0m\n\u001b[1;32m     <a href='vscode-notebook-cell://ssh-remote%2Bvox-grn/home/jovyan/work/vox-grn/Projects/pyAudioAnalysis/PerformanceOnLowSeg.ipynb#X32sdnNjb2RlLXJlbW90ZQ%3D%3D?line=21'>22</a>\u001b[0m \u001b[39mdef\u001b[39;00m \u001b[39m__call__\u001b[39m(\u001b[39mself\u001b[39m, filename):\n\u001b[0;32m---> <a href='vscode-notebook-cell://ssh-remote%2Bvox-grn/home/jovyan/work/vox-grn/Projects/pyAudioAnalysis/PerformanceOnLowSeg.ipynb#X32sdnNjb2RlLXJlbW90ZQ%3D%3D?line=22'>23</a>\u001b[0m     \u001b[39mreturn\u001b[39;00m \u001b[39mlen\u001b[39m(\u001b[39mself\u001b[39;49m\u001b[39m.\u001b[39;49msegment(filename))\n",
      "\u001b[1;32m/home/jovyan/work/vox-grn/Projects/pyAudioAnalysis/PerformanceOnLowSeg.ipynb Cell 24\u001b[0m in \u001b[0;36mApplyClassification.segment\u001b[0;34m(self, filename)\u001b[0m\n\u001b[1;32m     <a href='vscode-notebook-cell://ssh-remote%2Bvox-grn/home/jovyan/work/vox-grn/Projects/pyAudioAnalysis/PerformanceOnLowSeg.ipynb#X32sdnNjb2RlLXJlbW90ZQ%3D%3D?line=15'>16</a>\u001b[0m     \u001b[39mprint\u001b[39m(\u001b[39mf\u001b[39m\u001b[39m'\u001b[39m\u001b[39mProcessing(\u001b[39m\u001b[39m{\u001b[39;00m\u001b[39mself\u001b[39m\u001b[39m.\u001b[39mcount\u001b[39m}\u001b[39;00m\u001b[39m) \u001b[39m\u001b[39m{\u001b[39;00mtime\u001b[39m.\u001b[39mtime()\u001b[39m-\u001b[39m\u001b[39mself\u001b[39m\u001b[39m.\u001b[39mstart_time\u001b[39m}\u001b[39;00m\u001b[39m: \u001b[39m\u001b[39m{\u001b[39;00mfilename\u001b[39m}\u001b[39;00m\u001b[39m'\u001b[39m)\n\u001b[1;32m     <a href='vscode-notebook-cell://ssh-remote%2Bvox-grn/home/jovyan/work/vox-grn/Projects/pyAudioAnalysis/PerformanceOnLowSeg.ipynb#X32sdnNjb2RlLXJlbW90ZQ%3D%3D?line=16'>17</a>\u001b[0m \u001b[39mself\u001b[39m\u001b[39m.\u001b[39mcount \u001b[39m+\u001b[39m\u001b[39m=\u001b[39m \u001b[39m1\u001b[39m\n\u001b[0;32m---> <a href='vscode-notebook-cell://ssh-remote%2Bvox-grn/home/jovyan/work/vox-grn/Projects/pyAudioAnalysis/PerformanceOnLowSeg.ipynb#X32sdnNjb2RlLXJlbW90ZQ%3D%3D?line=17'>18</a>\u001b[0m segments, _ \u001b[39m=\u001b[39m as_classification(\u001b[39m'\u001b[39;49m\u001b[39m/media/programs/\u001b[39;49m\u001b[39m'\u001b[39;49m \u001b[39m+\u001b[39;49m filename, \u001b[39mself\u001b[39;49m\u001b[39m.\u001b[39;49mmodel, \u001b[39mself\u001b[39;49m\u001b[39m.\u001b[39;49mmodel_type)\n\u001b[1;32m     <a href='vscode-notebook-cell://ssh-remote%2Bvox-grn/home/jovyan/work/vox-grn/Projects/pyAudioAnalysis/PerformanceOnLowSeg.ipynb#X32sdnNjb2RlLXJlbW90ZQ%3D%3D?line=18'>19</a>\u001b[0m segs \u001b[39m=\u001b[39m merge_short_segments(segments)\n\u001b[1;32m     <a href='vscode-notebook-cell://ssh-remote%2Bvox-grn/home/jovyan/work/vox-grn/Projects/pyAudioAnalysis/PerformanceOnLowSeg.ipynb#X32sdnNjb2RlLXJlbW90ZQ%3D%3D?line=19'>20</a>\u001b[0m \u001b[39mreturn\u001b[39;00m divide_into_4sec_speech_epochs(segs, [])\n",
      "\u001b[1;32m/home/jovyan/work/vox-grn/Projects/pyAudioAnalysis/PerformanceOnLowSeg.ipynb Cell 24\u001b[0m in \u001b[0;36mas_classification\u001b[0;34m(input_file, model_name, model_type)\u001b[0m\n\u001b[1;32m     <a href='vscode-notebook-cell://ssh-remote%2Bvox-grn/home/jovyan/work/vox-grn/Projects/pyAudioAnalysis/PerformanceOnLowSeg.ipynb#X32sdnNjb2RlLXJlbW90ZQ%3D%3D?line=46'>47</a>\u001b[0m signal \u001b[39m=\u001b[39m audioBasicIO\u001b[39m.\u001b[39mstereo_to_mono(signal)\n\u001b[1;32m     <a href='vscode-notebook-cell://ssh-remote%2Bvox-grn/home/jovyan/work/vox-grn/Projects/pyAudioAnalysis/PerformanceOnLowSeg.ipynb#X32sdnNjb2RlLXJlbW90ZQ%3D%3D?line=48'>49</a>\u001b[0m \u001b[39m# mid-term feature extraction:\u001b[39;00m\n\u001b[1;32m     <a href='vscode-notebook-cell://ssh-remote%2Bvox-grn/home/jovyan/work/vox-grn/Projects/pyAudioAnalysis/PerformanceOnLowSeg.ipynb#X32sdnNjb2RlLXJlbW90ZQ%3D%3D?line=49'>50</a>\u001b[0m mt_feats, _, _ \u001b[39m=\u001b[39m \\\n\u001b[0;32m---> <a href='vscode-notebook-cell://ssh-remote%2Bvox-grn/home/jovyan/work/vox-grn/Projects/pyAudioAnalysis/PerformanceOnLowSeg.ipynb#X32sdnNjb2RlLXJlbW90ZQ%3D%3D?line=50'>51</a>\u001b[0m     mtf\u001b[39m.\u001b[39;49mmid_feature_extraction(signal, sampling_rate,\n\u001b[1;32m     <a href='vscode-notebook-cell://ssh-remote%2Bvox-grn/home/jovyan/work/vox-grn/Projects/pyAudioAnalysis/PerformanceOnLowSeg.ipynb#X32sdnNjb2RlLXJlbW90ZQ%3D%3D?line=51'>52</a>\u001b[0m                                mt_win \u001b[39m*\u001b[39;49m sampling_rate,\n\u001b[1;32m     <a href='vscode-notebook-cell://ssh-remote%2Bvox-grn/home/jovyan/work/vox-grn/Projects/pyAudioAnalysis/PerformanceOnLowSeg.ipynb#X32sdnNjb2RlLXJlbW90ZQ%3D%3D?line=52'>53</a>\u001b[0m                                mid_step \u001b[39m*\u001b[39;49m sampling_rate,\n\u001b[1;32m     <a href='vscode-notebook-cell://ssh-remote%2Bvox-grn/home/jovyan/work/vox-grn/Projects/pyAudioAnalysis/PerformanceOnLowSeg.ipynb#X32sdnNjb2RlLXJlbW90ZQ%3D%3D?line=53'>54</a>\u001b[0m                                \u001b[39mround\u001b[39;49m(sampling_rate \u001b[39m*\u001b[39;49m st_win),\n\u001b[1;32m     <a href='vscode-notebook-cell://ssh-remote%2Bvox-grn/home/jovyan/work/vox-grn/Projects/pyAudioAnalysis/PerformanceOnLowSeg.ipynb#X32sdnNjb2RlLXJlbW90ZQ%3D%3D?line=54'>55</a>\u001b[0m                                \u001b[39mround\u001b[39;49m(sampling_rate \u001b[39m*\u001b[39;49m st_step))\n\u001b[1;32m     <a href='vscode-notebook-cell://ssh-remote%2Bvox-grn/home/jovyan/work/vox-grn/Projects/pyAudioAnalysis/PerformanceOnLowSeg.ipynb#X32sdnNjb2RlLXJlbW90ZQ%3D%3D?line=55'>56</a>\u001b[0m posterior_matrix \u001b[39m=\u001b[39m []\n\u001b[1;32m     <a href='vscode-notebook-cell://ssh-remote%2Bvox-grn/home/jovyan/work/vox-grn/Projects/pyAudioAnalysis/PerformanceOnLowSeg.ipynb#X32sdnNjb2RlLXJlbW90ZQ%3D%3D?line=57'>58</a>\u001b[0m \u001b[39m# for each feature vector (i.e. for each fix-sized segment):\u001b[39;00m\n",
      "File \u001b[0;32m~/.conda/envs/pyAudio/lib/python3.9/site-packages/pyAudioAnalysis/MidTermFeatures.py:94\u001b[0m, in \u001b[0;36mmid_feature_extraction\u001b[0;34m(signal, sampling_rate, mid_window, mid_step, short_window, short_step)\u001b[0m\n\u001b[1;32m     87\u001b[0m \u001b[39mdef\u001b[39;00m \u001b[39mmid_feature_extraction\u001b[39m(signal, sampling_rate, mid_window, mid_step,\n\u001b[1;32m     88\u001b[0m                            short_window, short_step):\n\u001b[1;32m     89\u001b[0m     \u001b[39m\"\"\"\u001b[39;00m\n\u001b[1;32m     90\u001b[0m \u001b[39m    Mid-term feature extraction\u001b[39;00m\n\u001b[1;32m     91\u001b[0m \u001b[39m    \"\"\"\u001b[39;00m\n\u001b[1;32m     93\u001b[0m     short_features, short_feature_names \u001b[39m=\u001b[39m \\\n\u001b[0;32m---> 94\u001b[0m         ShortTermFeatures\u001b[39m.\u001b[39;49mfeature_extraction(signal, sampling_rate,\n\u001b[1;32m     95\u001b[0m                                              short_window, short_step)\n\u001b[1;32m     97\u001b[0m     n_stats \u001b[39m=\u001b[39m \u001b[39m2\u001b[39m\n\u001b[1;32m     98\u001b[0m     n_feats \u001b[39m=\u001b[39m \u001b[39mlen\u001b[39m(short_features)\n",
      "File \u001b[0;32m~/.conda/envs/pyAudio/lib/python3.9/site-packages/pyAudioAnalysis/ShortTermFeatures.py:662\u001b[0m, in \u001b[0;36mfeature_extraction\u001b[0;34m(signal, sampling_rate, window, step, deltas)\u001b[0m\n\u001b[1;32m    657\u001b[0m feature_vector[n_time_spectral_feats:mffc_feats_end, \u001b[39m0\u001b[39m] \u001b[39m=\u001b[39m \\\n\u001b[1;32m    658\u001b[0m     mfcc(fft_magnitude, fbank, n_mfcc_feats)\u001b[39m.\u001b[39mcopy()\n\u001b[1;32m    660\u001b[0m \u001b[39m# chroma features\u001b[39;00m\n\u001b[1;32m    661\u001b[0m chroma_names, chroma_feature_matrix \u001b[39m=\u001b[39m \\\n\u001b[0;32m--> 662\u001b[0m     chroma_features(fft_magnitude, sampling_rate, num_fft)\n\u001b[1;32m    663\u001b[0m chroma_features_end \u001b[39m=\u001b[39m n_time_spectral_feats \u001b[39m+\u001b[39m n_mfcc_feats \u001b[39m+\u001b[39m \\\n\u001b[1;32m    664\u001b[0m                       n_chroma_feats \u001b[39m-\u001b[39m \u001b[39m1\u001b[39m\n\u001b[1;32m    665\u001b[0m feature_vector[mffc_feats_end:chroma_features_end] \u001b[39m=\u001b[39m \\\n\u001b[1;32m    666\u001b[0m     chroma_feature_matrix\n",
      "File \u001b[0;32m~/.conda/envs/pyAudio/lib/python3.9/site-packages/pyAudioAnalysis/ShortTermFeatures.py:282\u001b[0m, in \u001b[0;36mchroma_features\u001b[0;34m(signal, sampling_rate, num_fft)\u001b[0m\n\u001b[1;32m    277\u001b[0m \u001b[39mdef\u001b[39;00m \u001b[39mchroma_features\u001b[39m(signal, sampling_rate, num_fft):\n\u001b[1;32m    278\u001b[0m     \u001b[39m# TODO: 1 complexity\u001b[39;00m\n\u001b[1;32m    279\u001b[0m     \u001b[39m# TODO: 2 bug with large windows\u001b[39;00m\n\u001b[1;32m    281\u001b[0m     num_chroma, num_freqs_per_chroma \u001b[39m=\u001b[39m \\\n\u001b[0;32m--> 282\u001b[0m         chroma_features_init(num_fft, sampling_rate)\n\u001b[1;32m    283\u001b[0m     chroma_names \u001b[39m=\u001b[39m [\u001b[39m'\u001b[39m\u001b[39mA\u001b[39m\u001b[39m'\u001b[39m, \u001b[39m'\u001b[39m\u001b[39mA#\u001b[39m\u001b[39m'\u001b[39m, \u001b[39m'\u001b[39m\u001b[39mB\u001b[39m\u001b[39m'\u001b[39m, \u001b[39m'\u001b[39m\u001b[39mC\u001b[39m\u001b[39m'\u001b[39m, \u001b[39m'\u001b[39m\u001b[39mC#\u001b[39m\u001b[39m'\u001b[39m, \u001b[39m'\u001b[39m\u001b[39mD\u001b[39m\u001b[39m'\u001b[39m,\n\u001b[1;32m    284\u001b[0m                     \u001b[39m'\u001b[39m\u001b[39mD#\u001b[39m\u001b[39m'\u001b[39m, \u001b[39m'\u001b[39m\u001b[39mE\u001b[39m\u001b[39m'\u001b[39m, \u001b[39m'\u001b[39m\u001b[39mF\u001b[39m\u001b[39m'\u001b[39m, \u001b[39m'\u001b[39m\u001b[39mF#\u001b[39m\u001b[39m'\u001b[39m, \u001b[39m'\u001b[39m\u001b[39mG\u001b[39m\u001b[39m'\u001b[39m, \u001b[39m'\u001b[39m\u001b[39mG#\u001b[39m\u001b[39m'\u001b[39m]\n\u001b[1;32m    285\u001b[0m     spec \u001b[39m=\u001b[39m signal \u001b[39m*\u001b[39m\u001b[39m*\u001b[39m \u001b[39m2\u001b[39m\n",
      "File \u001b[0;32m~/.conda/envs/pyAudio/lib/python3.9/site-packages/pyAudioAnalysis/ShortTermFeatures.py:272\u001b[0m, in \u001b[0;36mchroma_features_init\u001b[0;34m(num_fft, sampling_rate)\u001b[0m\n\u001b[1;32m    270\u001b[0m \u001b[39mfor\u001b[39;00m u \u001b[39min\u001b[39;00m unique_chroma:\n\u001b[1;32m    271\u001b[0m     idx \u001b[39m=\u001b[39m np\u001b[39m.\u001b[39mnonzero(num_chroma \u001b[39m==\u001b[39m u)\n\u001b[0;32m--> 272\u001b[0m     num_freqs_per_chroma[idx] \u001b[39m=\u001b[39m idx[\u001b[39m0\u001b[39m]\u001b[39m.\u001b[39mshape\n\u001b[1;32m    274\u001b[0m \u001b[39mreturn\u001b[39;00m num_chroma, num_freqs_per_chroma\n",
      "\u001b[0;31mKeyboardInterrupt\u001b[0m: "
     ]
    }
   ],
   "source": [
    "count_segs_knn = ApplyClassification('knn')\n",
    "good_webrtcvad['knn_segs'] = good_webrtcvad.filename.apply(count_segs_knn)\n"
   ]
  },
  {
   "cell_type": "code",
   "execution_count": null,
   "metadata": {},
   "outputs": [],
   "source": [
    "count_segs_svm = ApplyClassification('svm')\n",
    "good_webrtcvad['svm_segs'] = good_webrtcvad.filename.apply(count_segs_svm)"
   ]
  },
  {
   "cell_type": "code",
   "execution_count": 37,
   "metadata": {},
   "outputs": [],
   "source": [
    "good_webrtcvad.to_csv('../../data/good_webrtcvad.csv')"
   ]
  },
  {
   "attachments": {},
   "cell_type": "markdown",
   "metadata": {},
   "source": [
    "Lets see how many segments were found by each on files where I though webrtcvad was good."
   ]
  },
  {
   "cell_type": "code",
   "execution_count": 38,
   "metadata": {},
   "outputs": [
    {
     "name": "stdout",
     "output_type": "stream",
     "text": [
      "webrctvad: 8000 knn: 13563 svm: 16020\n"
     ]
    }
   ],
   "source": [
    "print(f'webrctvad: {sum(good_webrtcvad.segments)} knn: {sum(good_webrtcvad.knn_segs)} svm: {sum(good_webrtcvad.svm_segs)}')"
   ]
  },
  {
   "attachments": {},
   "cell_type": "markdown",
   "metadata": {},
   "source": [
    "OK - lets see what happened with the other data sets."
   ]
  },
  {
   "cell_type": "code",
   "execution_count": 42,
   "metadata": {},
   "outputs": [],
   "source": [
    "def get_file(row):\n",
    "    return row.path + row.file if row.path[-1] =='/' else row.path + '/' + row.file\n",
    "    \n",
    "instrumental_file = instrumental.apply(get_file, axis=1)\n",
    "instrument = instrumental_file.value_counts().to_frame().reset_index()\n",
    "instrument.rename(columns={'index':'filename', 0:'segments'}, inplace=True)\n"
   ]
  },
  {
   "cell_type": "code",
   "execution_count": 43,
   "metadata": {},
   "outputs": [
    {
     "name": "stdout",
     "output_type": "stream",
     "text": [
      "Processing(0) 0.0006053447723388672: Programs/63/63339/A63339/PM-1003/A63339-01.wav\n",
      "Processing(10) 96.1436607837677: Programs/01/01901/A01901/From_CM/C01901A-01.wav\n",
      "Processing(20) 155.15182852745056: Programs/80/80474/A80474/PM-0901/A80474-11.wav\n",
      "Processing(30) 201.30797791481018: Programs/80/80865/A80865/PM-0907/A80865-42.wav\n",
      "Processing(40) 257.2413582801819: Programs/62/62707/A62707/PM0709/A62707-27.wav\n",
      "Processing(50) 305.81438279151917: Programs/62/62614/A62614/PM-0706/A62614-41.wav\n",
      "Processing(60) 353.3297028541565: Programs/62/62902/A62902/PM0809/A62902-10.wav\n",
      "Processing(70) 401.978173494339: Programs/66/66718/A66718/PM-2010/A66718-08.wav\n",
      "Processing(80) 447.29798650741577: Programs/65/65478/A65478/PM-1703-24bit/A65478-026.wav\n",
      "Processing(90) 484.1585006713867: Programs/75/75066/A75066/From_CM/A75066-05.wav\n",
      "Processing(100) 520.3748934268951: Programs/35/35770/A35770/From_CM/C35770A(10).wav\n",
      "Processing(110) 545.1551489830017: Programs/63/63981/A63981/PM-1212/A63981-001.wav\n",
      "Processing(120) 574.7551786899567: Programs/80/80999/A80999/PM/A80999-0406-28.wav\n",
      "Processing(130) 609.2136752605438: Programs/16/16011/A16011/MM/A16011-03.wav\n",
      "Processing(140) 636.4134871959686: Programs/62/62441/A62441/From_CM/C62441A(21).wav\n",
      "Processing(150) 669.087320804596: Programs/66/66198/A66198/PM-1903/A66198-025.wav\n",
      "Processing(160) 703.4442491531372: Programs/21/21510/A21510/From_CM/C21510A Region 00_00_00_000 to 00_01_03_487 (01 _ 02).wav\n",
      "Processing(170) 731.282680273056: Programs/04/04350/A04350/From_CM/C04350B Region 00_15_48_885 to 00_17_44_137 (05 _ 06).wav\n",
      "Processing(180) 754.009081363678: Programs/26/26060/A26060/From_CM/C26060A Region 00_00_00_000 to 00_04_16_106 (01 _ 02).wav\n",
      "Processing(190) 785.9882483482361: Programs/14/14960/A14960/From_CM/C14960A Region 00_28_59_252 to 00_30_24_577 (05 _ .wav\n",
      "Processing(200) 816.6941072940826: Programs/29/29811/A29811/From_CM/C29811A Region 00_00_00_000 to 00_01_55_498 (01 _ 02).wav\n",
      "Processing(210) 838.7312743663788: Programs/29/29860/A29860/PM-Clone/A29860-42.wav\n",
      "Processing(220) 862.1556677818298: Programs/75/75066/A75066/From_CM/A75066-08.wav\n",
      "Processing(230) 889.1860196590424: Programs/07/07541/A07541/MM/A07541-06.wav\n",
      "Processing(240) 922.6128523349762: Programs/62/62428/A62428/PM/A62428-42.wav\n",
      "Processing(250) 962.1600522994995: Programs/17/17841/A17841/From_CM/C17841A(07).wav\n",
      "Processing(260) 987.7678279876709: Programs/81/81019/A81019/PM-1506/A81019-039.wav\n",
      "Processing(270) 1010.470508813858: Programs/25/25261/A25261/PM-0910/A25261-16.wav\n",
      "Processing(280) 1034.4202971458435: Programs/11/11041/A11041/From_CM/C11041B Region 00_02_02_032 to 00_03_03_359 (04 _ 05).wav\n",
      "Processing(290) 1058.9030418395996: Programs/25/25880/A25880/From_CM/C25880A(7).wav\n",
      "Processing(300) 1090.6842935085297: Programs/03/03550/A03550/From_CM/C03550B Region 00_16_11_264 to 00_16_39_082 (04 _ 05).wav\n",
      "Processing(310) 1109.284610748291: Programs/01/01000/A01000/From_CM/C01000A Region 00_21_39_584 to 00_22_17_.wav\n",
      "Processing(320) 1128.7413985729218: Programs/60/60054/A60054/PM-0905/A60054-11.wav\n",
      "Processing(330) 1150.4699530601501: Programs/80/80490/A80490/From_CM/A80490-14.wav\n",
      "Processing(340) 1170.9181780815125: Programs/20/20761/A20761/From_CM/C20761-07.wav\n",
      "Processing(350) 1182.598738193512: Programs/21/21441/A21441/From_CM/C21441A Region 00_04_40_213 to 00_05_14_911 (05 _ 06).wav\n",
      "Processing(360) 1199.83034658432: Programs/62/62850/A62850/PM-1304/A62850-001.wav\n",
      "Processing(370) 1225.8250982761383: Programs/20/20920/A20920/From_CM/C20920B Region 00_03_36_224 to 00_04_07_640 (03 _ 04).wav\n",
      "Processing(380) 1243.071281194687: Programs/80/80639/A80639/PM-1308/A80639-001.wav\n",
      "Processing(390) 1262.0026512145996: Programs/80/80490/A80490/From_CM/A80490-05.wav\n",
      "Processing(400) 1278.6150636672974: Programs/21/21920/A21920/MM/A21920-11.wav\n",
      "Processing(410) 1292.6273696422577: Programs/78/78040/A78040/PM-1209/A78040-01.wav\n",
      "Processing(420) 1314.6381576061249: Programs/64/64502/A64502/PM-1407/A64502-001.wav\n",
      "Processing(430) 1332.773648262024: Programs/11/11041/A11041/From_CM/C11041A Region 00_18_52_501 to 00_19_53_813 (08 _ 09).wav\n",
      "Processing(440) 1347.7789542675018: Programs/20/20880/A20880/From_CM/C20880B Region 00_18_39_745 to 00_19_05_045 (23 _ 24).wav\n",
      "Processing(450) 1367.0680055618286: Programs/20/20100/A20100/PM-0911/A2010007.wav\n",
      "Processing(460) 1382.8999400138855: Programs/21/21441/A21441/From_CM/C21441B Region 00_06_25_984 to 00_06_50_389 (05 _ 06).wav\n",
      "Processing(470) 1400.6112813949585: Programs/23/23321/A23321/MM/A23321-19.wav\n",
      "Processing(480) 1417.588284254074: Programs/80/80105/A80105/PM/A80105-17.wav\n",
      "Processing(490) 1436.179031610489: Programs/78/78070/A78070/From_CM/C78070A(07).wav\n",
      "Processing(500) 1454.4936521053314: Programs/80/80394/A80394/PM-0911/A80394-19.wav\n",
      "Processing(510) 1476.9922370910645: Programs/21/21440/A21440/From_CM/C21440B Region 00_03_44_576 to 00_04_02_522 (03 _ 04).wav\n",
      "Processing(520) 1493.1631698608398: Programs/80/80629/A80629/From_CM/C80629A(01).wav\n",
      "Processing(530) 1514.4700825214386: Programs/80/80107/A80107/PM-0805/A80107-34.wav\n",
      "Processing(540) 1543.3319618701935: Programs/63/63280/A63280/PM-1402/A63280-037.wav\n",
      "Processing(550) 1569.3157765865326: vox_grn/Audio_MP3/11/11250/Doteli Words of Life 001 Introduction - Guitar 11250.mp3\n",
      "Processing(560) 1581.4846851825714: Programs/82/82226/A82226/PM-1601/A82226-1601-015.wav\n",
      "Processing(570) 1601.0567681789398: Programs/37/37546/A37546/From_CM/37546026.wav\n",
      "Processing(580) 1622.2605819702148: Programs/63/63556/A63556/PM-1104/A63556-15.wav\n",
      "Processing(590) 1639.7376470565796: Programs/22/22591/A22591/From_CM_au/C22591-01.wav\n",
      "Processing(600) 1657.3592660427094: Programs/80/80847/A80847/PM-1305/A80847-041.wav\n",
      "Processing(610) 1670.7976458072662: Programs/02/02780/A02780/MM/A02780-03.wav\n",
      "Processing(620) 1690.3156068325043: Programs/84/84139/A84139/PM-0809/A84139-41.wav\n",
      "Processing(630) 1706.0092763900757: Programs/35/35771/A35771/From_CM/C35771A(01).wav\n",
      "Processing(640) 1720.876006603241: Programs/27/27771/A27771/From_CM/27771003.wav\n",
      "Processing(650) 1742.9637968540192: Programs/17/17440/A17440/From_CM/C17440B Region 00_04_34_688 to 00_05_10_399 (03 _ 04).wav\n",
      "Processing(660) 1756.6184332370758: Programs/20/20731/A20731/PM-0905/A20731-01.wav\n",
      "Processing(670) 1768.3186378479004: Programs/11/11720/A11720/MM/A11720-01.wav\n",
      "Processing(680) 1779.38964509964: Programs/63/63201/A63201/PM-0912/A63201-08.wav\n",
      "Processing(690) 1802.3279967308044: Programs/17/17481/A17481/MM/A17481-09.wav\n",
      "Processing(700) 1813.5987350940704: Programs/23/23120/A23120/MM/A23120-19.wav\n",
      "Processing(710) 1825.4856977462769: Programs/22/22870/A22870/MM/A22870-06.wav\n",
      "Processing(720) 1842.5231094360352: Programs/20/20700/A20700/PM-0905/A20700-06.wav\n",
      "Processing(730) 1854.451275587082: Programs/23/23281/A23281/MM/A23281-23.wav\n",
      "Processing(740) 1870.7791702747345: Programs/23/23230/A23230/From_CM/A23230-14.wav\n",
      "Processing(750) 1885.3295512199402: Programs/65/65951/A65951/PM-1810/A65951-009.wav\n",
      "Processing(760) 1901.0923554897308: Programs/00/00450/A00450/From_CM/C00450B-08.wav\n",
      "Processing(770) 1915.398654460907: Programs/82/82670/A82670/from_CM_MP3/C82670B Region 00_13_00_543 to 00_13_12_191 (09 _ 10).mp3\n",
      "Processing(780) 1925.2211158275604: Programs/22/22461/A22461/From_CM/C22461A Region 00_00_00_000 to 00_00_12_317 (01 _ 02).wav\n",
      "Processing(790) 1943.1676964759827: Programs/65/65951/A65951/PM-1810/A65951-011.wav\n",
      "Processing(800) 1962.6792232990265: Programs/26/26010/A26010/From_CM/C26010B Region 00_00_00_000 to 00_00_51_797 (01 _ 02).wav\n",
      "Processing(810) 1979.1973059177399: Programs/19/19630/A19630/From_CM/C19630A Region 00_22_41_920 to 00_22_52_.wav\n",
      "Processing(820) 1996.57057929039: Programs/13/13631/A13631/MM/A13631-11.wav\n",
      "Processing(830) 2006.0372433662415: Programs/13/13631/A13631/MM/A13631-09.wav\n",
      "Processing(840) 2031.7751626968384: Programs/30/30621/A30621/PM/A30621-06.wav\n",
      "Processing(850) 2045.0718936920166: Programs/20/20100/A20100/PM-0911/A2010015.wav\n",
      "Processing(860) 2060.3885300159454: Programs/11/11701/A11701/From_CM/A11701-01.wav\n",
      "Processing(870) 2071.0724902153015: Programs/20/20170/A20170/From_CM/C20170B Region 00_00_00_000 to 00_00_06_314 (01 _ 02).wav\n",
      "Processing(880) 2081.9205374717712: Programs/11/11720/A11720/MM/A11720-16.wav\n",
      "Processing(890) 2097.8971843719482: Programs/23/23831/A23831/PM-Clone/A23831-03.wav\n",
      "Processing(900) 2111.3004994392395: Programs/80/80635/A80635/From_CM/C80635B Region 00_13_24_266 to 00_13_54_013 (15 _ 16).wav\n",
      "Processing(910) 2132.1612203121185: Programs/65/65624/A65624/PM-1707/A65624-43.wav\n",
      "Processing(920) 2168.797667503357: Programs/17/17040/A17040/From_CM/C17040A Region 00_00_00_000 to 00_00_06_911 (01 _ 02).wav\n",
      "Processing(930) 2186.1984486579895: Programs/75/75241/A75241/PM-8908/A75241-03.wav\n",
      "Processing(940) 2199.694670200348: Programs/23/23000/A23000/From_CM/C23000B Region 00_00_00_000 to 00_00_39_365 (01 _ 02).wav\n",
      "Processing(950) 2214.873041152954: Programs/82/82228/A82228/PM-1601/A82228-1601-015.wav\n",
      "Processing(960) 2231.9671177864075: Programs/27/27771/A27771/From_CM/27771005.wav\n",
      "Processing(970) 2248.1854808330536: Programs/60/60051/A60051/PM-0907/A60051-16.wav\n",
      "Processing(980) 2263.5848784446716: Programs/26/26091/A26091/From_CM/C26091A Region 00_07_55_136 to 00_09_15_194 (03 _ 04).wav\n",
      "Processing(990) 2275.77019405365: Programs/80/80391/A80391/PM-0911/A80391-11.wav\n",
      "Processing(1000) 2286.360408782959: Programs/80/80396/A80396/PM-0911/A80396-28.wav\n",
      "Processing(1010) 2296.603455543518: Programs/80/80976/A80976/PM/A80976-42.wav\n",
      "Processing(1020) 2309.8926174640656: Programs/80/80850/A80850/PM-0412/A80850-01.wav\n",
      "Processing(1030) 2320.81117272377: Programs/65/65632/A65632/PM-1707/A65632-01.wav\n",
      "Processing(1040) 2328.7117149829865: Programs/75/75353/A75353/0905/A75353-06.wav\n",
      "Processing(1050) 2342.4375262260437: Programs/62/62868/A62868/PM-0807/A62868-41.wav\n",
      "Processing(0) 0.0002028942108154297: Programs/63/63339/A63339/PM-1003/A63339-01.wav\n",
      "Processing(10) 85.62401962280273: Programs/01/01901/A01901/From_CM/C01901A-01.wav\n",
      "Processing(20) 137.30108428001404: Programs/80/80474/A80474/PM-0901/A80474-11.wav\n",
      "Processing(30) 177.10612058639526: Programs/80/80865/A80865/PM-0907/A80865-42.wav\n",
      "Processing(40) 225.43168377876282: Programs/62/62707/A62707/PM0709/A62707-27.wav\n",
      "Processing(50) 268.0690655708313: Programs/62/62614/A62614/PM-0706/A62614-41.wav\n",
      "Processing(60) 310.43043327331543: Programs/62/62902/A62902/PM0809/A62902-10.wav\n",
      "Processing(70) 354.0093927383423: Programs/66/66718/A66718/PM-2010/A66718-08.wav\n",
      "Processing(80) 394.4102897644043: Programs/65/65478/A65478/PM-1703-24bit/A65478-026.wav\n",
      "Processing(90) 426.8362195491791: Programs/75/75066/A75066/From_CM/A75066-05.wav\n",
      "Processing(100) 458.6386778354645: Programs/35/35770/A35770/From_CM/C35770A(10).wav\n",
      "Processing(110) 479.44181394577026: Programs/63/63981/A63981/PM-1212/A63981-001.wav\n",
      "Processing(120) 504.7677843570709: Programs/80/80999/A80999/PM/A80999-0406-28.wav\n",
      "Processing(130) 534.454466342926: Programs/16/16011/A16011/MM/A16011-03.wav\n",
      "Processing(140) 557.8098254203796: Programs/62/62441/A62441/From_CM/C62441A(21).wav\n",
      "Processing(150) 585.8681464195251: Programs/66/66198/A66198/PM-1903/A66198-025.wav\n",
      "Processing(160) 616.0234968662262: Programs/21/21510/A21510/From_CM/C21510A Region 00_00_00_000 to 00_01_03_487 (01 _ 02).wav\n",
      "Processing(170) 639.7170474529266: Programs/04/04350/A04350/From_CM/C04350B Region 00_15_48_885 to 00_17_44_137 (05 _ 06).wav\n",
      "Processing(180) 658.6683259010315: Programs/26/26060/A26060/From_CM/C26060A Region 00_00_00_000 to 00_04_16_106 (01 _ 02).wav\n",
      "Processing(190) 686.3660926818848: Programs/14/14960/A14960/From_CM/C14960A Region 00_28_59_252 to 00_30_24_577 (05 _ .wav\n",
      "Processing(200) 712.8502733707428: Programs/29/29811/A29811/From_CM/C29811A Region 00_00_00_000 to 00_01_55_498 (01 _ 02).wav\n",
      "Processing(210) 731.3214802742004: Programs/29/29860/A29860/PM-Clone/A29860-42.wav\n",
      "Processing(220) 751.179975271225: Programs/75/75066/A75066/From_CM/A75066-08.wav\n",
      "Processing(230) 774.2002198696136: Programs/07/07541/A07541/MM/A07541-06.wav\n",
      "Processing(240) 803.0889160633087: Programs/62/62428/A62428/PM/A62428-42.wav\n",
      "Processing(250) 837.6919405460358: Programs/17/17841/A17841/From_CM/C17841A(07).wav\n",
      "Processing(260) 859.3473439216614: Programs/81/81019/A81019/PM-1506/A81019-039.wav\n",
      "Processing(270) 878.4351181983948: Programs/25/25261/A25261/PM-0910/A25261-16.wav\n",
      "Processing(280) 898.5860164165497: Programs/11/11041/A11041/From_CM/C11041B Region 00_02_02_032 to 00_03_03_359 (04 _ 05).wav\n",
      "Processing(290) 919.1795754432678: Programs/25/25880/A25880/From_CM/C25880A(7).wav\n",
      "Processing(300) 946.4393434524536: Programs/03/03550/A03550/From_CM/C03550B Region 00_16_11_264 to 00_16_39_082 (04 _ 05).wav\n",
      "Processing(310) 961.6037149429321: Programs/01/01000/A01000/From_CM/C01000A Region 00_21_39_584 to 00_22_17_.wav\n",
      "Processing(320) 977.6269912719727: Programs/60/60054/A60054/PM-0905/A60054-11.wav\n",
      "Processing(330) 995.9930458068848: Programs/80/80490/A80490/From_CM/A80490-14.wav\n",
      "Processing(340) 1012.8622324466705: Programs/20/20761/A20761/From_CM/C20761-07.wav\n",
      "Processing(350) 1021.5887253284454: Programs/21/21441/A21441/From_CM/C21441A Region 00_04_40_213 to 00_05_14_911 (05 _ 06).wav\n",
      "Processing(360) 1035.6477801799774: Programs/62/62850/A62850/PM-1304/A62850-001.wav\n",
      "Processing(370) 1057.6731283664703: Programs/20/20920/A20920/From_CM/C20920B Region 00_03_36_224 to 00_04_07_640 (03 _ 04).wav\n",
      "Processing(380) 1071.4936347007751: Programs/80/80639/A80639/PM-1308/A80639-001.wav\n",
      "Processing(390) 1086.9112932682037: Programs/80/80490/A80490/From_CM/A80490-05.wav\n",
      "Processing(400) 1100.0993235111237: Programs/21/21920/A21920/MM/A21920-11.wav\n",
      "Processing(410) 1110.939693927765: Programs/78/78040/A78040/PM-1209/A78040-01.wav\n",
      "Processing(420) 1129.0214385986328: Programs/64/64502/A64502/PM-1407/A64502-001.wav\n",
      "Processing(430) 1143.7013397216797: Programs/11/11041/A11041/From_CM/C11041A Region 00_18_52_501 to 00_19_53_813 (08 _ 09).wav\n",
      "Processing(440) 1155.5828301906586: Programs/20/20880/A20880/From_CM/C20880B Region 00_18_39_745 to 00_19_05_045 (23 _ 24).wav\n",
      "Processing(450) 1171.2163071632385: Programs/20/20100/A20100/PM-0911/A2010007.wav\n",
      "Processing(460) 1183.7024562358856: Programs/21/21441/A21441/From_CM/C21441B Region 00_06_25_984 to 00_06_50_389 (05 _ 06).wav\n",
      "Processing(470) 1197.7933168411255: Programs/23/23321/A23321/MM/A23321-19.wav\n",
      "Processing(480) 1211.1903479099274: Programs/80/80105/A80105/PM/A80105-17.wav\n",
      "Processing(490) 1226.2766025066376: Programs/78/78070/A78070/From_CM/C78070A(07).wav\n",
      "Processing(500) 1240.913845539093: Programs/80/80394/A80394/PM-0911/A80394-19.wav\n",
      "Processing(510) 1259.6455118656158: Programs/21/21440/A21440/From_CM/C21440B Region 00_03_44_576 to 00_04_02_522 (03 _ 04).wav\n",
      "Processing(520) 1272.3908553123474: Programs/80/80629/A80629/From_CM/C80629A(01).wav\n",
      "Processing(530) 1290.5213840007782: Programs/80/80107/A80107/PM-0805/A80107-34.wav\n",
      "Processing(540) 1315.9142761230469: Programs/63/63280/A63280/PM-1402/A63280-037.wav\n",
      "Processing(550) 1338.6485776901245: vox_grn/Audio_MP3/11/11250/Doteli Words of Life 001 Introduction - Guitar 11250.mp3\n",
      "Processing(560) 1347.5324790477753: Programs/82/82226/A82226/PM-1601/A82226-1601-015.wav\n",
      "Processing(570) 1363.1995599269867: Programs/37/37546/A37546/From_CM/37546026.wav\n",
      "Processing(580) 1380.533539056778: Programs/63/63556/A63556/PM-1104/A63556-15.wav\n",
      "Processing(590) 1394.3921208381653: Programs/22/22591/A22591/From_CM_au/C22591-01.wav\n",
      "Processing(600) 1408.1076965332031: Programs/80/80847/A80847/PM-1305/A80847-041.wav\n",
      "Processing(610) 1418.1688580513: Programs/02/02780/A02780/MM/A02780-03.wav\n",
      "Processing(620) 1433.5650238990784: Programs/84/84139/A84139/PM-0809/A84139-41.wav\n",
      "Processing(630) 1445.5127856731415: Programs/35/35771/A35771/From_CM/C35771A(01).wav\n",
      "Processing(640) 1456.8105998039246: Programs/27/27771/A27771/From_CM/27771003.wav\n",
      "Processing(650) 1474.280205488205: Programs/17/17440/A17440/From_CM/C17440B Region 00_04_34_688 to 00_05_10_399 (03 _ 04).wav\n",
      "Processing(660) 1484.4410104751587: Programs/20/20731/A20731/PM-0905/A20731-01.wav\n",
      "Processing(670) 1492.6415078639984: Programs/11/11720/A11720/MM/A11720-01.wav\n",
      "Processing(680) 1500.8096146583557: Programs/63/63201/A63201/PM-0912/A63201-08.wav\n",
      "Processing(690) 1520.058338880539: Programs/17/17481/A17481/MM/A17481-09.wav\n",
      "Processing(700) 1528.7083194255829: Programs/23/23120/A23120/MM/A23120-19.wav\n",
      "Processing(710) 1537.9122800827026: Programs/22/22870/A22870/MM/A22870-06.wav\n",
      "Processing(720) 1551.9985473155975: Programs/20/20700/A20700/PM-0905/A20700-06.wav\n",
      "Processing(730) 1561.3255500793457: Programs/23/23281/A23281/MM/A23281-23.wav\n",
      "Processing(740) 1574.6672945022583: Programs/23/23230/A23230/From_CM/A23230-14.wav\n",
      "Processing(750) 1586.178156375885: Programs/65/65951/A65951/PM-1810/A65951-009.wav\n",
      "Processing(760) 1598.9488544464111: Programs/00/00450/A00450/From_CM/C00450B-08.wav\n",
      "Processing(770) 1610.412746667862: Programs/82/82670/A82670/from_CM_MP3/C82670B Region 00_13_00_543 to 00_13_12_191 (09 _ 10).mp3\n",
      "Processing(780) 1617.0518918037415: Programs/22/22461/A22461/From_CM/C22461A Region 00_00_00_000 to 00_00_12_317 (01 _ 02).wav\n",
      "Processing(790) 1631.1555545330048: Programs/65/65951/A65951/PM-1810/A65951-011.wav\n",
      "Processing(800) 1647.3442573547363: Programs/26/26010/A26010/From_CM/C26010B Region 00_00_00_000 to 00_00_51_797 (01 _ 02).wav\n",
      "Processing(810) 1660.567553281784: Programs/19/19630/A19630/From_CM/C19630A Region 00_22_41_920 to 00_22_52_.wav\n",
      "Processing(820) 1674.579246044159: Programs/13/13631/A13631/MM/A13631-11.wav\n",
      "Processing(830) 1681.2850122451782: Programs/13/13631/A13631/MM/A13631-09.wav\n",
      "Processing(840) 1702.9090368747711: Programs/30/30621/A30621/PM/A30621-06.wav\n",
      "Processing(850) 1713.1728172302246: Programs/20/20100/A20100/PM-0911/A2010015.wav\n",
      "Processing(860) 1725.4046585559845: Programs/11/11701/A11701/From_CM/A11701-01.wav\n",
      "Processing(870) 1733.5659575462341: Programs/20/20170/A20170/From_CM/C20170B Region 00_00_00_000 to 00_00_06_314 (01 _ 02).wav\n",
      "Processing(880) 1741.6738085746765: Programs/11/11720/A11720/MM/A11720-16.wav\n",
      "Processing(890) 1754.6004676818848: Programs/23/23831/A23831/PM-Clone/A23831-03.wav\n",
      "Processing(900) 1765.0774838924408: Programs/80/80635/A80635/From_CM/C80635B Region 00_13_24_266 to 00_13_54_013 (15 _ 16).wav\n",
      "Processing(910) 1782.1516013145447: Programs/65/65624/A65624/PM-1707/A65624-43.wav\n",
      "Processing(920) 1814.2357940673828: Programs/17/17040/A17040/From_CM/C17040A Region 00_00_00_000 to 00_00_06_911 (01 _ 02).wav\n",
      "Processing(930) 1827.9916360378265: Programs/75/75241/A75241/PM-8908/A75241-03.wav\n",
      "Processing(940) 1838.689591884613: Programs/23/23000/A23000/From_CM/C23000B Region 00_00_00_000 to 00_00_39_365 (01 _ 02).wav\n",
      "Processing(950) 1850.8631608486176: Programs/82/82228/A82228/PM-1601/A82228-1601-015.wav\n",
      "Processing(960) 1864.6943469047546: Programs/27/27771/A27771/From_CM/27771005.wav\n",
      "Processing(970) 1877.878933429718: Programs/60/60051/A60051/PM-0907/A60051-16.wav\n",
      "Processing(980) 1890.2796363830566: Programs/26/26091/A26091/From_CM/C26091A Region 00_07_55_136 to 00_09_15_194 (03 _ 04).wav\n",
      "Processing(990) 1899.6462655067444: Programs/80/80391/A80391/PM-0911/A80391-11.wav\n",
      "Processing(1000) 1907.5618340969086: Programs/80/80396/A80396/PM-0911/A80396-28.wav\n",
      "Processing(1010) 1915.1427059173584: Programs/80/80976/A80976/PM/A80976-42.wav\n",
      "Processing(1020) 1925.4526271820068: Programs/80/80850/A80850/PM-0412/A80850-01.wav\n",
      "Processing(1030) 1933.6147375106812: Programs/65/65632/A65632/PM-1707/A65632-01.wav\n",
      "Processing(1040) 1938.9674882888794: Programs/75/75353/A75353/0905/A75353-06.wav\n",
      "Processing(1050) 1949.8693399429321: Programs/62/62868/A62868/PM-0807/A62868-41.wav\n",
      "Processing(0) 0.0007565021514892578: Programs/75/75387/A75387/PM-1501/A75387-024.wav\n",
      "Processing(10) 24.179585456848145: Programs/62/62039/A62039/PM-1506/A62039-002.wav\n",
      "Processing(20) 44.929495334625244: Programs/63/63028/A63028/PM-0903/A63028-02.wav\n",
      "Processing(30) 77.1178719997406: Programs/12/12030/A12030/From_CM/C12030A Region 00_04_40_832 to 00_06_14_943 (03 _ 04).wav\n",
      "Processing(40) 105.43526411056519: Programs/19/19060/A19060/PM-1809/A19060-008.wav\n",
      "Processing(50) 127.50106906890869: Programs/80/80641/A80641/From_CM/C80641B Region 00_00_15_829 to 00_00_33_941 (02 _ 03).wav\n",
      "Processing(60) 142.9422972202301: Programs/63/63382/A63382/PM-1211/A63382-027.wav\n",
      "Processing(70) 166.77460956573486: Programs/63/63781/A63781/PM-1109/A63781-01.wav\n",
      "Processing(80) 183.04942846298218: Programs/65/65287/A65287/PM-1608/A65287-008.wav\n",
      "Processing(90) 197.95457243919373: Programs/64/64270/A64270/PM-1311-24bit/A64270-037.wav\n",
      "Processing(100) 215.08125281333923: Programs/80/80413/A80413/PM-1808/A80413-018.wav\n",
      "Processing(110) 232.07515907287598: Programs/37/37965/A37965/PM/A37965-16.wav\n",
      "Processing(120) 251.25460767745972: Programs/37/37965/A37965/PM/A37965-29.wav\n",
      "Processing(130) 266.4786880016327: Programs/78/78490/A78490/PM-1909/A78490-004.wav\n",
      "Processing(140) 282.4659640789032: Programs/32/32970/A32970/MM/A32970-11.wav\n",
      "Processing(150) 296.09524631500244: Programs/64/64270/A64270/PM-1311-24bit/A64270-033.wav\n",
      "Processing(160) 317.9646461009979: Programs/64/64591/A64591/PM-1511/A64591-02.wav\n",
      "Processing(170) 335.7051594257355: Programs/32/32970/A32970/MM/A32970-01.wav\n",
      "Processing(180) 360.72896575927734: Programs/63/63844/A63844/PM-1206/A63844-20.wav\n",
      "Processing(190) 385.5995178222656: Programs/63/63844/A63844/PM-1206/A63844-09.wav\n",
      "Processing(200) 402.64065432548523: Programs/65/65294/A65294/PM-1608/A65294-03 Pic 2 Borana Sakuye LLL8.WAV\n",
      "Processing(210) 415.72549200057983: Programs/63/63769/A63769/PM-1207/A63769-37.wav\n",
      "Processing(220) 430.378710269928: Programs/66/66149/A66149/PM-1811/A66149-41-Rup_40.wav\n",
      "Processing(230) 444.1818959712982: Programs/64/64020/A64020/PM-1302/A64020-21.wav\n",
      "Processing(240) 458.1363937854767: vox_grn/Audio_MP3/66/66150/Hre Anoi 'Noh Bau Lem 010 Hunh 9 66150.mp3\n",
      "Processing(250) 476.9147436618805: Programs/65/65293/A65293/PM-1608/A65293-03 Pic 2 Borana Sakuye LLL7.WAV\n",
      "Processing(260) 494.71181297302246: Programs/71/71290/A71290/From_CM/C71290A(15).wav\n",
      "Processing(270) 515.5731310844421: Programs/64/64316/A64316/PM-1401/A64316-30.wav\n",
      "Processing(280) 539.8174910545349: Programs/65/65345/A65345/PM-1608/A65345-019.wav\n",
      "Processing(290) 570.6106479167938: Programs/65/65345/A65345/PM-1608/A65345-005.wav\n",
      "Processing(300) 607.1494069099426: Programs/64/64396/A64396/PM-1408/A64396-33.wav\n",
      "Processing(310) 620.2128965854645: Programs/74/74986/A74986/PM-Copy-1010/A74986-37.wav\n",
      "Processing(320) 648.9171860218048: Programs/64/64316/A64316/PM-1401/A64316-37.wav\n",
      "Processing(330) 667.5813338756561: Programs/65/65286/A65286/PM-1608/A65286-003.wav\n",
      "Processing(340) 699.4908123016357: Programs/80/80527/A80527/PM-1509/A80527-007.wav\n",
      "Processing(350) 726.1390407085419: Programs/64/64274/A64274/PM-1311-24bit/A64274-032.wav\n",
      "Processing(360) 747.4783527851105: Programs/80/80672/A80672/PM-0910/A80672-14.wav\n",
      "Processing(370) 771.0248489379883: Programs/30/30471/A30471/From_CM/C30471B Region 00_08_06_357 to 00_08_51_925 (08 _ 09).wav\n",
      "Processing(380) 790.6034474372864: Programs/80/80526/A80526/PM-1801/A80526-013.wav\n",
      "Processing(390) 810.2643525600433: Programs/34/34440/A34440/From_CM/C34440A Region 00_20_17_962 to 00_22_21_.wav\n",
      "Processing(400) 831.9711954593658: Programs/64/64274/A64274/PM-1311-24bit/A64274-013.wav\n",
      "Processing(410) 854.1951222419739: Programs/64/64289/A64289/PM-1402/A64289-04.wav\n",
      "Processing(420) 879.273152589798: Programs/74/74673/A74673/PM-0812/A74673-25.wav\n",
      "Processing(430) 897.1727125644684: Programs/64/64287/A64287/PM-1402/A64287-27.wav\n",
      "Processing(440) 917.0296623706818: Programs/63/63886/A63886/PM-1306/A63886-08_Maakaku_Tjukurrpa_13_1-2.wav\n",
      "Processing(450) 939.7855753898621: Programs/80/80502/A80502/PM-0810/A80502-02.wav\n",
      "Processing(460) 961.8828566074371: Programs/80/80502/A80502/PM-0810/A80502-09.wav\n",
      "Processing(470) 987.3065650463104: Programs/23/23521/A23521/From_CM/A23521-06.wav\n",
      "Processing(480) 1009.2431380748749: Programs/74/74673/A74673/PM-0812/A74673-35.wav\n",
      "Processing(490) 1035.880577802658: Programs/80/80672/A80672/PM-0910/A80672-27.wav\n",
      "Processing(500) 1053.9113447666168: Programs/38/38084/A38084/PM-0000/A38084-11.wav\n",
      "Processing(510) 1083.324563741684: Programs/05/05500/A05500/From_CM/C05500A Region 00_06_53_525 to 00_08_58_879 (04 _ 05).wav\n",
      "Processing(520) 1110.0887410640717: Programs/38/38100/A38100/PM-0000/A3810010.wav\n",
      "Processing(530) 1127.0977878570557: Programs/63/63875/A63875/PM-1311/A63875-020.wav\n",
      "Processing(540) 1149.7405791282654: Programs/84/84129/A84129/PM-0810/A84129-41.wav\n",
      "Processing(550) 1182.3210752010345: Programs/34/34441/A34441/From_CM/C34441A Region 00_00_00_000 to 00_00_29_.wav\n",
      "Processing(560) 1216.5055587291718: Programs/80/80506/A80506/PM-1610/A80506-22.wav\n",
      "Processing(570) 1237.5728538036346: Programs/80/80909/A80909/PM-1605/A80909-027.wav\n",
      "Processing(580) 1257.5081942081451: Programs/63/63876/A63876/PM-1311/A63876-021.wav\n",
      "Processing(590) 1283.5115630626678: Programs/64/64652/A64652/PM-1014/A64652-006.wav\n",
      "Processing(600) 1303.0795764923096: Programs/64/64502/A64502/PM-1407/A64502-003.wav\n",
      "Processing(610) 1320.8941638469696: Programs/38/38087/A38087/PM-0000/A38087-16.wav\n",
      "Processing(620) 1353.5609378814697: Programs/21/21150/A21150/PM-Copy-0911/A21150-11.wav\n",
      "Processing(630) 1371.6805493831635: Programs/63/63888/A63888/PM-1306/A63888-01_Tjukurrpa_Tannyulngatjarra_3_1-7.wav\n",
      "Processing(640) 1391.8574187755585: Programs/38/38089/A38089/PM-0000/A38089-08.wav\n",
      "Processing(650) 1422.3649802207947: Programs/33/33391/A33391/PM-1207/A33391-005.wav\n",
      "Processing(660) 1443.2690091133118: Programs/38/38086/A38086/PM-0000/A38086-04.wav\n",
      "Processing(670) 1463.223613500595: Programs/37/37994/A37994/PM_au/A37994-19.WAV\n",
      "Processing(680) 1484.0241723060608: Programs/80/80515/A80515/PM-0906/A80515-48.wav\n",
      "Processing(690) 1499.2725322246552: Programs/33/33811/A33811/MM/A33811-11.wav\n",
      "Processing(700) 1516.2104935646057: Programs/80/80905/A80905/PM-1105/A80905-020.wav\n",
      "Processing(710) 1538.1524107456207: Programs/22/22741/A22741/PM-0905/A22741-05.wav\n",
      "Processing(720) 1559.997843503952: Programs/64/64791/A64791/PM-1501/A64791-032.wav\n",
      "Processing(730) 1579.5035405158997: Programs/64/64433/A64433/PM-1403-MM/A64433-034.wav\n",
      "Processing(740) 1598.1823644638062: Programs/62/62553/A62553/PM/A62553-30.wav\n",
      "Processing(750) 1619.266741991043: Programs/64/64433/A64433/PM-1403-MM/A64433-009.wav\n",
      "Processing(760) 1640.7355680465698: Programs/65/65349/A65349/PM-1607/A65349-007.wav\n",
      "Processing(770) 1665.0666856765747: Programs/80/80516/A80516/PM-9905/A80516-07.wav\n",
      "Processing(780) 1684.6841359138489: Programs/66/66030/A66030/PM-1901/A66030-24.wav\n",
      "Processing(790) 1702.6369817256927: Programs/62/62942/A62942/PM/A62942-07.WAV\n",
      "Processing(800) 1721.0216805934906: Programs/37/37785/A37785/PM-1603/A37785-018.wav\n",
      "Processing(810) 1741.4036526679993: Programs/82/82763/A82763/From_CM/C82763 Region 00_10_59_173 to 00_13_49_875 (0.wav\n",
      "Processing(820) 1766.6001958847046: Programs/62/62806/A62806/PM-0806/A62806-17.wav\n",
      "Processing(830) 1785.3234293460846: Programs/80/80101/A80101/PM/A80101-19.wav\n",
      "Processing(840) 1813.564786195755: Programs/33/33361/A33361/From_CM/C33361B Region 00_11_33_973 to 00_13_31_135 (07 _ 08).wav\n",
      "Processing(850) 1841.3433194160461: Programs/65/65070/A65070/PM-1510/A65070-005.wav\n",
      "Processing(860) 1869.2815132141113: Programs/80/80671/A80671/PM/A80671-13.wav\n",
      "Processing(870) 1904.1810703277588: Programs/80/80433/A80433/PM-1610/A80433-019.wav\n",
      "Processing(880) 1928.4905104637146: Programs/62/62948/A62948/PM-0810/A62948-41.wav\n",
      "Processing(890) 1961.1794204711914: Programs/63/63873/A63873/PM-1311/A63873-023.wav\n",
      "Processing(900) 1982.256319284439: Programs/02/02960/A02960/From_CM-2/A02960-13.wav\n",
      "Processing(910) 2006.7448387145996: Programs/80/80435/A80435/PM-1610/A80435-008.wav\n",
      "Processing(920) 2041.7376804351807: Programs/33/33360/A33360/PM-1203/A33360-022.wav\n",
      "Processing(930) 2060.0803492069244: Programs/62/62948/A62948/PM-0810/A62948-26.wav\n",
      "Processing(940) 2082.007086992264: Programs/64/64791/A64791/PM-1501/A64791-001.wav\n",
      "Processing(950) 2097.5526802539825: Programs/33/33801/A33801/MM/A33801-14.wav\n",
      "Processing(960) 2127.009817838669: Programs/02/02781/A02781/PM/A02781-04.wav\n",
      "Processing(970) 2159.0092165470123: Programs/64/64791/A64791/PM-1501/A64791-012.wav\n",
      "Processing(980) 2180.4524319171906: Programs/63/63736/A63736/PM-1112/A63736-20.wav\n",
      "Processing(990) 2205.3421263694763: Programs/80/80886/A80886/PM-1104/A80886-013.wav\n",
      "Processing(0) 0.0002529621124267578: Programs/75/75387/A75387/PM-1501/A75387-024.wav\n",
      "Processing(10) 20.402090787887573: Programs/62/62039/A62039/PM-1506/A62039-002.wav\n",
      "Processing(20) 37.56129693984985: Programs/63/63028/A63028/PM-0903/A63028-02.wav\n",
      "Processing(30) 65.6138207912445: Programs/12/12030/A12030/From_CM/C12030A Region 00_04_40_832 to 00_06_14_943 (03 _ 04).wav\n",
      "Processing(40) 90.0552110671997: Programs/19/19060/A19060/PM-1809/A19060-008.wav\n",
      "Processing(50) 108.64802312850952: Programs/80/80641/A80641/From_CM/C80641B Region 00_00_15_829 to 00_00_33_941 (02 _ 03).wav\n",
      "Processing(60) 120.89589166641235: Programs/63/63382/A63382/PM-1211/A63382-027.wav\n",
      "Processing(70) 141.06046843528748: Programs/63/63781/A63781/PM-1109/A63781-01.wav\n",
      "Processing(80) 154.23753690719604: Programs/65/65287/A65287/PM-1608/A65287-008.wav\n",
      "Processing(90) 166.17094349861145: Programs/64/64270/A64270/PM-1311-24bit/A64270-037.wav\n",
      "Processing(100) 180.08476734161377: Programs/80/80413/A80413/PM-1808/A80413-018.wav\n",
      "Processing(110) 193.85768914222717: Programs/37/37965/A37965/PM/A37965-16.wav\n",
      "Processing(120) 209.6245620250702: Programs/37/37965/A37965/PM/A37965-29.wav\n",
      "Processing(130) 221.82896661758423: Programs/78/78490/A78490/PM-1909/A78490-004.wav\n",
      "Processing(140) 234.77346324920654: Programs/32/32970/A32970/MM/A32970-11.wav\n",
      "Processing(150) 245.6024932861328: Programs/64/64270/A64270/PM-1311-24bit/A64270-033.wav\n",
      "Processing(160) 264.0888183116913: Programs/64/64591/A64591/PM-1511/A64591-02.wav\n",
      "Processing(170) 278.6973021030426: Programs/32/32970/A32970/MM/A32970-01.wav\n",
      "Processing(180) 299.9993824958801: Programs/63/63844/A63844/PM-1206/A63844-20.wav\n",
      "Processing(190) 321.2276599407196: Programs/63/63844/A63844/PM-1206/A63844-09.wav\n",
      "Processing(200) 334.5667164325714: Programs/65/65294/A65294/PM-1608/A65294-03 Pic 2 Borana Sakuye LLL8.WAV\n",
      "Processing(210) 344.78136348724365: Programs/63/63769/A63769/PM-1207/A63769-37.wav\n",
      "Processing(220) 356.2598526477814: Programs/66/66149/A66149/PM-1811/A66149-41-Rup_40.wav\n",
      "Processing(230) 366.6063072681427: Programs/64/64020/A64020/PM-1302/A64020-21.wav\n",
      "Processing(240) 376.9120786190033: vox_grn/Audio_MP3/66/66150/Hre Anoi 'Noh Bau Lem 010 Hunh 9 66150.mp3\n",
      "Processing(250) 392.1812467575073: Programs/65/65293/A65293/PM-1608/A65293-03 Pic 2 Borana Sakuye LLL7.WAV\n",
      "Processing(260) 406.42043566703796: Programs/71/71290/A71290/From_CM/C71290A(15).wav\n",
      "Processing(270) 424.0671362876892: Programs/64/64316/A64316/PM-1401/A64316-30.wav\n",
      "Processing(280) 444.73202538490295: Programs/65/65345/A65345/PM-1608/A65345-019.wav\n",
      "Processing(290) 470.99041962623596: Programs/65/65345/A65345/PM-1608/A65345-005.wav\n",
      "Processing(300) 502.77570247650146: Programs/64/64396/A64396/PM-1408/A64396-33.wav\n",
      "Processing(310) 512.9618811607361: Programs/74/74986/A74986/PM-Copy-1010/A74986-37.wav\n",
      "Processing(320) 537.8927335739136: Programs/64/64316/A64316/PM-1401/A64316-37.wav\n",
      "Processing(330) 553.4209196567535: Programs/65/65286/A65286/PM-1608/A65286-003.wav\n",
      "Processing(340) 581.2763013839722: Programs/80/80527/A80527/PM-1509/A80527-007.wav\n",
      "Processing(350) 603.3223505020142: Programs/64/64274/A64274/PM-1311-24bit/A64274-032.wav\n",
      "Processing(360) 620.6399040222168: Programs/80/80672/A80672/PM-0910/A80672-14.wav\n",
      "Processing(370) 639.7638401985168: Programs/30/30471/A30471/From_CM/C30471B Region 00_08_06_357 to 00_08_51_925 (08 _ 09).wav\n",
      "Processing(380) 655.5572783946991: Programs/80/80526/A80526/PM-1801/A80526-013.wav\n",
      "Processing(390) 672.1283628940582: Programs/34/34440/A34440/From_CM/C34440A Region 00_20_17_962 to 00_22_21_.wav\n",
      "Processing(400) 690.6706566810608: Programs/64/64274/A64274/PM-1311-24bit/A64274-013.wav\n",
      "Processing(410) 709.7343790531158: Programs/64/64289/A64289/PM-1402/A64289-04.wav\n",
      "Processing(420) 731.8651669025421: Programs/74/74673/A74673/PM-0812/A74673-25.wav\n",
      "Processing(430) 746.6930289268494: Programs/64/64287/A64287/PM-1402/A64287-27.wav\n",
      "Processing(440) 763.3821382522583: Programs/63/63886/A63886/PM-1306/A63886-08_Maakaku_Tjukurrpa_13_1-2.wav\n",
      "Processing(450) 782.738974571228: Programs/80/80502/A80502/PM-0810/A80502-02.wav\n",
      "Processing(460) 801.5111434459686: Programs/80/80502/A80502/PM-0810/A80502-09.wav\n",
      "Processing(470) 823.5636084079742: Programs/23/23521/A23521/From_CM/A23521-06.wav\n",
      "Processing(480) 842.3543915748596: Programs/74/74673/A74673/PM-0812/A74673-35.wav\n",
      "Processing(490) 865.6388120651245: Programs/80/80672/A80672/PM-0910/A80672-27.wav\n",
      "Processing(500) 880.6477708816528: Programs/38/38084/A38084/PM-0000/A38084-11.wav\n",
      "Processing(510) 906.5250632762909: Programs/05/05500/A05500/From_CM/C05500A Region 00_06_53_525 to 00_08_58_879 (04 _ 05).wav\n",
      "Processing(520) 929.9290616512299: Programs/38/38100/A38100/PM-0000/A3810010.wav\n",
      "Processing(530) 943.9191465377808: Programs/63/63875/A63875/PM-1311/A63875-020.wav\n",
      "Processing(540) 963.2618098258972: Programs/84/84129/A84129/PM-0810/A84129-41.wav\n",
      "Processing(550) 992.3258633613586: Programs/34/34441/A34441/From_CM/C34441A Region 00_00_00_000 to 00_00_29_.wav\n",
      "Processing(560) 1023.2850835323334: Programs/80/80506/A80506/PM-1610/A80506-22.wav\n",
      "Processing(570) 1041.4855980873108: Programs/80/80909/A80909/PM-1605/A80909-027.wav\n",
      "Processing(580) 1058.232545375824: Programs/63/63876/A63876/PM-1311/A63876-021.wav\n",
      "Processing(590) 1081.162108182907: Programs/64/64652/A64652/PM-1014/A64652-006.wav\n",
      "Processing(600) 1097.558772802353: Programs/64/64502/A64502/PM-1407/A64502-003.wav\n",
      "Processing(610) 1112.3366529941559: Programs/38/38087/A38087/PM-0000/A38087-16.wav\n",
      "Processing(620) 1141.2980163097382: Programs/21/21150/A21150/PM-Copy-0911/A21150-11.wav\n",
      "Processing(630) 1156.4145202636719: Programs/63/63888/A63888/PM-1306/A63888-01_Tjukurrpa_Tannyulngatjarra_3_1-7.wav\n",
      "Processing(640) 1173.572202205658: Programs/38/38089/A38089/PM-0000/A38089-08.wav\n",
      "Processing(650) 1200.4680449962616: Programs/33/33391/A33391/PM-1207/A33391-005.wav\n",
      "Processing(660) 1218.2936351299286: Programs/38/38086/A38086/PM-0000/A38086-04.wav\n",
      "Processing(670) 1235.1307027339935: Programs/37/37994/A37994/PM_au/A37994-19.WAV\n",
      "Processing(680) 1252.593990802765: Programs/80/80515/A80515/PM-0906/A80515-48.wav\n",
      "Processing(690) 1264.7925190925598: Programs/33/33811/A33811/MM/A33811-11.wav\n",
      "Processing(700) 1278.6535379886627: Programs/80/80905/A80905/PM-1105/A80905-020.wav\n",
      "Processing(710) 1297.504546880722: Programs/22/22741/A22741/PM-0905/A22741-05.wav\n",
      "Processing(720) 1316.099389076233: Programs/64/64791/A64791/PM-1501/A64791-032.wav\n",
      "Processing(730) 1332.558305978775: Programs/64/64433/A64433/PM-1403-MM/A64433-034.wav\n",
      "Processing(740) 1348.3717031478882: Programs/62/62553/A62553/PM/A62553-30.wav\n",
      "Processing(750) 1366.3940744400024: Programs/64/64433/A64433/PM-1403-MM/A64433-009.wav\n",
      "Processing(760) 1384.7313587665558: Programs/65/65349/A65349/PM-1607/A65349-007.wav\n",
      "Processing(770) 1405.5255815982819: Programs/80/80516/A80516/PM-9905/A80516-07.wav\n",
      "Processing(780) 1421.9270553588867: Programs/66/66030/A66030/PM-1901/A66030-24.wav\n",
      "Processing(790) 1436.7491941452026: Programs/62/62942/A62942/PM/A62942-07.WAV\n",
      "Processing(800) 1451.6056814193726: Programs/37/37785/A37785/PM-1603/A37785-018.wav\n",
      "Processing(810) 1467.9698276519775: Programs/82/82763/A82763/From_CM/C82763 Region 00_10_59_173 to 00_13_49_875 (0.wav\n",
      "Processing(820) 1488.7209303379059: Programs/62/62806/A62806/PM-0806/A62806-17.wav\n",
      "Processing(830) 1503.6080758571625: Programs/80/80101/A80101/PM/A80101-19.wav\n",
      "Processing(840) 1527.1705555915833: Programs/33/33361/A33361/From_CM/C33361B Region 00_11_33_973 to 00_13_31_135 (07 _ 08).wav\n",
      "Processing(850) 1550.3966059684753: Programs/65/65070/A65070/PM-1510/A65070-005.wav\n",
      "Processing(860) 1573.61847615242: Programs/80/80671/A80671/PM/A80671-13.wav\n",
      "Processing(870) 1603.478687286377: Programs/80/80433/A80433/PM-1610/A80433-019.wav\n",
      "Processing(880) 1623.6199870109558: Programs/62/62948/A62948/PM-0810/A62948-41.wav\n",
      "Processing(890) 1651.2899055480957: Programs/63/63873/A63873/PM-1311/A63873-023.wav\n",
      "Processing(900) 1668.3871667385101: Programs/02/02960/A02960/From_CM-2/A02960-13.wav\n",
      "Processing(910) 1688.5744819641113: Programs/80/80435/A80435/PM-1610/A80435-008.wav\n",
      "Processing(920) 1717.9042735099792: Programs/33/33360/A33360/PM-1203/A33360-022.wav\n",
      "Processing(930) 1732.4236409664154: Programs/62/62948/A62948/PM-0810/A62948-26.wav\n",
      "Processing(940) 1750.1133880615234: Programs/64/64791/A64791/PM-1501/A64791-001.wav\n",
      "Processing(950) 1761.9654359817505: Programs/33/33801/A33801/MM/A33801-14.wav\n",
      "Processing(960) 1786.4889504909515: Programs/02/02781/A02781/PM/A02781-04.wav\n",
      "Processing(970) 1813.3234469890594: Programs/64/64791/A64791/PM-1501/A64791-012.wav\n",
      "Processing(980) 1830.7908844947815: Programs/63/63736/A63736/PM-1112/A63736-20.wav\n",
      "Processing(990) 1851.8223795890808: Programs/80/80886/A80886/PM-1104/A80886-013.wav\n"
     ]
    }
   ],
   "source": [
    "\n",
    "count_segs_knn = ApplyClassification('knn')\n",
    "instrument['knn_segs'] = instrument.filename.apply(count_segs_knn)\n",
    "count_segs_svm = ApplyClassification('svm')\n",
    "instrument['svm_segs'] = instrument.filename.apply(count_segs_svm)\n",
    "count_segs_knn = ApplyClassification('knn')\n",
    "poor_webrtcvad['knn_segs'] = poor_webrtcvad.filename.apply(count_segs_knn)\n",
    "count_segs_svm = ApplyClassification('svm')\n",
    "poor_webrtcvad['svm_segs'] = poor_webrtcvad.filename.apply(count_segs_svm)"
   ]
  },
  {
   "cell_type": "code",
   "execution_count": 44,
   "metadata": {},
   "outputs": [],
   "source": [
    "instrument.to_csv('../../data/instrument.csv')\n",
    "poor_webrtcvad.to_csv('../../poor_webrtcvad.csv')\n",
    "good_webrtcvad.to_csv('../../data/good_webrtcvad.csv')\n"
   ]
  },
  {
   "cell_type": "code",
   "execution_count": 17,
   "metadata": {},
   "outputs": [],
   "source": [
    "instrument = pd.read_csv('../../data/instrument.csv')\n",
    "poor_webrtcvad = pd.read_csv('../../poor_webrtcvad.csv')\n",
    "good_webrtcvad = pd.read_csv('../../data/good_webrtcvad.csv')"
   ]
  },
  {
   "cell_type": "code",
   "execution_count": 18,
   "metadata": {},
   "outputs": [
    {
     "name": "stdout",
     "output_type": "stream",
     "text": [
      "good webrctvad: 8000 knn: 13563 svm: 16020\n",
      "poor webrctvad: 1000 knn: 7955 svm: 8992\n",
      "instruments:    10783 knn: 1087 svm: 1054\n"
     ]
    }
   ],
   "source": [
    "print(f'good webrctvad: {sum(good_webrtcvad.segments)} knn: {sum(good_webrtcvad.knn_segs)} svm: {sum(good_webrtcvad.svm_segs)}')\n",
    "print(f'poor webrctvad: {sum(poor_webrtcvad.segments)} knn: {sum(poor_webrtcvad.knn_segs)} svm: {sum(poor_webrtcvad.svm_segs)}')\n",
    "print(f'instruments:    {sum(instrument.segments)} knn: {sum(instrument.knn_segs)} svm: {sum(instrument.svm_segs)}')\n"
   ]
  },
  {
   "attachments": {},
   "cell_type": "markdown",
   "metadata": {},
   "source": [
    "## Validation\n",
    "So svm would appear to be the best. I need to check the segments found. Lets take some example files and listen to them to determine which is best."
   ]
  },
  {
   "cell_type": "code",
   "execution_count": 19,
   "metadata": {},
   "outputs": [
    {
     "name": "stdout",
     "output_type": "stream",
     "text": [
      "File where svm and knn found more than webrtcvad: Programs/73/73980/A73980/PM-1906/A73980-008.wav\n",
      "File where svm and knn found less than webrtcvad: Programs/30/30850/A30850/From_CM/A30850-14.wav\n"
     ]
    }
   ],
   "source": [
    "print(f'File where svm and knn found more than webrtcvad: {good_webrtcvad.iloc[0].filename}')\n",
    "print(f'File where svm and knn found less than webrtcvad: {good_webrtcvad.iloc[13].filename}')"
   ]
  },
  {
   "cell_type": "code",
   "execution_count": 14,
   "metadata": {},
   "outputs": [
    {
     "name": "stdout",
     "output_type": "stream",
     "text": [
      "Processing(0) 0.0005877017974853516: Programs/73/73980/A73980/PM-1906/A73980-008.wav\n",
      "Processing(0) 2.914473056793213: Programs/73/73980/A73980/PM-1906/A73980-008.wav\n"
     ]
    }
   ],
   "source": [
    "knn = ApplyClassification('knn')\n",
    "svm = ApplyClassification('svm')\n",
    "knn_A73980 = knn.segment(good_webrtcvad.iloc[0].filename)\n",
    "svm_A73980 = svm.segment(good_webrtcvad.iloc[0].filename)\n",
    "knn_A39850 = knn.segment(good_webrtcvad.iloc[13].filename)\n",
    "svm_A39850 = svm.segment(good_webrtcvad.iloc[13].filename)\n"
   ]
  },
  {
   "attachments": {},
   "cell_type": "markdown",
   "metadata": {},
   "source": [
    "Now we need to recover the original segments."
   ]
  },
  {
   "cell_type": "code",
   "execution_count": 18,
   "metadata": {},
   "outputs": [],
   "source": [
    "fsegs_4sec['file'] = fsegs_4sec.apply(get_filename, axis=1)\n"
   ]
  },
  {
   "cell_type": "code",
   "execution_count": 19,
   "metadata": {},
   "outputs": [],
   "source": [
    "fsegs_A73980 = fsegs_4sec[fsegs_4sec.file == good_webrtcvad.iloc[0].filename].copy()\n",
    "fsegs_A30850 = fsegs_4sec[fsegs_4sec.file == good_webrtcvad.iloc[13].filename].copy()\n",
    "fsegs_A73980 = pd.DataFrame({'start': fsegs_A73980['seg_start'], 'end': fsegs_A73980['seg_stop']})\n",
    "fsegs_A30850 = pd.DataFrame({'start': fsegs_A30850['seg_start'], 'end': fsegs_A30850['seg_stop']})\n"
   ]
  },
  {
   "attachments": {},
   "cell_type": "markdown",
   "metadata": {},
   "source": [
    "Listening to A73980 it:\n",
    "1. starts at 0 to 44;\n",
    "2. has a musical interlude from 44 to 51; and\n",
    "3. continues from 51 to the end at 91.\n",
    "\n",
    "webrtcvad:  \n",
    "* started at 9.48 and had no contiguous segments. \n",
    "* The musical interlude was missed. \n",
    "* A total of 8 segments.\n",
    "\n",
    "knn:        \n",
    "* started at 3 and had continuous segments to 43;\n",
    "* break from 43 to 51\n",
    "* contiguous segments 51 to 87. \n",
    "* A total of 18 segments.\n",
    "\n",
    "svm:\n",
    "* started at 0 and had contiguous segments to 44;\n",
    "* break 44 to 51\n",
    "* contiguous segments 51 to 91\n",
    "* total of 21 segments."
   ]
  },
  {
   "attachments": {},
   "cell_type": "markdown",
   "metadata": {},
   "source": [
    "Listening to A30850 it:\n",
    "1. starts at 0 but has many pauses.\n",
    "2. has a musical interlude from 44 to 51; and\n",
    "3. continues from 51 to the end at 91.\n",
    "\n",
    "webrtcvad:  \n",
    "* started at 9.48 and had no contiguous segments. \n",
    "* The musical interlude was missed. \n",
    "* A total of 8 segments.\n",
    "\n",
    "knn:        \n",
    "* started at 3 and had continuous segments to 43;\n",
    "* break from 43 to 51\n",
    "* contiguous segments 51 to 87. \n",
    "* A total of 18 segments.\n",
    "\n",
    "svm:\n",
    "* started at 0 and had contiguous segments to 44;\n",
    "* break 44 to 51\n",
    "* contiguous segments 51 to 91\n",
    "* total of 21 segments."
   ]
  },
  {
   "cell_type": "code",
   "execution_count": 20,
   "metadata": {},
   "outputs": [
    {
     "data": {
      "image/png": "[encoded data removed]",
      "text/plain": [
       "<Figure size 1728x432 with 1 Axes>"
      ]
     },
     "metadata": {
      "needs_background": "light"
     },
     "output_type": "display_data"
    }
   ],
   "source": [
    "import wave\n",
    "import numpy as np\n",
    "import matplotlib.pyplot as plt\n",
    "\n",
    "# Open the WAV file\n",
    "filename = '/media/programs/' + good_webrtcvad.iloc[13].filename\n",
    "with wave.open(filename, 'rb') as wav_file:\n",
    "    # Get the number of frames, channels, and sample rate\n",
    "    num_frames = wav_file.getnframes()\n",
    "    num_channels = wav_file.getnchannels()\n",
    "    sample_rate = wav_file.getframerate()\n",
    "\n",
    "    # Read the data and convert to a numpy array\n",
    "    wav_data = wav_file.readframes(num_frames)\n",
    "    data = np.frombuffer(wav_data, dtype=np.int16)\n",
    "\n",
    "    # Calculate the time array\n",
    "    time = np.arange(num_frames) / sample_rate\n",
    "\n",
    "# Create the plot\n",
    "fig, ax = plt.subplots(figsize=(24,6))\n",
    "ax.plot(time, data)\n",
    "ax.set(xlabel='Time (s)', ylabel='Amplitude', title='Waveform')\n",
    "ax.grid('x', which='major')\n",
    "ax.set_xticks(np.arange(0,70,2))\n",
    "plt.show()\n"
   ]
  },
  {
   "attachments": {},
   "cell_type": "markdown",
   "metadata": {},
   "source": [
    "The file A30850 is problematic as it has many short bursts of speech intermixed with silence. It is very difficult to hear where all the pauses are. I have therefore plotted the wav file.\n",
    "From this plot is is apparent that speech is in:\n",
    "* 0-4\n",
    "* 7-11\n",
    "* 13-15.5\n",
    "* 18-20\n",
    "* 22-25\n",
    "* 27-28\n",
    "* 30-32\n",
    "* 34-38\n",
    "* 41-42\n",
    "* 45-47\n",
    "* 49-51\n",
    "* 53-57\n",
    "* 60-63\n",
    "* 64-68\n",
    "\n",
    "Which means webrtcvad did a pretty good job.\n",
    "knn missed 34-38 but the rest is acceptable\n",
    "svm missed 34-38 and got one more segment than knn right at the end\n",
    "\n",
    "34-38 is very bitsy. I suspect the actual speech was less than a second meaning that the silence merged with it. It is probably better to exclude it.\n",
    "\n",
    "I believe this means that svm is the all round winner. Lets proceed to forming a database using the svm model."
   ]
  },
  {
   "attachments": {},
   "cell_type": "markdown",
   "metadata": {},
   "source": [
    "Now there is a silence removal function. This effectively detects the silence to other boundaries. Can this be used to enhance the extraction?"
   ]
  },
  {
   "cell_type": "code",
   "execution_count": 21,
   "metadata": {},
   "outputs": [],
   "source": [
    "[Fs, x] = audioBasicIO.read_audio_file('/media/programs/' + good_webrtcvad.iloc[13].filename)\n",
    "segments = aS.silence_removal(x, Fs, 0.02, 0.02, smooth_window=1.0, weight=0.3)"
   ]
  },
  {
   "attachments": {},
   "cell_type": "markdown",
   "metadata": {},
   "source": [
    "which is a pretty accurate analysis of a crappy file. How can this be used?\n",
    "\n",
    "First we need to break up midterm classify a bit more to stop it reading files and start taking audio as input. Next we need to work out what algorithm we are going to use to handle broken up files. Do we keep silences? Do we start speech on a silence? Do we want to keep the original cadence? ie do not remove silences but reject segments that contain too much silence?\n",
    "\n",
    "General rules: \n",
    "1. No more than 25% of segment should contain silence.\n",
    "2. Segment starts with at least 0.75s of speech\n",
    "3. Segment starts on a speech pause boundary (0.2s)\n",
    "\n",
    "what are the effects of applying these rules? I am not sure about rule 3. We need to test the effects of changing the boundaries of each rule. They are not dissimilar to the rules I wrote for vad. I can possibly reuse vad. \n",
    "\n",
    "Before I do anything however, I need to treat non-voice the same as silence.\n",
    "\n",
    "That, however, is enough for this notebook. The new algorithm is developed in DevelopASSegmentation.ipynb."
   ]
  }
 ],
 "metadata": {
  "kernelspec": {
   "display_name": "Python 3",
   "language": "python",
   "name": "python3"
  },
  "language_info": {
   "codemirror_mode": {
    "name": "ipython",
    "version": 3
   },
   "file_extension": ".py",
   "mimetype": "text/x-python",
   "name": "python",
   "nbconvert_exporter": "python",
   "pygments_lexer": "ipython3",
   "version": "3.9.10"
  },
  "orig_nbformat": 4,
  "vscode": {
   "interpreter": {
    "hash": "2abc5501ad3d8eff2da7865cf45fd15699605a857f48109c31373cdc3963a944"
   }
  }
 },
 "nbformat": 4,
 "nbformat_minor": 2
}
