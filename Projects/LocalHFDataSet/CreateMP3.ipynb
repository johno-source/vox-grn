{
 "cells": [
  {
   "cell_type": "markdown",
   "metadata": {},
   "source": [
    "# Create MP3 files\n",
    "The purpose of this notebook is to trial creating mp3 files from the data suitable to make a HF data set."
   ]
  },
  {
   "cell_type": "code",
   "execution_count": 8,
   "metadata": {},
   "outputs": [
    {
     "name": "stdout",
     "output_type": "stream",
     "text": [
      "/home/jovyan/work/vox-grn/Projects/vad_utils\n"
     ]
    }
   ],
   "source": [
    "import pandas as pd\n",
    "import numpy as np\n",
    "import webrtcvad\n",
    "import os\n",
    "import sys\n",
    "module_path = os.path.abspath(os.path.join('../vad_utils'))\n",
    "if module_path not in sys.path:\n",
    "    sys.path.append(module_path)\n",
    "from vad_utils import SAMPLING_RATE, FRAME_SIZE_MS, SAMPLES_PER_FRAME\n",
    "import vad_utils as vu\n",
    "from pydub import AudioSegment\n"
   ]
  },
  {
   "cell_type": "code",
   "execution_count": 9,
   "metadata": {},
   "outputs": [
    {
     "data": {
      "text/plain": [
       "Index(['Unnamed: 0', 'LanguageID', 'ISO', 'Language', 'Program', 'Track',\n",
       "       'Recordist', 'Location', 'Year', 'Path', 'Filename', 'Size', 'Length',\n",
       "       'ID', 'Program Item Number', 'Tape Side', 'Title', 'Item Type',\n",
       "       'composite', 'start', 'end'],\n",
       "      dtype='object')"
      ]
     },
     "execution_count": 9,
     "metadata": {},
     "output_type": "execute_result"
    }
   ],
   "source": [
    "items = pd.read_csv(\"/home/jovyan/work/GRN-Notebooks/Data/all_items_for_processing.csv\")\n",
    "items.columns\n"
   ]
  },
  {
   "cell_type": "code",
   "execution_count": 3,
   "metadata": {},
   "outputs": [],
   "source": [
    "# get a subset of items to make a small dataset\n",
    "working_set = items[items['Item Type'] == 'Scripture Stories']\n",
    "working_set.set_index('ID', inplace=True)\n",
    "working_set = working_set.drop(columns=['Unnamed: 0', 'LanguageID', 'Language', 'Program', 'Track', 'Recordist', 'Size', 'Length', 'Program Item Number', 'Tape Side', 'Item Type', 'composite'])"
   ]
  },
  {
   "cell_type": "markdown",
   "metadata": {},
   "source": [
    "Now for each item we want to create a set of items based on the time divisions."
   ]
  },
  {
   "cell_type": "code",
   "execution_count": 4,
   "metadata": {},
   "outputs": [],
   "source": [
    "vad = webrtcvad.Vad(2)\n",
    "vadfilt = vu.VADFilter()\n",
    "\n",
    "def audio_to_voice_segments(audio_segment, segment_size_secs):\n",
    "    global vad, vadfilt\n",
    "    \n",
    "    frames = vu.generate_frames_from_audio_segments(FRAME_SIZE_MS, audio_segment, SAMPLING_RATE)\n",
    "    speech = [vad.is_speech(frame.bytes, SAMPLING_RATE) for frame in frames]\n",
    "    vadout = [vadfilt.filt(s) for s in speech]\n",
    "    segs = vu.form_segments(vadout)\n",
    "    return vu.divide_into_segments(segs, segment_size_secs)\n"
   ]
  },
  {
   "cell_type": "code",
   "execution_count": 5,
   "metadata": {},
   "outputs": [],
   "source": [
    "\n",
    "def generate_audio_segments(item, segment_size_secs):\n",
    "    # create an audio segment\n",
    "    audio_seg = AudioSegment.from_file('/media/programs/' + item.Path + item.Filename, format='wav')\n",
    "    start_ms = int(item.start * 1000)\n",
    "    end_ms = int(item.end * 1000)\n",
    "    audio_seg = audio_seg[start_ms:end_ms]\n",
    "    segs = audio_to_voice_segments(audio_seg, segment_size_secs)\n",
    "    rows = list()\n",
    "    for i, seg in enumerate(segs):\n",
    "        desc = dict(item._asdict())\n",
    "        desc['start'] = vu.convert_frames_to_seconds(seg.start)\n",
    "        desc['end'] = vu.convert_frames_to_seconds(seg.stop)\n",
    "        desc['seg'] = i\n",
    "        rows.append(desc)\n",
    "    return rows\n"
   ]
  },
  {
   "cell_type": "code",
   "execution_count": 6,
   "metadata": {},
   "outputs": [],
   "source": [
    "from pathlib import Path\n",
    "\n",
    "def prepare_dir(item):\n",
    "    dirname = '/media/programs/dataset/stories/' + item.ISO\n",
    "    Path(dirname).mkdir(parents=True, exist_ok=True)\n",
    "    return dirname\n",
    "\n",
    "def condition_audio_segment(audio_seg):\n",
    "    if audio_seg.channels != 1:\n",
    "        audio_seg = audio_seg.set_channels(1)\n",
    "\n",
    "    if audio_seg.sample_width != 2:\n",
    "        audio_seg = audio_seg.set_sample_width(2)\n",
    "\n",
    "    if audio_seg.frame_rate != SAMPLING_RATE:\n",
    "        audio_seg = audio_seg.set_frame_rate(SAMPLING_RATE)\n",
    "\n",
    "    return audio_seg\n",
    "        \n",
    "# We want to store the data as 16 bit 16kHz data\n",
    "def generate_mp3_segments(item, segment_size_secs):\n",
    "    # create an audio segment\n",
    "    audio_seg = AudioSegment.from_file('/media/programs/' + item.Path + item.Filename, format='wav')\n",
    "    start_ms = int(item.start * 1000)\n",
    "    end_ms = int(item.end * 1000)\n",
    "    audio_seg = audio_seg[start_ms:end_ms]\n",
    "    audio_seg = condition_audio_segment(audio_seg)\n",
    "    segs = audio_to_voice_segments(audio_seg, segment_size_secs)\n",
    "    dirname = prepare_dir(item)\n",
    "    rows = list()\n",
    "    for i, seg in enumerate(segs):\n",
    "        fname = f'{dirname}/{item.Index}_{i:0>3}.mp3'\n",
    "        start = vu.convert_frames_to_ms(seg.start)\n",
    "        stop = vu.convert_frames_to_ms(seg.stop)\n",
    "        audio_seg[start:stop].export(fname, format='mp3', bitrate='32k')\n",
    "        desc = dict(item._asdict())\n",
    "        desc['start'] = vu.convert_frames_to_seconds(seg.start)\n",
    "        desc['stop'] = vu.convert_frames_to_seconds(seg.stop)\n",
    "        desc['seg'] = i\n",
    "        desc['fname'] = fname\n",
    "        rows.append(desc)\n",
    "\n",
    "    return rows\n"
   ]
  },
  {
   "cell_type": "code",
   "execution_count": 7,
   "metadata": {},
   "outputs": [
    {
     "name": "stdout",
     "output_type": "stream",
     "text": [
      ".0\n",
      "..................................................50\n",
      "..................................................100\n",
      "..................................................150\n",
      "......"
     ]
    }
   ],
   "source": [
    "# generate the working set dataset\n",
    "segmented_segs = []\n",
    "for i, row in enumerate(working_set.itertuples()):\n",
    "    segmented_segs.extend(generate_mp3_segments(row, 6.0))\n",
    "    print('.', end='')\n",
    "    if i % 50 == 0:\n",
    "        print(i)\n",
    "\n",
    "seg_df = pd.DataFrame.from_records(segmented_segs)\n"
   ]
  },
  {
   "cell_type": "markdown",
   "metadata": {},
   "source": [
    "Now we need to generate a json file to go with the dataset."
   ]
  },
  {
   "cell_type": "code",
   "execution_count": 9,
   "metadata": {},
   "outputs": [
    {
     "name": "stdout",
     "output_type": "stream",
     "text": [
      "Index(['Index', 'ISO', 'Location', 'Year', 'Path', 'Filename', 'Title',\n",
      "       'start', 'end', 'stop', 'seg', 'fname'],\n",
      "      dtype='object')\n"
     ]
    }
   ],
   "source": [
    "print(seg_df.columns)"
   ]
  },
  {
   "cell_type": "code",
   "execution_count": 10,
   "metadata": {},
   "outputs": [],
   "source": [
    "seg_df.drop(inplace=True, columns=['Path', 'Filename'])"
   ]
  },
  {
   "cell_type": "code",
   "execution_count": 12,
   "metadata": {},
   "outputs": [],
   "source": [
    "seg_df.drop(inplace=True, columns=['start', 'stop', 'end'])\n",
    "seg_df = seg_df.rename(columns={'Index' : 'item'})"
   ]
  },
  {
   "cell_type": "code",
   "execution_count": 13,
   "metadata": {},
   "outputs": [
    {
     "name": "stdout",
     "output_type": "stream",
     "text": [
      "{'item': 'A23090_001', 'ISO': 'krw', 'Location': 'Liberia', 'Year': 1990.0, 'Title': \"The Poor Woman's Offering Mark 12:41-44\", 'seg': 0, 'fname': '/media/programs/dataset/stories/krw/A23090_001_000.mp3'}\n"
     ]
    },
    {
     "data": {
      "application/vnd.jupyter.widget-view+json": {
       "model_id": "dcbde375f1d643f1b3a4a9b279b885bc",
       "version_major": 2,
       "version_minor": 0
      },
      "text/plain": [
       "Creating json from Arrow format:   0%|          | 0/1 [00:00<?, ?ba/s]"
      ]
     },
     "metadata": {},
     "output_type": "display_data"
    },
    {
     "data": {
      "text/plain": [
       "418940"
      ]
     },
     "execution_count": 13,
     "metadata": {},
     "output_type": "execute_result"
    }
   ],
   "source": [
    "from datasets import Dataset\n",
    "ds = Dataset.from_pandas(seg_df)\n",
    "print(ds[0])\n",
    "ds.to_json('/media/programs/datasets/stories/working_set.json')"
   ]
  },
  {
   "cell_type": "code",
   "execution_count": 15,
   "metadata": {},
   "outputs": [
    {
     "name": "stderr",
     "output_type": "stream",
     "text": [
      "Using custom data configuration default-fc0693ab274b3ef7\n"
     ]
    },
    {
     "name": "stdout",
     "output_type": "stream",
     "text": [
      "Downloading and preparing dataset json/default to /home/jovyan/.cache/huggingface/datasets/json/default-fc0693ab274b3ef7/0.0.0/a3e658c4731e59120d44081ac10bf85dc7e1388126b92338344ce9661907f253...\n"
     ]
    },
    {
     "data": {
      "application/vnd.jupyter.widget-view+json": {
       "model_id": "05f1a4523a304f359dec06e1d5416050",
       "version_major": 2,
       "version_minor": 0
      },
      "text/plain": [
       "Downloading data files:   0%|          | 0/1 [00:00<?, ?it/s]"
      ]
     },
     "metadata": {},
     "output_type": "display_data"
    },
    {
     "data": {
      "application/vnd.jupyter.widget-view+json": {
       "model_id": "759da3f216d4482d903473bf54357157",
       "version_major": 2,
       "version_minor": 0
      },
      "text/plain": [
       "Extracting data files:   0%|          | 0/1 [00:00<?, ?it/s]"
      ]
     },
     "metadata": {},
     "output_type": "display_data"
    },
    {
     "data": {
      "application/vnd.jupyter.widget-view+json": {
       "model_id": "f4a9dfe88b7b4f3eac9845b6264ce8d4",
       "version_major": 2,
       "version_minor": 0
      },
      "text/plain": [
       "0 tables [00:00, ? tables/s]"
      ]
     },
     "metadata": {},
     "output_type": "display_data"
    },
    {
     "name": "stdout",
     "output_type": "stream",
     "text": [
      "Dataset json downloaded and prepared to /home/jovyan/.cache/huggingface/datasets/json/default-fc0693ab274b3ef7/0.0.0/a3e658c4731e59120d44081ac10bf85dc7e1388126b92338344ce9661907f253. Subsequent calls will reuse this data.\n"
     ]
    }
   ],
   "source": [
    "# now try loading the dataset\n",
    "from datasets import load_dataset\n",
    "\n",
    "try_ds = load_dataset('json', data_files='/media/programs/datasets/stories/working_set.json', split='train')\n"
   ]
  },
  {
   "cell_type": "code",
   "execution_count": 19,
   "metadata": {},
   "outputs": [
    {
     "name": "stdout",
     "output_type": "stream",
     "text": [
      "{'item': 'A23090_001', 'ISO': 'krw', 'Location': 'Liberia', 'Year': 1990.0, 'Title': \"The Poor Woman's Offering Mark 12:41-44\", 'seg': 0, 'fname': '/media/programs/dataset/stories/krw/A23090_001_000.mp3'}\n",
      "2180\n"
     ]
    }
   ],
   "source": [
    "print(try_ds[0])\n",
    "print(len(try_ds))"
   ]
  },
  {
   "cell_type": "code",
   "execution_count": 21,
   "metadata": {},
   "outputs": [],
   "source": [
    "seg_df = seg_df.rename(columns={'fname': 'file_name'})"
   ]
  },
  {
   "cell_type": "markdown",
   "metadata": {},
   "source": [
    "Now I want to create the metadata.csv file used by audiofile on huggingface.\n",
    "It requires:\n",
    "\n",
    "    1. the repo structure to be:\n",
    "        metadata.csv\n",
    "        data/*split1*/file.mp3\n",
    "        data/*split2*/file.mp3\n",
    "    2. the metadata.csv to include a column called file_name that has names relative to the root directory of the dataset (where metadata.csv is located)\n",
    "\n",
    "I am not sure that it handles different configurations. Lets go simple first and not have a split."
   ]
  },
  {
   "cell_type": "code",
   "execution_count": 22,
   "metadata": {},
   "outputs": [
    {
     "data": {
      "text/plain": [
       "item                                                A23090_001\n",
       "ISO                                                        krw\n",
       "Location                                               Liberia\n",
       "Year                                                    1990.0\n",
       "Title                  The Poor Woman's Offering Mark 12:41-44\n",
       "seg                                                          0\n",
       "file_name    /media/programs/dataset/stories/krw/A23090_001...\n",
       "Name: 0, dtype: object"
      ]
     },
     "execution_count": 22,
     "metadata": {},
     "output_type": "execute_result"
    }
   ],
   "source": [
    "seg_df.iloc[0,:]"
   ]
  },
  {
   "cell_type": "code",
   "execution_count": 23,
   "metadata": {},
   "outputs": [],
   "source": [
    "metadata = seg_df\n",
    "metadata['file_name'] = metadata['file_name'].str.extract(r'/media/programs/dataset/stories/(.*)')"
   ]
  },
  {
   "cell_type": "code",
   "execution_count": 24,
   "metadata": {},
   "outputs": [],
   "source": [
    "metadata['file_name'] = 'data/' + metadata['file_name']"
   ]
  },
  {
   "cell_type": "code",
   "execution_count": 26,
   "metadata": {},
   "outputs": [],
   "source": [
    "metadata.set_index('file_name', inplace=True)"
   ]
  },
  {
   "cell_type": "code",
   "execution_count": 27,
   "metadata": {},
   "outputs": [],
   "source": [
    "metadata.to_csv('/media/programs/dataset/stories/grnvox_test/metadata.csv')"
   ]
  },
  {
   "cell_type": "markdown",
   "metadata": {},
   "source": [
    "I used git command line to check out the repo and add the data files. Lets try and load it."
   ]
  },
  {
   "cell_type": "code",
   "execution_count": 41,
   "metadata": {},
   "outputs": [
    {
     "name": "stderr",
     "output_type": "stream",
     "text": [
      "Using custom data configuration johno-grn--grnvox_test-fdbb0a063e17a22e\n",
      "Reusing dataset csv (/home/jovyan/.cache/huggingface/datasets/johno-grn___csv/johno-grn--grnvox_test-fdbb0a063e17a22e/0.0.0/652c3096f041ee27b04d2232d41f10547a8fecda3e284a79a0ec4053c916ef7a)\n"
     ]
    },
    {
     "data": {
      "application/vnd.jupyter.widget-view+json": {
       "model_id": "f34d7972cd624e0ea8013c8939898da1",
       "version_major": 2,
       "version_minor": 0
      },
      "text/plain": [
       "  0%|          | 0/1 [00:00<?, ?it/s]"
      ]
     },
     "metadata": {},
     "output_type": "display_data"
    }
   ],
   "source": [
    "grnvox_test = load_dataset('johno-grn/grnvox_test', use_auth_token=True)"
   ]
  },
  {
   "cell_type": "code",
   "execution_count": 42,
   "metadata": {},
   "outputs": [
    {
     "name": "stdout",
     "output_type": "stream",
     "text": [
      "{'file_name': 'data/krw/A23090_001_000.mp3', 'item': 'A23090_001', 'ISO': 'krw', 'Location': 'Liberia', 'Year': 1990.0, 'Title': \"The Poor Woman's Offering Mark 12:41-44\", 'seg': 0}\n"
     ]
    }
   ],
   "source": [
    "print(grnvox_test['train'][0])"
   ]
  },
  {
   "cell_type": "code",
   "execution_count": 2,
   "metadata": {},
   "outputs": [
    {
     "data": {
      "application/vnd.jupyter.widget-view+json": {
       "model_id": "c13f8d904e614cf9803b446c62c5856d",
       "version_major": 2,
       "version_minor": 0
      },
      "text/plain": [
       "Resolving data files:   0%|          | 0/2181 [00:00<?, ?it/s]"
      ]
     },
     "metadata": {},
     "output_type": "display_data"
    },
    {
     "name": "stderr",
     "output_type": "stream",
     "text": [
      "Using custom data configuration default-1c0bdf108f173cb3\n"
     ]
    },
    {
     "name": "stdout",
     "output_type": "stream",
     "text": [
      "Downloading and preparing dataset audiofolder/default to /home/jovyan/.cache/huggingface/datasets/audiofolder/default-1c0bdf108f173cb3/0.0.0/6cbdd16f8688354c63b4e2a36e1585d05de285023ee6443ffd71c4182055c0fc...\n",
      "               "
     ]
    },
    {
     "data": {
      "application/vnd.jupyter.widget-view+json": {
       "model_id": "c606f6ec9a494561ae1aad3709b08d3d",
       "version_major": 2,
       "version_minor": 0
      },
      "text/plain": [
       "Downloading data files #1:   0%|          | 0/137 [00:00<?, ?obj/s]"
      ]
     },
     "metadata": {},
     "output_type": "display_data"
    },
    {
     "data": {
      "application/vnd.jupyter.widget-view+json": {
       "model_id": "0a9fe87e78214e9fb73873929a70f4fc",
       "version_major": 2,
       "version_minor": 0
      },
      "text/plain": [
       "Downloading data files #3:   0%|          | 0/137 [00:00<?, ?obj/s]"
      ]
     },
     "metadata": {},
     "output_type": "display_data"
    },
    {
     "data": {
      "application/vnd.jupyter.widget-view+json": {
       "model_id": "22160d87e0a145798c7877f06269dd84",
       "version_major": 2,
       "version_minor": 0
      },
      "text/plain": [
       "Downloading data files #5:   0%|          | 0/136 [00:00<?, ?obj/s]"
      ]
     },
     "metadata": {},
     "output_type": "display_data"
    },
    {
     "data": {
      "application/vnd.jupyter.widget-view+json": {
       "model_id": "571a79195cad4260b527fe7b053f3809",
       "version_major": 2,
       "version_minor": 0
      },
      "text/plain": [
       "Downloading data files #7:   0%|          | 0/136 [00:00<?, ?obj/s]"
      ]
     },
     "metadata": {},
     "output_type": "display_data"
    },
    {
     "data": {
      "application/vnd.jupyter.widget-view+json": {
       "model_id": "57934d59173549ecbeb07b09dd086e7a",
       "version_major": 2,
       "version_minor": 0
      },
      "text/plain": [
       "Downloading data files #13:   0%|          | 0/136 [00:00<?, ?obj/s]"
      ]
     },
     "metadata": {},
     "output_type": "display_data"
    },
    {
     "data": {
      "application/vnd.jupyter.widget-view+json": {
       "model_id": "23cfb35818ad45cba9e34340f330b7dc",
       "version_major": 2,
       "version_minor": 0
      },
      "text/plain": [
       "Downloading data files #2:   0%|          | 0/137 [00:00<?, ?obj/s]"
      ]
     },
     "metadata": {},
     "output_type": "display_data"
    },
    {
     "data": {
      "application/vnd.jupyter.widget-view+json": {
       "model_id": "49779469f9474bda85331029c10c9610",
       "version_major": 2,
       "version_minor": 0
      },
      "text/plain": [
       "Downloading data files #6:   0%|          | 0/136 [00:00<?, ?obj/s]"
      ]
     },
     "metadata": {},
     "output_type": "display_data"
    },
    {
     "name": "stdout",
     "output_type": "stream",
     "text": [
      " "
     ]
    },
    {
     "data": {
      "application/vnd.jupyter.widget-view+json": {
       "model_id": "6bd6432a814248a2930e10ad3e4fc832",
       "version_major": 2,
       "version_minor": 0
      },
      "text/plain": [
       "Downloading data files #4:   0%|          | 0/137 [00:00<?, ?obj/s]"
      ]
     },
     "metadata": {},
     "output_type": "display_data"
    },
    {
     "data": {
      "application/vnd.jupyter.widget-view+json": {
       "model_id": "bad390337eff448d913c7efa26015e1d",
       "version_major": 2,
       "version_minor": 0
      },
      "text/plain": [
       "Downloading data files #0:   0%|          | 0/137 [00:00<?, ?obj/s]"
      ]
     },
     "metadata": {},
     "output_type": "display_data"
    },
    {
     "data": {
      "application/vnd.jupyter.widget-view+json": {
       "model_id": "3304058550b0494e830c8392ae2e12a7",
       "version_major": 2,
       "version_minor": 0
      },
      "text/plain": [
       "Downloading data files #11:   0%|          | 0/136 [00:00<?, ?obj/s]"
      ]
     },
     "metadata": {},
     "output_type": "display_data"
    },
    {
     "data": {
      "application/vnd.jupyter.widget-view+json": {
       "model_id": "47a144a0661d44229f734074a21b361f",
       "version_major": 2,
       "version_minor": 0
      },
      "text/plain": [
       "Downloading data files #12:   0%|          | 0/136 [00:00<?, ?obj/s]"
      ]
     },
     "metadata": {},
     "output_type": "display_data"
    },
    {
     "data": {
      "application/vnd.jupyter.widget-view+json": {
       "model_id": "2c338529e7c24676bef8ef70ed36d4a1",
       "version_major": 2,
       "version_minor": 0
      },
      "text/plain": [
       "Downloading data files #8:   0%|          | 0/136 [00:00<?, ?obj/s]"
      ]
     },
     "metadata": {},
     "output_type": "display_data"
    },
    {
     "data": {
      "application/vnd.jupyter.widget-view+json": {
       "model_id": "5db35e6917f24766b3c0c7309245dc94",
       "version_major": 2,
       "version_minor": 0
      },
      "text/plain": [
       "Downloading data files #14:   0%|          | 0/136 [00:00<?, ?obj/s]"
      ]
     },
     "metadata": {},
     "output_type": "display_data"
    },
    {
     "data": {
      "application/vnd.jupyter.widget-view+json": {
       "model_id": "8fd58270dbb94e3485e0ffbc04407c2c",
       "version_major": 2,
       "version_minor": 0
      },
      "text/plain": [
       "Downloading data files #15:   0%|          | 0/136 [00:00<?, ?obj/s]"
      ]
     },
     "metadata": {},
     "output_type": "display_data"
    },
    {
     "data": {
      "application/vnd.jupyter.widget-view+json": {
       "model_id": "1bcd676415eb4955b2e2a12e2c8498c2",
       "version_major": 2,
       "version_minor": 0
      },
      "text/plain": [
       "Downloading data files #10:   0%|          | 0/136 [00:00<?, ?obj/s]"
      ]
     },
     "metadata": {},
     "output_type": "display_data"
    },
    {
     "data": {
      "application/vnd.jupyter.widget-view+json": {
       "model_id": "94c2e4390d204da889e64ce23f657523",
       "version_major": 2,
       "version_minor": 0
      },
      "text/plain": [
       "Downloading data files #9:   0%|          | 0/136 [00:00<?, ?obj/s]"
      ]
     },
     "metadata": {},
     "output_type": "display_data"
    },
    {
     "data": {
      "application/vnd.jupyter.widget-view+json": {
       "model_id": "e3ba2fa1b61941269525124ce62380c1",
       "version_major": 2,
       "version_minor": 0
      },
      "text/plain": [
       "Downloading data files: 0it [00:00, ?it/s]"
      ]
     },
     "metadata": {},
     "output_type": "display_data"
    },
    {
     "data": {
      "application/vnd.jupyter.widget-view+json": {
       "model_id": "98074626f053479a9dd4a3e72f127da0",
       "version_major": 2,
       "version_minor": 0
      },
      "text/plain": [
       "Extracting data files: 0it [00:00, ?it/s]"
      ]
     },
     "metadata": {},
     "output_type": "display_data"
    },
    {
     "data": {
      "application/vnd.jupyter.widget-view+json": {
       "model_id": "deea09b011b54e86adfec5b847bc7fd3",
       "version_major": 2,
       "version_minor": 0
      },
      "text/plain": [
       "Generating train split: 0 examples [00:00, ? examples/s]"
      ]
     },
     "metadata": {},
     "output_type": "display_data"
    },
    {
     "name": "stdout",
     "output_type": "stream",
     "text": [
      "Dataset audiofolder downloaded and prepared to /home/jovyan/.cache/huggingface/datasets/audiofolder/default-1c0bdf108f173cb3/0.0.0/6cbdd16f8688354c63b4e2a36e1585d05de285023ee6443ffd71c4182055c0fc. Subsequent calls will reuse this data.\n"
     ]
    },
    {
     "data": {
      "application/vnd.jupyter.widget-view+json": {
       "model_id": "f1a201fae39c44d7b01d12a1585bc0ea",
       "version_major": 2,
       "version_minor": 0
      },
      "text/plain": [
       "  0%|          | 0/1 [00:00<?, ?it/s]"
      ]
     },
     "metadata": {},
     "output_type": "display_data"
    }
   ],
   "source": [
    "from datasets import load_dataset\n",
    "grnvox_test = load_dataset(\"audiofolder\", data_dir='/media/programs/dataset/stories/grnvox_test', use_auth_token=True)"
   ]
  },
  {
   "cell_type": "code",
   "execution_count": 6,
   "metadata": {},
   "outputs": [
    {
     "name": "stdout",
     "output_type": "stream",
     "text": [
      "{'path': '/media/programs/dataset/stories/grnvox_test/data/yon/A63676_005_000.mp3', 'array': array([0.        , 0.        , 0.        , ..., 0.02023047, 0.01743877,\n",
      "       0.01676089], dtype=float32), 'sampling_rate': 16000}\n"
     ]
    }
   ],
   "source": [
    "print(grnvox_test['train'][2000]['audio'])"
   ]
  },
  {
   "cell_type": "code",
   "execution_count": 9,
   "metadata": {},
   "outputs": [
    {
     "name": "stderr",
     "output_type": "stream",
     "text": [
      "Using custom data configuration default-375a603028e41e9a\n"
     ]
    },
    {
     "name": "stdout",
     "output_type": "stream",
     "text": [
      "Downloading and preparing dataset audiofolder/default to /home/jovyan/.cache/huggingface/datasets/audiofolder/default-375a603028e41e9a/0.0.0/6cbdd16f8688354c63b4e2a36e1585d05de285023ee6443ffd71c4182055c0fc...\n"
     ]
    },
    {
     "data": {
      "application/vnd.jupyter.widget-view+json": {
       "model_id": "198fb15e6bbf4ceb91bd6eec658f4aeb",
       "version_major": 2,
       "version_minor": 0
      },
      "text/plain": [
       "Downloading data files: 0it [00:00, ?it/s]"
      ]
     },
     "metadata": {},
     "output_type": "display_data"
    },
    {
     "data": {
      "application/vnd.jupyter.widget-view+json": {
       "model_id": "a2477901f515441b8c4e9b5285e8eaa0",
       "version_major": 2,
       "version_minor": 0
      },
      "text/plain": [
       "Downloading data files:   0%|          | 0/1 [00:00<?, ?it/s]"
      ]
     },
     "metadata": {},
     "output_type": "display_data"
    },
    {
     "data": {
      "application/vnd.jupyter.widget-view+json": {
       "model_id": "46e0c1b4cbee407d87c2e2624acc7e83",
       "version_major": 2,
       "version_minor": 0
      },
      "text/plain": [
       "Extracting data files:   0%|          | 0/1 [00:00<?, ?it/s]"
      ]
     },
     "metadata": {},
     "output_type": "display_data"
    },
    {
     "data": {
      "application/vnd.jupyter.widget-view+json": {
       "model_id": "51a21ff9d34e4fbfaa251b605059af14",
       "version_major": 2,
       "version_minor": 0
      },
      "text/plain": [
       "Generating train split: 0 examples [00:00, ? examples/s]"
      ]
     },
     "metadata": {},
     "output_type": "display_data"
    },
    {
     "name": "stdout",
     "output_type": "stream",
     "text": [
      "Dataset audiofolder downloaded and prepared to /home/jovyan/.cache/huggingface/datasets/audiofolder/default-375a603028e41e9a/0.0.0/6cbdd16f8688354c63b4e2a36e1585d05de285023ee6443ffd71c4182055c0fc. Subsequent calls will reuse this data.\n"
     ]
    },
    {
     "data": {
      "application/vnd.jupyter.widget-view+json": {
       "model_id": "25417e8ee21e4ce79b173424b4568add",
       "version_major": 2,
       "version_minor": 0
      },
      "text/plain": [
       "  0%|          | 0/1 [00:00<?, ?it/s]"
      ]
     },
     "metadata": {},
     "output_type": "display_data"
    }
   ],
   "source": [
    "from datasets import load_dataset\n",
    "grnvox_test_rem = load_dataset(\"audiofolder\", data_files=['/media/programs/dataset/stories/grnvox_test/grnvox_test.tar.gz'], use_auth_token=True)"
   ]
  },
  {
   "cell_type": "code",
   "execution_count": 10,
   "metadata": {},
   "outputs": [
    {
     "name": "stdout",
     "output_type": "stream",
     "text": [
      "{'path': '/home/jovyan/.cache/huggingface/datasets/downloads/extracted/b32c294ef61fc35f17fcefc55357171fb07e40ac7e73a70a92eb4a1490637c80/data/yon/A63675_013_014.mp3', 'array': array([ 0.        ,  0.        ,  0.        , ..., -0.0140425 ,\n",
      "       -0.01663685, -0.01981813], dtype=float32), 'sampling_rate': 16000}\n"
     ]
    }
   ],
   "source": [
    "print(grnvox_test_rem['train'][200]['audio'])\n"
   ]
  }
 ],
 "metadata": {
  "kernelspec": {
   "display_name": "Python 3.9.10 ('base')",
   "language": "python",
   "name": "python3"
  },
  "language_info": {
   "codemirror_mode": {
    "name": "ipython",
    "version": 3
   },
   "file_extension": ".py",
   "mimetype": "text/x-python",
   "name": "python",
   "nbconvert_exporter": "python",
   "pygments_lexer": "ipython3",
   "version": "3.9.10"
  },
  "orig_nbformat": 4,
  "vscode": {
   "interpreter": {
    "hash": "d4d1e4263499bec80672ea0156c357c1ee493ec2b1c70f0acce89fc37c4a6abe"
   }
  }
 },
 "nbformat": 4,
 "nbformat_minor": 2
}
