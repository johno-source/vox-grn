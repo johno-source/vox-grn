{
 "cells": [
  {
   "cell_type": "markdown",
   "metadata": {},
   "source": [
    "# Get VAD working on GRN data\n",
    "Try using webrtcvad to identify segments of audio"
   ]
  },
  {
   "cell_type": "code",
   "execution_count": 1,
   "metadata": {
    "vscode": {
     "languageId": "python"
    }
   },
   "outputs": [],
   "source": [
    "import librosa\n",
    "import webrtcvad\n",
    "import os\n",
    "import sys\n",
    "module_path = os.path.abspath(os.path.join('work/vox-grn/Projects/vad_utils'))\n",
    "if module_path not in sys.path:\n",
    "    sys.path.append(module_path)\n",
    "from vad_utils import SAMPLING_RATE, FRAME_SIZE_MS, SAMPLES_PER_FRAME\n",
    "import vad_utils as vu"
   ]
  },
  {
   "cell_type": "markdown",
   "metadata": {},
   "source": [
    "## Voice Activity Detector\n",
    "This is the VAD recommended by SIL.\n",
    "\n",
    "It takes mono 16 bit PCM input for frames. The size of the frames gives the resolution of the output. Note that GRN data is 32 bit stereo.\n",
    "The authors recommend a 2 state output filter which measures for 90% threshold to trigger on and then off 90% to change off. This is effectively a moving average filter with two thresholds. They make the length of the filter variable but set it at 300ms, which seems reasonable."
   ]
  },
  {
   "cell_type": "code",
   "execution_count": 19,
   "metadata": {
    "vscode": {
     "languageId": "python"
    }
   },
   "outputs": [],
   "source": [
    "vad = webrtcvad.Vad(2)"
   ]
  },
  {
   "cell_type": "code",
   "execution_count": 3,
   "metadata": {
    "vscode": {
     "languageId": "python"
    }
   },
   "outputs": [],
   "source": [
    "# Open a test file and break it into frames\n",
    "# Yuruti - an unknown language\n",
    "# wav = librosa.load('/media/programs/Programs/37/37779/A37779/PM-0811/A37779-0811-02.wav', sr=SAMPLING_RATE)\n",
    "# English - South African\n",
    "wav, _ = librosa.load('/media/programs/Programs/65/65132/A65132/PM-1601/A65132-01.wav', sr=SAMPLING_RATE, mono=True)\n",
    "# Italian\n",
    "# wav = librosa.load('/media/programs/Programs/65/65428/A65428/PM-1612/A65428-02.wav', sr=SAMPLING_RATE)\n",
    "# khmer\n",
    "# wav = librosa.load('/media/programs/Programs/03/03400/A03400/MM/A03400-01.wav', sr=SAMPLING_RATE)\n",
    "\n"
   ]
  },
  {
   "cell_type": "code",
   "execution_count": 4,
   "metadata": {
    "vscode": {
     "languageId": "python"
    }
   },
   "outputs": [
    {
     "data": {
      "text/plain": [
       "10005"
      ]
     },
     "execution_count": 4,
     "metadata": {},
     "output_type": "execute_result"
    }
   ],
   "source": [
    "#frames = frame_generator(30, stereo_to_mono(wav), SAMPLING_RATE)\n",
    "frames = vu.frame_generator(FRAME_SIZE_MS, wav, SAMPLING_RATE)\n",
    "frame_list = [f for f in frames]\n",
    "len(frame_list)"
   ]
  },
  {
   "cell_type": "code",
   "execution_count": 20,
   "metadata": {
    "vscode": {
     "languageId": "python"
    }
   },
   "outputs": [],
   "source": [
    "speech = [vad.is_speech(frame.bytes, SAMPLING_RATE) for frame in frame_list]"
   ]
  },
  {
   "cell_type": "code",
   "execution_count": 6,
   "metadata": {
    "vscode": {
     "languageId": "python"
    }
   },
   "outputs": [
    {
     "data": {
      "text/plain": [
       "10005.585416666667"
      ]
     },
     "execution_count": 6,
     "metadata": {},
     "output_type": "execute_result"
    }
   ],
   "source": [
    "len(wav)/FRAME_SIZE_MS/SAMPLING_RATE*1000"
   ]
  },
  {
   "cell_type": "markdown",
   "metadata": {},
   "source": [
    "The input is expected to be 16 bit fixed point. What is the nature of our input?"
   ]
  },
  {
   "cell_type": "code",
   "execution_count": 7,
   "metadata": {
    "vscode": {
     "languageId": "python"
    }
   },
   "outputs": [
    {
     "name": "stdout",
     "output_type": "stream",
     "text": [
      "Max of data 0.8208070993423462, min -0.646919310092926\n"
     ]
    }
   ],
   "source": [
    "print(f'Max of data {max(wav)}, min {min(wav)}')"
   ]
  },
  {
   "cell_type": "code",
   "execution_count": 21,
   "metadata": {
    "vscode": {
     "languageId": "python"
    }
   },
   "outputs": [
    {
     "data": {
      "text/plain": [
       "7059"
      ]
     },
     "execution_count": 21,
     "metadata": {},
     "output_type": "execute_result"
    }
   ],
   "source": [
    "sum(speech)"
   ]
  },
  {
   "cell_type": "markdown",
   "metadata": {},
   "source": [
    "Now lets look at the output of real data"
   ]
  },
  {
   "cell_type": "code",
   "execution_count": 22,
   "metadata": {
    "vscode": {
     "languageId": "python"
    }
   },
   "outputs": [
    {
     "data": {
      "text/plain": [
       "7222"
      ]
     },
     "execution_count": 22,
     "metadata": {},
     "output_type": "execute_result"
    }
   ],
   "source": [
    "vadfilt = vu.VADFilter()\n",
    "vadout = [vadfilt.filt(s) for s in speech]\n",
    "sum(vadout)"
   ]
  },
  {
   "cell_type": "markdown",
   "metadata": {},
   "source": [
    "Now we want to find the timing of the segments. Form a list of segments."
   ]
  },
  {
   "cell_type": "code",
   "execution_count": 23,
   "metadata": {
    "vscode": {
     "languageId": "python"
    }
   },
   "outputs": [
    {
     "name": "stdout",
     "output_type": "stream",
     "text": [
      "Start: 1.47 Stop: 2.37\n",
      "Start: 3.15 Stop: 4.83\n",
      "Start: 5.61 Stop: 7.02\n",
      "Start: 7.8 Stop: 10.47\n",
      "Start: 11.37 Stop: 18.63\n",
      "Start: 19.41 Stop: 22.59\n",
      "Start: 23.22 Stop: 23.97\n",
      "Start: 24.27 Stop: 26.46\n",
      "Start: 26.76 Stop: 27.72\n",
      "Start: 27.99 Stop: 30.15\n",
      "Start: 31.26 Stop: 32.49\n",
      "Start: 34.62 Stop: 37.35\n",
      "Start: 38.25 Stop: 40.71\n",
      "Start: 42.84 Stop: 43.98\n",
      "Start: 44.49 Stop: 47.19\n",
      "Start: 48.21 Stop: 49.41\n",
      "Start: 50.07 Stop: 51.93\n",
      "Start: 52.23 Stop: 53.61\n",
      "Start: 53.88 Stop: 55.44\n",
      "Start: 55.89 Stop: 56.58\n",
      "Start: 57.0 Stop: 58.77\n",
      "Start: 59.49 Stop: 60.51\n",
      "Start: 60.87 Stop: 62.16\n",
      "Start: 62.43 Stop: 64.14\n",
      "Start: 65.28 Stop: 67.5\n",
      "Start: 69.63 Stop: 72.18\n",
      "Start: 72.57 Stop: 76.86\n",
      "Start: 78.87 Stop: 80.55\n",
      "Start: 82.26 Stop: 83.73\n",
      "Start: 84.21 Stop: 88.74\n",
      "Start: 90.03 Stop: 90.6\n",
      "Start: 91.05 Stop: 93.0\n",
      "Start: 93.51 Stop: 95.19\n",
      "Start: 96.12 Stop: 98.25\n",
      "Start: 98.73 Stop: 102.9\n",
      "Start: 104.58 Stop: 110.34\n",
      "Start: 111.51 Stop: 115.83\n",
      "Start: 116.34 Stop: 117.06\n",
      "Start: 117.48 Stop: 119.76\n",
      "Start: 122.85 Stop: 126.66\n",
      "Start: 127.68 Stop: 128.16\n",
      "Start: 128.52 Stop: 132.87\n",
      "Start: 133.89 Stop: 134.94\n",
      "Start: 135.63 Stop: 138.63\n",
      "Start: 138.99 Stop: 140.31\n",
      "Start: 141.15 Stop: 143.7\n",
      "Start: 144.66 Stop: 145.74\n",
      "Start: 146.76 Stop: 150.78\n",
      "Start: 151.77 Stop: 153.24\n",
      "Start: 154.11 Stop: 158.79\n",
      "Start: 161.16 Stop: 162.63\n",
      "Start: 163.68 Stop: 164.4\n",
      "Start: 164.85 Stop: 166.32\n",
      "Start: 167.07 Stop: 168.66\n",
      "Start: 169.05 Stop: 170.31\n",
      "Start: 171.36 Stop: 174.63\n",
      "Start: 176.37 Stop: 177.42\n",
      "Start: 178.38 Stop: 181.65\n",
      "Start: 184.2 Stop: 185.49\n",
      "Start: 185.91 Stop: 188.46\n",
      "Start: 189.36 Stop: 192.12\n",
      "Start: 193.41 Stop: 195.57\n",
      "Start: 196.26 Stop: 200.07\n",
      "Start: 200.82 Stop: 204.99\n",
      "Start: 205.98 Stop: 208.65\n",
      "Start: 209.01 Stop: 211.65\n",
      "Start: 212.64 Stop: 218.13\n",
      "Start: 219.21 Stop: 222.54\n",
      "Start: 223.38 Stop: 227.07\n",
      "Start: 227.34 Stop: 229.14\n",
      "Start: 230.52 Stop: 232.38\n",
      "Start: 234.15 Stop: 235.17\n",
      "Start: 236.85 Stop: 237.36\n",
      "Start: 237.93 Stop: 240.42\n",
      "Start: 241.05 Stop: 244.14\n",
      "Start: 245.31 Stop: 248.19\n",
      "Start: 248.73 Stop: 250.2\n",
      "Start: 251.22 Stop: 256.86\n",
      "Start: 257.7 Stop: 259.17\n",
      "Start: 259.59 Stop: 262.2\n",
      "Start: 262.98 Stop: 268.32\n",
      "Start: 268.95 Stop: 272.94\n",
      "Start: 273.63 Stop: 275.88\n",
      "Start: 277.26 Stop: 278.55\n",
      "Start: 278.85 Stop: 282.9\n",
      "Start: 283.71 Stop: 285.96\n",
      "Start: 286.95 Stop: 290.79\n",
      "Start: 291.21 Stop: 293.88\n",
      "Start: 294.27 Stop: 296.58\n",
      "Start: 297.03 Stop: 298.17\n"
     ]
    }
   ],
   "source": [
    "segs = vu.form_segments(vadout)\n",
    "for seg in segs:\n",
    "    print(f'{seg}')"
   ]
  },
  {
   "cell_type": "code",
   "execution_count": 11,
   "metadata": {
    "vscode": {
     "languageId": "python"
    }
   },
   "outputs": [
    {
     "data": {
      "text/plain": [
       "[<matplotlib.lines.Line2D at 0x7f5d9df5f100>]"
      ]
     },
     "execution_count": 11,
     "metadata": {},
     "output_type": "execute_result"
    },
    {
     "data": {
      "image/png": "[encoded data removed]",
      "text/plain": [
       "<Figure size 432x288 with 1 Axes>"
      ]
     },
     "metadata": {
      "needs_background": "light"
     },
     "output_type": "display_data"
    }
   ],
   "source": [
    "import matplotlib.pyplot as plt\n",
    "\n",
    "plt.figure(1)\n",
    "plt.title('Wave Segments')\n",
    "stop = segs[10].stop * SAMPLES_PER_FRAME\n",
    "plt.plot(wav[:int(stop)])"
   ]
  },
  {
   "cell_type": "markdown",
   "metadata": {},
   "source": [
    "Of course audio is made up of utterances and silences. How long can a silence be before it is not useful? What percentage of an utterance can be silence? Get some stats."
   ]
  },
  {
   "cell_type": "code",
   "execution_count": 12,
   "metadata": {
    "vscode": {
     "languageId": "python"
    }
   },
   "outputs": [],
   "source": [
    "utterances = [(s.stop - s.start) * SAMPLES_PER_FRAME / SAMPLING_RATE for s in segs]\n",
    "silences = [(s1.start - s0.stop) * SAMPLES_PER_FRAME / SAMPLING_RATE for s0, s1 in zip(segs, segs[1:])]"
   ]
  },
  {
   "cell_type": "code",
   "execution_count": 13,
   "metadata": {
    "vscode": {
     "languageId": "python"
    }
   },
   "outputs": [
    {
     "data": {
      "text/plain": [
       "<AxesSubplot:ylabel='Frequency'>"
      ]
     },
     "execution_count": 13,
     "metadata": {},
     "output_type": "execute_result"
    },
    {
     "data": {
      "image/png": "[encoded data removed]",
      "text/plain": [
       "<Figure size 432x288 with 1 Axes>"
      ]
     },
     "metadata": {
      "needs_background": "light"
     },
     "output_type": "display_data"
    }
   ],
   "source": [
    "import pandas as pd\n",
    "\n",
    "utterances = pd.Series(utterances)\n",
    "silences = pd.Series(silences)\n",
    "\n",
    "utterances.plot(kind='hist')"
   ]
  },
  {
   "cell_type": "code",
   "execution_count": 14,
   "metadata": {
    "vscode": {
     "languageId": "python"
    }
   },
   "outputs": [
    {
     "data": {
      "text/plain": [
       "<AxesSubplot:ylabel='Frequency'>"
      ]
     },
     "execution_count": 14,
     "metadata": {},
     "output_type": "execute_result"
    },
    {
     "data": {
      "image/png": "[encoded data removed]",
      "text/plain": [
       "<Figure size 432x288 with 1 Axes>"
      ]
     },
     "metadata": {
      "needs_background": "light"
     },
     "output_type": "display_data"
    }
   ],
   "source": [
    "silences.plot(kind='hist')"
   ]
  },
  {
   "cell_type": "markdown",
   "metadata": {},
   "source": [
    "So we want to find segments of a given length and can contain silences of up to 1 second."
   ]
  },
  {
   "cell_type": "code",
   "execution_count": 15,
   "metadata": {
    "vscode": {
     "languageId": "python"
    }
   },
   "outputs": [],
   "source": [
    "segs_6sec = vu.divide_into_segments(segs, 6.0)"
   ]
  },
  {
   "cell_type": "code",
   "execution_count": 16,
   "metadata": {
    "vscode": {
     "languageId": "python"
    }
   },
   "outputs": [
    {
     "name": "stdout",
     "output_type": "stream",
     "text": [
      "Start: 1.47 Stop: 7.47\n",
      "Start: 11.37 Stop: 17.37\n",
      "Start: 19.38 Stop: 25.38\n",
      "Start: 31.26 Stop: 37.26\n",
      "Start: 38.22 Stop: 44.22\n",
      "Start: 48.21 Stop: 54.21\n",
      "Start: 55.89 Stop: 61.89\n",
      "Start: 65.28 Stop: 71.28\n",
      "Start: 72.57 Stop: 78.57\n",
      "Start: 82.26 Stop: 88.26\n",
      "Start: 90.0 Stop: 96.0\n",
      "Start: 98.73 Stop: 104.73\n",
      "Start: 111.51 Stop: 117.51\n",
      "Start: 122.85 Stop: 128.85\n",
      "Start: 133.89 Stop: 139.89\n",
      "Start: 141.15 Stop: 147.15\n",
      "Start: 151.77 Stop: 157.77\n",
      "Start: 161.16 Stop: 167.16\n",
      "Start: 169.05 Stop: 175.05\n",
      "Start: 178.38 Stop: 184.38\n",
      "Start: 185.91 Stop: 191.91\n",
      "Start: 193.41 Stop: 199.41\n",
      "Start: 200.79 Stop: 206.79\n",
      "Start: 209.01 Stop: 215.01\n",
      "Start: 219.21 Stop: 225.21\n",
      "Start: 230.52 Stop: 236.52\n",
      "Start: 237.93 Stop: 243.93\n",
      "Start: 245.31 Stop: 251.31\n",
      "Start: 257.7 Stop: 263.7\n",
      "Start: 268.95 Stop: 274.95\n",
      "Start: 277.26 Stop: 283.26\n",
      "Start: 286.95 Stop: 292.95\n"
     ]
    }
   ],
   "source": [
    "for seg in segs_6sec:\n",
    "    print(f'{seg}')"
   ]
  },
  {
   "cell_type": "code",
   "execution_count": 17,
   "metadata": {
    "vscode": {
     "languageId": "python"
    }
   },
   "outputs": [
    {
     "name": "stdout",
     "output_type": "stream",
     "text": [
      "Start: 1.47 Stop: 11.46\n",
      "Start: 19.38 Stop: 29.37\n",
      "Start: 31.26 Stop: 41.25\n",
      "Start: 44.49 Stop: 54.48\n",
      "Start: 55.89 Stop: 65.88\n",
      "Start: 69.6 Stop: 79.59\n",
      "Start: 82.26 Stop: 92.25\n",
      "Start: 93.51 Stop: 103.5\n",
      "Start: 111.51 Stop: 121.5\n",
      "Start: 127.68 Stop: 137.67\n",
      "Start: 138.99 Stop: 148.98\n",
      "Start: 151.77 Stop: 161.76\n",
      "Start: 163.68 Stop: 173.67\n",
      "Start: 176.37 Stop: 186.36\n",
      "Start: 189.36 Stop: 199.35\n",
      "Start: 200.79 Stop: 210.78\n",
      "Start: 212.64 Stop: 222.63\n",
      "Start: 230.52 Stop: 240.51\n",
      "Start: 241.02 Stop: 251.01\n",
      "Start: 257.7 Stop: 267.69\n",
      "Start: 268.95 Stop: 278.94\n",
      "Start: 283.71 Stop: 293.7\n"
     ]
    }
   ],
   "source": [
    "segs_10sec = vu.divide_into_segments(segs, 10.0)\n",
    "for s in segs_10sec:\n",
    "    print(f'{s}')"
   ]
  },
  {
   "cell_type": "code",
   "execution_count": 18,
   "metadata": {
    "vscode": {
     "languageId": "python"
    }
   },
   "outputs": [
    {
     "name": "stdout",
     "output_type": "stream",
     "text": [
      "Start: 1.47 Stop: 21.45\n",
      "Start: 23.22 Stop: 43.2\n",
      "Start: 44.49 Stop: 64.47\n",
      "Start: 69.6 Stop: 89.58\n",
      "Start: 91.05 Stop: 111.03\n",
      "Start: 116.34 Stop: 136.32\n",
      "Start: 138.99 Stop: 158.97\n",
      "Start: 163.68 Stop: 183.66\n",
      "Start: 185.91 Stop: 205.89\n",
      "Start: 209.01 Stop: 228.99\n",
      "Start: 230.52 Stop: 250.5\n",
      "Start: 257.7 Stop: 277.68\n"
     ]
    }
   ],
   "source": [
    "segs_20sec = vu.divide_into_segments(segs, 20.0)\n",
    "for seg in segs_20sec:\n",
    "    print(f'{seg}')"
   ]
  }
 ],
 "metadata": {
  "kernelspec": {
   "display_name": "Python 3 (ipykernel)",
   "language": "python",
   "name": "python3"
  },
  "orig_nbformat": 4,
  "vscode": {
   "interpreter": {
    "hash": "d4d1e4263499bec80672ea0156c357c1ee493ec2b1c70f0acce89fc37c4a6abe"
   }
  }
 },
 "nbformat": 4,
 "nbformat_minor": 2
}
