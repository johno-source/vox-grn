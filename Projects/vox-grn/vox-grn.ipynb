{
  "cells": [
    {
      "cell_type": "markdown",
      "metadata": {
        "colab_type": "text",
        "id": "view-in-github"
      },
      "source": [
        "<a href=\"https://colab.research.google.com/github/johno-source/vox-grn/blob/main/vox-grn.ipynb\" target=\"_parent\"><img src=\"https://colab.research.google.com/assets/colab-badge.svg\" alt=\"Open In Colab\"/></a>"
      ]
    },
    {
      "cell_type": "markdown",
      "metadata": {
        "id": "UwqF7gcRemRY"
      },
      "source": [
        "# Analysis of vox-grn\n",
        "The purpose of this file is to analyse the vox-grn dataset on huggingface."
      ]
    },
    {
      "cell_type": "code",
      "execution_count": 1,
      "metadata": {
        "id": "i2vsJ5htemRb"
      },
      "outputs": [],
      "source": [
        "import pandas as pd\n",
        "import json\n",
        "import requests\n"
      ]
    },
    {
      "cell_type": "markdown",
      "metadata": {},
      "source": [
        "## Terminology\n",
        "A few terms need to be clarified to make sense of this notebook:\n",
        "\n",
        " Term | Meaning \n",
        "------ | ---------\n",
        "Item | A single logical unit of audio. It might be a story, a song, a testimony, or some other contiguous logically connected stream of audio. Items always have just one language. All items belong to just one program. All items can be uniquely identified using their program ID and there item ID. \n",
        "Program | A collection of Items that are logically related. It is not necessary that all items are of the same language, although they usually are. All programs can be uniquely identified using their 5 digit program ID.\n",
        "Program Set | A collection of Items similar to a program. Each Program Set has a Program Set ID which can be used to uniquely identify the set. A Program Set can also be a Program. In this case its Program ID is the same as its Program Set ID.\n",
        "vox-grn | A huggingface dataset constructed from GRN items. Where variables are sourced from vox-grn they are prefixed with vox_. \n",
        "File | This is a single mp3 file loaded from vox-grn. A file may contain 1 to many items from one, and only one, program set. No files were found that contain items that were part of a program that was not also a program set. \n",
        "GRID | A GRN program used to interface to GRN's SQL database that contains metadata about Programs, Program Sets, and Items. Where variables are derived from data extracted using GRID they are prefixed with grid_. "
      ]
    },
    {
      "cell_type": "markdown",
      "metadata": {},
      "source": [
        "## Load Data\n",
        "First read in the json file associated with the data set and convert it to a data frame. \n",
        "Likewise read in the csv file exported from GRID."
      ]
    },
    {
      "cell_type": "code",
      "execution_count": 2,
      "metadata": {
        "id": "KiqmDyzQgIok"
      },
      "outputs": [],
      "source": [
        "\n",
        "# create a dataframe using a generator\n",
        "def gen_vox_grn():\n",
        "  resp = requests.get('https://raw.githubusercontent.com/johno-source/vox-grn/main/data/vox-grn.json')\n",
        "  vox_dict = json.loads(resp.text)\n",
        "  for iso in vox_dict.keys():\n",
        "    lang_df = pd.json_normalize(vox_dict[iso])\n",
        "    lang_df['iso'] = iso\n",
        "    yield lang_df\n",
        "\n",
        "vox_df = pd.concat(gen_vox_grn())"
      ]
    },
    {
      "cell_type": "markdown",
      "metadata": {},
      "source": [
        "The path of the file contains the GRN program/program set identifier. Extract this for later analysis."
      ]
    },
    {
      "cell_type": "code",
      "execution_count": 3,
      "metadata": {},
      "outputs": [],
      "source": [
        "vox_df['program'] = vox_df['file'].str.extract(r'./Audio_MP3/[0-9]{2}/([0-9]{5})')"
      ]
    },
    {
      "cell_type": "code",
      "execution_count": 4,
      "metadata": {},
      "outputs": [],
      "source": [
        "# load the GRID data. Exported 16 August 2022\n",
        "grid_items = pd.read_csv(\"https://raw.githubusercontent.com/johno-source/vox-grn/main/data/grid_program_items1.csv\")\n",
        "grid_sets = pd.read_csv(\"https://raw.githubusercontent.com/johno-source/vox-grn/main/data/grid_program_sets.csv\")\n",
        "grn_languages = pd.read_csv(\"https://raw.githubusercontent.com/johno-source/vox-grn/main/data/grid_languages-1.csv\")\n",
        "\n"
      ]
    },
    {
      "cell_type": "markdown",
      "metadata": {},
      "source": [
        "The grid_items program identifer is prefixed with single character that is not relevant for this analysis. Strip it off."
      ]
    },
    {
      "cell_type": "code",
      "execution_count": 5,
      "metadata": {},
      "outputs": [],
      "source": [
        "grid_items['prog_no'] = grid_items['Program Number'].str.extract(r'([0-9]{5})')"
      ]
    },
    {
      "cell_type": "markdown",
      "metadata": {},
      "source": [
        "The program sets have their program id as an integer. Convert it to a string and format it using 5 digits."
      ]
    },
    {
      "cell_type": "code",
      "execution_count": 6,
      "metadata": {},
      "outputs": [],
      "source": [
        "grid_sets['program'] = grid_sets['Program Set Number'].astype(int).apply('{:0>5d}'.format)"
      ]
    },
    {
      "cell_type": "markdown",
      "metadata": {},
      "source": [
        "Add the iso language to each of the grid program sets."
      ]
    },
    {
      "cell_type": "code",
      "execution_count": 7,
      "metadata": {},
      "outputs": [],
      "source": [
        "grn_lang_num_to_iso = dict(zip(grn_languages['Language Number'], grn_languages['ISO Language Code']))\n",
        "grid_sets['iso'] = grid_sets['Language Number'].map(grn_lang_num_to_iso)\n",
        "grid_items['iso'] = grid_items['Language Number'].map(grn_lang_num_to_iso)"
      ]
    },
    {
      "cell_type": "markdown",
      "metadata": {},
      "source": [
        "## Sanity Check\n",
        "To ensure accurate analysis we need to establish that the GRID data is a superset of vox-grn. This should be the case as the export of the GRID data occurred after vox-grn was taken."
      ]
    },
    {
      "cell_type": "code",
      "execution_count": 8,
      "metadata": {},
      "outputs": [
        {
          "name": "stdout",
          "output_type": "stream",
          "text": [
            "Number of GRID programs: 14983\n",
            "Number of GRID program sets: 14999\n",
            "Number of vox-grn programs: 13004\n",
            "Number of vox_grn programs not in Grid programs 183\n",
            "Number of GRID program sets not in Grid programs 1384\n",
            "Number of vox-grn programs not in Grid programs or sets: 0\n",
            "Number of vox-grn programs not in Grid program sets: 0\n"
          ]
        }
      ],
      "source": [
        "grid_item_program_ids = set(grid_items['prog_no'])\n",
        "grid_program_set_ids = set(grid_sets['program'])\n",
        "vox_grn_program_ids = set(vox_df['program'])\n",
        "\n",
        "vox_extra_ids = vox_grn_program_ids-grid_item_program_ids\n",
        "program_sets_not_in_items = grid_program_set_ids - grid_item_program_ids\n",
        "print(f'Number of GRID programs: {len(grid_item_program_ids)}')\n",
        "print(f'Number of GRID program sets: {len(grid_program_set_ids)}')\n",
        "print(f'Number of vox-grn programs: {len(vox_grn_program_ids)}')\n",
        "print(f'Number of vox_grn programs not in Grid programs {len(vox_extra_ids)}')\n",
        "print(f'Number of GRID program sets not in Grid programs {len(program_sets_not_in_items)}')\n",
        "print(f'Number of vox-grn programs not in Grid programs or sets: {len(vox_extra_ids - program_sets_not_in_items)}')\n",
        "print(f'Number of vox-grn programs not in Grid program sets: {len(vox_grn_program_ids-grid_program_set_ids)}')"
      ]
    },
    {
      "cell_type": "markdown",
      "metadata": {},
      "source": [
        "So the program sets are a superset of vox-grn - good! But the program set entries only have information on entire sets - not individual items. What vox_grn programs are not in the GRID programs?"
      ]
    },
    {
      "cell_type": "code",
      "execution_count": 9,
      "metadata": {},
      "outputs": [
        {
          "name": "stdout",
          "output_type": "stream",
          "text": [
            "Vox-grn programs not in GRID programs: {'81768', '38273', '80776', '29560', '38057', '85230', '67067', '67159', '67155', '67153', '63098', '35900', '81755', '66314', '66416', '37763', '79146', '63369', '63092', '78073', '18451', '27171', '80624', '38055', '80787', '78072', '64984', '66328', '14600', '38047', '64617', '63130', '81753', '63404', '67078', '38190', '65464', '67077', '81754', '84046', '67191', '65457', '63363', '82762', '14961', '38067', '63129', '67163', '82790', '63093', '67152', '80667', '66954', '37370', '66419', '63099', '64817', '63128', '67160', '82792', '64974', '03150', '66836', '38053', '25801', '02660', '63105', '67081', '68013', '81727', '66936', '35890', '64783', '25190', '74879', '66422', '32190', '63127', '67185', '65456', '24621', '82793', '81791', '78042', '82747', '82797', '78061', '78075', '37567', '78074', '75258', '64866', '64816', '67184', '82784', '74968', '64570', '82760', '63108', '63107', '63106', '38061', '81718', '78076', '66260', '63095', '33090', '78130', '85239', '65216', '82789', '67156', '63100', '67082', '85249', '64619', '67161', '38049', '38059', '66407', '82734', '37160', '67253', '67158', '67288', '81771', '81792', '74806', '67060', '63202', '64983', '80757', '66703', '65463', '37772', '80623', '31261', '75308', '81717', '62841', '38074', '67187', '66940', '82757', '74935', '82791', '67157', '66970', '74864', '64812', '66933', '82758', '80625', '37639', '38069', '27170', '63131', '85254', '24740', '66412', '66329', '63097', '38051', '38188', '63094', '78071', '78060', '80786', '27161', '67062', '67271', '67162', '37764', '63096', '81770', '64618', '63611', '67154', '14131', '85234', '35910', '33091', '62736'}\n"
          ]
        }
      ],
      "source": [
        "print(f'Vox-grn programs not in GRID programs: {vox_extra_ids}')"
      ]
    },
    {
      "cell_type": "markdown",
      "metadata": {},
      "source": [
        "So although this is a small number (183 out of 13004) it means there are some items that we have set information for but not specific item information. Lets see what the recordings are that we do not have item information for:"
      ]
    },
    {
      "cell_type": "code",
      "execution_count": 10,
      "metadata": {},
      "outputs": [
        {
          "name": "stdout",
          "output_type": "stream",
          "text": [
            "                                                        file language name  \\\n",
            "38   ./Audio_MP3/62/62841/Ambai Bible Readings 002 62841.mp3         Ambai   \n",
            "39   ./Audio_MP3/62/62841/Ambai Bible Readings 001 62841.mp3         Ambai   \n",
            "0   ./Audio_MP3/37/37567/Arhuaco Mark Portions 008 37567.mp3       Arhuaco   \n",
            "1   ./Audio_MP3/37/37567/Arhuaco Mark Portions 009 37567.mp3       Arhuaco   \n",
            "2   ./Audio_MP3/37/37567/Arhuaco Mark Portions 011 37567.mp3       Arhuaco   \n",
            "\n",
            "                location                  copyright    year  disguised  \\\n",
            "38                   NaN  Global Recordings Network  2003.0      False   \n",
            "39                   NaN  Global Recordings Network  2003.0      False   \n",
            "0   Villavicencion, Meta  Global Recordings Network  2007.0      False   \n",
            "1   Villavicencion, Meta  Global Recordings Network  2007.0      False   \n",
            "2   Villavicencion, Meta  Global Recordings Network  2007.0      False   \n",
            "\n",
            "         length  iso program  \n",
            "38  1249.589875  amk   62841  \n",
            "39  1684.266708  amk   62841  \n",
            "0    143.383979  arh   37567  \n",
            "1     77.765646  arh   37567  \n",
            "2     59.314313  arh   37567  \n"
          ]
        }
      ],
      "source": [
        "pd.set_option('display.max_colwidth', 300)\n",
        "vox_extras = vox_df[vox_df['program'].isin(vox_extra_ids)]\n",
        "print(vox_extras.head())"
      ]
    },
    {
      "cell_type": "markdown",
      "metadata": {},
      "source": [
        "Are they all scripture readings?"
      ]
    },
    {
      "cell_type": "code",
      "execution_count": 11,
      "metadata": {},
      "outputs": [
        {
          "name": "stdout",
          "output_type": "stream",
          "text": [
            "38                                                                     ./Audio_MP3/62/62841/Ambai Bible Readings 002 62841.mp3\n",
            "39                                                                     ./Audio_MP3/62/62841/Ambai Bible Readings 001 62841.mp3\n",
            "0                                                                     ./Audio_MP3/37/37567/Arhuaco Mark Portions 008 37567.mp3\n",
            "1                                                                     ./Audio_MP3/37/37567/Arhuaco Mark Portions 009 37567.mp3\n",
            "2                                                                     ./Audio_MP3/37/37567/Arhuaco Mark Portions 011 37567.mp3\n",
            "                                                                ...                                                           \n",
            "9                     ./Audio_MP3/67/67062/Zapoteco de Tavehua Las Palabras y Hechos de Jesucrist 002 The Lost Sheep 67062.mp3\n",
            "13                    ./Audio_MP3/67/67062/Zapoteco de Tavehua Las Palabras y Hechos de Jesucrist 003 The New Nature 67062.mp3\n",
            "15        ./Audio_MP3/67/67062/Zapoteco de Tavehua Las Palabras y Hechos de Jesucrist 004 The Death and Resurrection 67062.mp3\n",
            "14    ./Audio_MP3/25/25190/Kayaurinci Words of Life 001 From Creation to Christ ♦ Noah ♦ Why Does Man Fear Death ♦ G 25190.mp3\n",
            "31    ./Audio_MP3/25/25190/Kayaurinci Words of Life 002 The Gadarene ♦ The Death Of Christ ♦ The New Man ♦ The Death 25190.mp3\n",
            "Name: file, Length: 1121, dtype: object\n"
          ]
        }
      ],
      "source": [
        "pd.set_option('display.max_colwidth', 300)\n",
        "pd.set_option('display.max_rows', 200)\n",
        "print(vox_extras['file'])\n"
      ]
    },
    {
      "cell_type": "markdown",
      "metadata": {},
      "source": [
        "So, no, they are not all scripture readings and furthermore some of them do contain multiple items.\n"
      ]
    },
    {
      "cell_type": "markdown",
      "metadata": {},
      "source": [
        "## Language Consistency\n",
        "The first test we want to do is check the vox-grn iso language matches the GRID program set language."
      ]
    },
    {
      "cell_type": "code",
      "execution_count": 12,
      "metadata": {},
      "outputs": [
        {
          "name": "stdout",
          "output_type": "stream",
          "text": [
            "Number of ISO language discrepancies: 3073 out of 202263 files.\n"
          ]
        }
      ],
      "source": [
        "# form a dictionary of program set number to iso language\n",
        "program_set_language = dict(zip(grid_sets['program'], grid_sets['iso']))\n",
        "vox_df['grid iso'] = vox_df['program'].map(program_set_language)\n",
        "vox_lang_discrepancy = vox_df[vox_df[\"grid iso\"] != vox_df[\"iso\"]]\n",
        "print(f'Number of ISO language discrepancies: {len(vox_lang_discrepancy)} out of {len(vox_df)} files.')"
      ]
    },
    {
      "cell_type": "markdown",
      "metadata": {},
      "source": [
        "So about 1.5% of files have a discrepancy in the language they are labelled with. \n",
        "\n",
        "One of the shortcomings of using the program sets is that they are labelled with just one language when there may be multiple languages in the set. To check to see if that is the source of the discrepancy, check the items with a discrepancy against the program item data.\n",
        "\n",
        "First of all - are all the files with a discrepancy in the grid_items? We cannot check this exactly becasue we do not know what items are in each file. But we can check if the programs are contained in both."
      ]
    },
    {
      "cell_type": "code",
      "execution_count": 13,
      "metadata": {},
      "outputs": [
        {
          "name": "stdout",
          "output_type": "stream",
          "text": [
            "Number of programs of files with discrepancies (700) not in grid_item's programs: 44.\n"
          ]
        }
      ],
      "source": [
        "vox_disc_program_ids = set(vox_lang_discrepancy['program'])\n",
        "print(f'Number of programs of files with discrepancies ({len(vox_disc_program_ids)}) not in grid_item\\'s programs: {len(vox_disc_program_ids-grid_item_program_ids)}.')\n"
      ]
    },
    {
      "cell_type": "markdown",
      "metadata": {},
      "source": [
        "So most of the files are of programs that are also in the grid_items. See how many of these have language classifications that correspond to the language classifications given in the grid items."
      ]
    },
    {
      "cell_type": "code",
      "execution_count": 14,
      "metadata": {},
      "outputs": [
        {
          "name": "stdout",
          "output_type": "stream",
          "text": [
            "14983\n"
          ]
        }
      ],
      "source": [
        "vox_disc_in_programs = vox_lang_discrepancy[vox_lang_discrepancy['program'].isin(grid_item_program_ids)].copy()\n",
        "\n",
        "# form a dictionary of grid program id to languages\n",
        "grid_program_to_language_dict = dict()\n",
        "def determine_program_language(item):\n",
        "    global grid_program_to_language_dict\n",
        "    grid_program_to_language_dict.setdefault(item['prog_no'], set()).add(item['iso'])\n",
        "\n",
        "grid_items.apply(determine_program_language, axis=1)\n",
        "print(len(grid_item_program_ids))\n"
      ]
    },
    {
      "cell_type": "code",
      "execution_count": 15,
      "metadata": {},
      "outputs": [],
      "source": [
        "# Now use the above dictionary to confirm if the language listed for the file is in the program.\n",
        "def language_plausibility_check(vox_file):\n",
        "    global grid_program_to_language_dict\n",
        "    lang_set = grid_program_to_language_dict[vox_file.program]\n",
        "    return vox_file['iso'] in lang_set\n",
        "   "
      ]
    },
    {
      "cell_type": "code",
      "execution_count": 16,
      "metadata": {},
      "outputs": [
        {
          "name": "stdout",
          "output_type": "stream",
          "text": [
            "Language found to be plausible in 1490 cases out of 2577\n"
          ]
        }
      ],
      "source": [
        "vox_disc_in_programs['lang in program'] = vox_disc_in_programs.apply(language_plausibility_check, axis=1)\n",
        "print(f'Language found to be plausible in {sum(vox_disc_in_programs[\"lang in program\"])} cases out of {len(vox_disc_in_programs)}')"
      ]
    },
    {
      "cell_type": "markdown",
      "metadata": {},
      "source": [
        "So there are just over 1000 files where the classified language does not appear to be plausible."
      ]
    },
    {
      "cell_type": "markdown",
      "metadata": {},
      "source": [
        "## Items and Compound Files\n",
        "One of the difficulties with the GRN data is that occassionally multiple items are placed in the one audio file. Examining the file names of the mp3 files a fixed pattern can be seen:"
      ]
    },
    {
      "cell_type": "code",
      "execution_count": 17,
      "metadata": {},
      "outputs": [
        {
          "name": "stdout",
          "output_type": "stream",
          "text": [
            "./Audio_MP3/13/13981/Alumu-Tesu Messages 002 What is a Christian ♦ The Woman at the Well ♦ God's Answers ♦ Jes 13981.mp3\n"
          ]
        }
      ],
      "source": [
        "print(vox_df.iloc[0].file)"
      ]
    },
    {
      "cell_type": "markdown",
      "metadata": {},
      "source": [
        "This follows the pattern:\n",
        "\n",
        "```./Audio_MP3/QQ/PPPPP/[Program Title] NNN [Item Title 1] ♦ [Item Title 2] ♦ ... PPPPP.mp3```\n",
        "\n",
        "where\n",
        "* ```QQ``` are the first two numerals in the 5 digit program identifier\n",
        "* ```PPPPP``` is the 5 digit program identifier\n",
        "* ```NNN``` is a 3 digit file identifier\n",
        "\n",
        "The 3 digit file identifier is NOT to be confused with GRN's item number. Where there is one file per item, which is true for the bulk of the data, the file identifier and the item number are the same. However, a significant number of the files contain multiple items. The number can be found by counting the number of files that contain the diamond character (♦) which is UNICODE 2666."
      ]
    },
    {
      "cell_type": "code",
      "execution_count": 18,
      "metadata": {},
      "outputs": [
        {
          "name": "stdout",
          "output_type": "stream",
          "text": [
            "The number of compound files in vox-grn: 9894 out of a total of 202263 files.\n"
          ]
        }
      ],
      "source": [
        "vox_compound = vox_df[vox_df['file'].str.contains('\\u2666')]\n",
        "print(f'The number of compound files in vox-grn: {vox_compound.shape[0]} out of a total of {vox_df.shape[0]} files.')"
      ]
    },
    {
      "cell_type": "markdown",
      "metadata": {},
      "source": [
        "There are a few consequences of multiple items being in one file:\n",
        "* GRN's database includes start and end times for each item in a compound file. This information is not present in vox-grn.\n",
        "* Huggingface datasets have no mechanism to allow multiple audio samples to be extracted from the one file.\n",
        "* If the files had been split on the basis of each item there would be about 40000 more audio samples in the database.\n",
        "* Although each of GRN's items only ever have one language, programs can contain items from multiple languages. Some of the compound files, which have been universally associated with a single ISO language, actually contain items from different languages.\n",
        "\n",
        "Although the first points are annoying, the last point makes the database inaccurate with plausible but wrong classifications. The next section will determine the extent of miscategorised content.\n"
      ]
    },
    {
      "cell_type": "markdown",
      "metadata": {},
      "source": [
        "## Compound Files with Multiple Languages\n",
        "To determine vox-grn files that contain multiple languages first find the files that contain multiple items. \n"
      ]
    },
    {
      "cell_type": "code",
      "execution_count": 19,
      "metadata": {},
      "outputs": [
        {
          "name": "stdout",
          "output_type": "stream",
          "text": [
            "(9894, 10)\n"
          ]
        }
      ],
      "source": [
        "vox_multiple_items = vox_df[vox_df['file'].str.contains('\\u2666')].copy()\n",
        "print(vox_multiple_items.shape)"
      ]
    },
    {
      "cell_type": "code",
      "execution_count": 20,
      "metadata": {},
      "outputs": [
        {
          "name": "stdout",
          "output_type": "stream",
          "text": [
            "Of the files containing multiple items(9894) 2546 have programs with more than one language.\n"
          ]
        }
      ],
      "source": [
        "def program_has_multiple_languages(vox_file):\n",
        "    global grid_program_to_language_dict\n",
        "    if vox_file.program in grid_program_to_language_dict.keys():\n",
        "        lang_set = grid_program_to_language_dict[vox_file.program]\n",
        "        return len(lang_set) > 1\n",
        "    return False\n",
        "\n",
        "vox_multiple_items['multiple languages'] = vox_multiple_items.apply(program_has_multiple_languages, axis=1)\n",
        "print(f'Of the files containing multiple items({len(vox_multiple_items)}) {sum(vox_multiple_items[\"multiple languages\"])} have programs with more than one language.')\n"
      ]
    }
  ],
  "metadata": {
    "colab": {
      "include_colab_link": true,
      "name": "vox-grn.ipynb",
      "provenance": []
    },
    "gpuClass": "standard",
    "kernelspec": {
      "display_name": "Python 3 (ipykernel)",
      "language": "python",
      "name": "python3"
    },
    "language_info": {
      "codemirror_mode": {
        "name": "ipython",
        "version": 3
      },
      "file_extension": ".py",
      "mimetype": "text/x-python",
      "name": "python",
      "nbconvert_exporter": "python",
      "pygments_lexer": "ipython3",
      "version": "3.9.10"
    },
    "orig_nbformat": 4,
    "vscode": {
      "interpreter": {
        "hash": "d4d1e4263499bec80672ea0156c357c1ee493ec2b1c70f0acce89fc37c4a6abe"
      }
    }
  },
  "nbformat": 4,
  "nbformat_minor": 0
}
