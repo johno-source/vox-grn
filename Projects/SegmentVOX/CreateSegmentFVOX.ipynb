{
 "cells": [
  {
   "attachments": {},
   "cell_type": "markdown",
   "metadata": {},
   "source": [
    "# Setup for segmenting GRN Data for vox-grn\n",
    "This is the second attempt to split the data for vox-grn. It was found that the item metadata was simply too unreliable to be used as was the case in the first segmentation (SegmentVoxN).\n",
    "This new set of notebooks will be called FVox with the idea that they are based on files - not data items.\n",
    "\n",
    "This notebook is analogous to SegmentVOX. It splits the problem up into 10 subsets to allow parallel segmentation to be done.\n"
   ]
  },
  {
   "cell_type": "code",
   "execution_count": 1,
   "metadata": {},
   "outputs": [],
   "source": [
    "import pandas as pd\n",
    "import os"
   ]
  },
  {
   "cell_type": "code",
   "execution_count": 2,
   "metadata": {},
   "outputs": [
    {
     "name": "stdout",
     "output_type": "stream",
     "text": [
      "Index(['iso', 'language_name', 'track', 'location', 'year', 'path', 'filename',\n",
      "       'length', 'program', 'ID'],\n",
      "      dtype='object')\n"
     ]
    }
   ],
   "source": [
    "# Now read in the description of the input and remove the unwanted columns and rename the rest to be python attribute names.\n",
    "fd = pd.read_csv('../../data/usable_files.csv')\n",
    "fd.drop(columns=['Unnamed: 0'], inplace=True)\n",
    "print(fd.columns)\n"
   ]
  },
  {
   "attachments": {},
   "cell_type": "markdown",
   "metadata": {},
   "source": [
    "We need to drop any files with an unknown iso."
   ]
  },
  {
   "cell_type": "code",
   "execution_count": 3,
   "metadata": {},
   "outputs": [
    {
     "name": "stdout",
     "output_type": "stream",
     "text": [
      "208374\n"
     ]
    }
   ],
   "source": [
    "fd = fd[fd.iso.notna()]\n",
    "print(len(fd))"
   ]
  },
  {
   "attachments": {},
   "cell_type": "markdown",
   "metadata": {},
   "source": [
    "Now some files have foreign characters in them. Because we are going to perpetuate these filenames it is a good idea to rename the files something useful. Do this and update the usable files."
   ]
  },
  {
   "cell_type": "code",
   "execution_count": 18,
   "metadata": {},
   "outputs": [],
   "source": [
    "import os\n",
    "import shutil\n",
    "import glob\n",
    "\n",
    "def get_foreign_name(path, fname):\n",
    "    if path[-1] != '/':\n",
    "        path = path + '/'\n",
    "    files = glob.glob('/media/programs/' + path + fname.replace('\\ufffd', '*'))\n",
    "    if len(files) == 1:\n",
    "        return files[0]\n",
    "    return None\n",
    "\n",
    "def rename_file(fd):\n",
    "    path = fd.path\n",
    "    if path[-1] != '/':\n",
    "        path = path + '/'\n",
    "    fname = '/media/programs/' + path + fd.filename\n",
    "    if not os.path.isfile(fname):\n",
    "        foreign_name = get_foreign_name(fd.path, fd.filename)\n",
    "        if foreign_name:\n",
    "            new_name = fd.filename.replace('\\ufffd', '_')\n",
    "            shutil.copy(foreign_name, '/media/programs/' + path + new_name)\n",
    "            return new_name\n",
    "\n",
    "    return fd.filename  \n",
    "\n",
    "fd['new_name'] = fd.apply(rename_file, axis=1)"
   ]
  },
  {
   "cell_type": "code",
   "execution_count": 19,
   "metadata": {},
   "outputs": [],
   "source": [
    "renamed_files = fd[fd.new_name != fd.filename].copy()"
   ]
  },
  {
   "cell_type": "code",
   "execution_count": 21,
   "metadata": {},
   "outputs": [],
   "source": [
    "fd['filename'] = fd.new_name\n",
    "fd.drop(columns=['new_name'], inplace=True)\n",
    "fd.to_csv('../../data/usable_files.csv')"
   ]
  },
  {
   "cell_type": "markdown",
   "metadata": {},
   "source": [
    "# Parallel Processing\n",
    "Through trial and error the ideal number to run in parallel was found to be about 10. More than this and vs code starts to cause errors. Divide the data into 10 lots."
   ]
  },
  {
   "cell_type": "code",
   "execution_count": 22,
   "metadata": {},
   "outputs": [],
   "source": [
    "sorted_items = fd.sort_values('iso')\n",
    "row_divisions = [i for i in range(len(sorted_items)//10, len(sorted_items), len(sorted_items)//10)]\n",
    "row_divisions[-1] = len(fd)\n",
    "item_df = []\n",
    "start = 0\n",
    "for row_end in row_divisions:\n",
    "    item_df.append(sorted_items[start:row_end])\n",
    "    start = row_end\n",
    "item_df.append(sorted_items[start:])\n",
    "# now write the divided rows out as csv files\n",
    "for i, df in enumerate(item_df):\n",
    "    df.to_csv(f'/media/originals/fsegs/files_{i}.csv')"
   ]
  },
  {
   "cell_type": "code",
   "execution_count": 23,
   "metadata": {},
   "outputs": [],
   "source": [
    "# read one back to check\n",
    "df = pd.read_csv('/media/originals/fsegs/files_9.csv')"
   ]
  },
  {
   "attachments": {},
   "cell_type": "markdown",
   "metadata": {},
   "source": [
    "Some stats"
   ]
  },
  {
   "cell_type": "code",
   "execution_count": null,
   "metadata": {},
   "outputs": [],
   "source": [
    "iso_langs = fd.iso.value_counts()"
   ]
  }
 ],
 "metadata": {
  "kernelspec": {
   "display_name": "Python 3.9.10 ('base')",
   "language": "python",
   "name": "python3"
  },
  "language_info": {
   "codemirror_mode": {
    "name": "ipython",
    "version": 3
   },
   "file_extension": ".py",
   "mimetype": "text/x-python",
   "name": "python",
   "nbconvert_exporter": "python",
   "pygments_lexer": "ipython3",
   "version": "3.9.10"
  },
  "orig_nbformat": 4,
  "vscode": {
   "interpreter": {
    "hash": "d4d1e4263499bec80672ea0156c357c1ee493ec2b1c70f0acce89fc37c4a6abe"
   }
  }
 },
 "nbformat": 4,
 "nbformat_minor": 2
}
