{
 "cells": [
  {
   "cell_type": "markdown",
   "metadata": {},
   "source": [
    "# Partial Process of Segment GRN Data for vox-grn\n",
    "\n",
    "See SegmentVox.ipynb for full description.\n",
    "\n",
    "In an attempt to speed up the processing I have divided the items up into 10 groups and want to have them all process in parallel. It probably won't be 10 times faster but it should still be quicker.\n"
   ]
  },
  {
   "cell_type": "code",
   "execution_count": 1,
   "metadata": {},
   "outputs": [],
   "source": [
    "import pandas as pd\n",
    "import numpy as np\n",
    "import os\n",
    "import sys\n",
    "module_path = os.path.abspath(os.path.join('../vad_utils'))\n",
    "if module_path not in sys.path:\n",
    "    sys.path.append(module_path)\n",
    "from vad_utils import SAMPLING_RATE, FRAME_SIZE_MS, SAMPLES_PER_FRAME\n",
    "import vad_utils as vu\n",
    "from pydub import AudioSegment\n",
    "import pickle as pkl\n",
    "from pathlib import Path\n",
    "import time\n"
   ]
  },
  {
   "cell_type": "code",
   "execution_count": 2,
   "metadata": {},
   "outputs": [],
   "source": [
    "# define the locations for each of the file types\n",
    "NOTEBOOK_ID=14\n",
    "SEGMENTS_DIR = '/media/originals/segments/'\n",
    "DATASETS_DIR = '/media/originals/datasets/'\n",
    "SEC_4_DATA_DIR = 'seg_4sec/data/'\n",
    "SEC_6_DATA_DIR = 'seg_6sec/data/'\n",
    "SEC_10_DATA_DIR = 'seg_10sec/data/'\n",
    "\n",
    "# define specific files used in the process\n",
    "SEG_4_SEC_DF = f'{SEGMENTS_DIR}seg_4sec_{NOTEBOOK_ID}.csv'\n",
    "SEG_6_SEC_DF = f'{SEGMENTS_DIR}seg_6sec_{NOTEBOOK_ID}.csv'\n",
    "SEG_10_SEC_DF = f'{SEGMENTS_DIR}seg_10sec_{NOTEBOOK_ID}.csv'\n",
    "\n",
    "# define segment sizes for each dataset\n",
    "SEG_4_SEC = 4.0\n",
    "SEG_6_SEC = 6.0\n",
    "SEG_10_SEC = 10.0"
   ]
  },
  {
   "cell_type": "code",
   "execution_count": 3,
   "metadata": {},
   "outputs": [
    {
     "data": {
      "text/plain": [
       "Index(['iso', 'program', 'location', 'year', 'path', 'filename', 'item_no',\n",
       "       'title', 'start', 'end'],\n",
       "      dtype='object')"
      ]
     },
     "execution_count": 3,
     "metadata": {},
     "output_type": "execute_result"
    }
   ],
   "source": [
    "# Now read in the description of the input and remove the unwanted columns and rename the rest to be python attribute names.\n",
    "items = pd.read_csv(f'/media/originals/segments/items_{NOTEBOOK_ID}.csv')\n",
    "items.set_index('ID', inplace=True)\n",
    "items.columns\n"
   ]
  },
  {
   "cell_type": "code",
   "execution_count": 4,
   "metadata": {},
   "outputs": [
    {
     "name": "stdout",
     "output_type": "stream",
     "text": [
      "iso                                          tsn\n",
      "program                                   A73150\n",
      "location                                   Orapa\n",
      "year                                      1989.0\n",
      "path        Programs/73/73150/A73150/PM-1108-DJ/\n",
      "filename                           A73150-01.wav\n",
      "item_no                                        1\n",
      "title                                  Picture 1\n",
      "start                                        0.0\n",
      "end                                          0.0\n",
      "Name: A73150_001, dtype: object\n"
     ]
    }
   ],
   "source": [
    "print(items.iloc[100])"
   ]
  },
  {
   "cell_type": "code",
   "execution_count": 5,
   "metadata": {},
   "outputs": [
    {
     "name": "stdout",
     "output_type": "stream",
     "text": [
      "Index(['A21071_005', 'A21071_033', 'A21071_002', 'A21071_020', 'A21071_019',\n",
      "       'A21071_025', 'A21071_026', 'A21071_027', 'A21071_028', 'A21071_029',\n",
      "       ...\n",
      "       'A63468_010', 'A22731_002', 'A22731_004', 'A22731_006', 'A22731_001',\n",
      "       'A82348_003', 'A82347_013', 'A82348_001', 'A82347_007', 'A82347_008'],\n",
      "      dtype='object', name='ID', length=12582)\n"
     ]
    }
   ],
   "source": [
    "print(items.index)"
   ]
  },
  {
   "cell_type": "code",
   "execution_count": 6,
   "metadata": {},
   "outputs": [],
   "source": [
    "# generate directories and filenames\n",
    "def prepare_dir(dirname):\n",
    "    if dirname[-1] != '/':\n",
    "        dirname = dirname + '/'\n",
    "    Path(dirname).mkdir(parents=True, exist_ok=True)\n",
    "    return dirname\n",
    "\n",
    "def prepare_raw_seg_dir(item):\n",
    "    return prepare_dir(SEGMENTS_DIR + item.iso)\n",
    "\n",
    "def raw_seg_filename(item):\n",
    "    return f'{item.program}_{item.item_no:03d}.pkl'\n",
    "\n",
    "def prepare_dataset_data_dir(item, dataset_dir):\n",
    "    return prepare_dir(DATASETS_DIR + dataset_dir + item.iso)\n",
    "\n",
    "def seg_mp3_filename(item, seg):\n",
    "    return f'{item.program}_{item.item_no:03d}_{seg:03d}.mp3'\n"
   ]
  },
  {
   "cell_type": "code",
   "execution_count": 7,
   "metadata": {},
   "outputs": [],
   "source": [
    "\n",
    "def condition_audio_segment(audio_seg):\n",
    "    if audio_seg.channels != 1:\n",
    "        audio_seg = audio_seg.set_channels(1)\n",
    "\n",
    "    if audio_seg.sample_width != 2:\n",
    "        audio_seg = audio_seg.set_sample_width(2)\n",
    "\n",
    "    if audio_seg.frame_rate != SAMPLING_RATE:\n",
    "        audio_seg = audio_seg.set_frame_rate(SAMPLING_RATE)\n",
    "\n",
    "    return audio_seg\n",
    "        \n"
   ]
  },
  {
   "cell_type": "code",
   "execution_count": 8,
   "metadata": {},
   "outputs": [],
   "source": [
    "\n",
    "def save_the_segment_info(item, segs):\n",
    "    fname = prepare_raw_seg_dir(item) + raw_seg_filename(item)\n",
    "    with open(fname, 'wb') as pklFile:\n",
    "         pkl.dump(segs, pklFile)\n",
    "\n",
    "def read_the_segment_info(item):\n",
    "    fname = prepare_raw_seg_dir(item) + raw_seg_filename(item)\n",
    "    if os.path.exists(fname):\n",
    "        if os.path.getsize(fname) > 0:\n",
    "            with open(fname, 'rb') as pklFile:\n",
    "                return pkl.load(pklFile)\n",
    "    return []\n",
    "    \n",
    "def extract_audio_segment_for_item(item):\n",
    "    fmt = 'wav'\n",
    "    if item.filename[-4:] == '.mp3' :\n",
    "        fmt = 'mp3'\n",
    "    audio_seg = AudioSegment.from_file('/media/programs/' + item.path + item.filename, format=fmt)\n",
    "    start_ms = int(item.start * 1000)\n",
    "    end_ms = int(item.end * 1000)\n",
    "    audio_seg = audio_seg[start_ms:end_ms]\n",
    "\n",
    "    # now condition the segment and extract the raw segments.\n",
    "    audio_seg = condition_audio_segment(audio_seg)\n",
    "    segs = read_the_segment_info(item)\n",
    "    if len(segs) == 0:\n",
    "        segs = vu.audio_to_raw_voice_segments(audio_seg)\n",
    "        save_the_segment_info(item, segs)\n",
    "\n",
    "    return audio_seg, segs\n",
    "\n",
    "def create_mp3_files(audio_seg, segs, time_per_segment, dataset_dir, item):\n",
    "    segs_for_time = vu.divide_into_segments(segs, time_per_segment)\n",
    "\n",
    "    # now write out the 4 sec segments\n",
    "    dirname = prepare_dataset_data_dir(item, dataset_dir)\n",
    "    rows = list()\n",
    "    for i, seg in enumerate(segs_for_time):\n",
    "        file_name = dataset_dir + item.iso + '/' + seg_mp3_filename(item, i)\n",
    "        fname = dirname + seg_mp3_filename(item, i)\n",
    "        if not os.path.exists(fname):\n",
    "            start = vu.convert_frames_to_ms(seg.start)\n",
    "            stop = vu.convert_frames_to_ms(seg.stop)\n",
    "            audio_seg[start:stop].export(fname, format='mp3', bitrate='32k')\n",
    "        desc = dict(item._asdict())\n",
    "        desc['seg_start'] = vu.convert_frames_to_seconds(seg.start)\n",
    "        desc['seg_stop'] = vu.convert_frames_to_seconds(seg.stop)\n",
    "        desc['seg'] = i\n",
    "        desc['file_name'] = file_name\n",
    "        rows.append(desc)\n",
    "\n",
    "    return rows\n",
    "\n",
    "def update_dataframes(seg_df_csv, seg_records):\n",
    "    # now update the dataframes\n",
    "    if len(seg_records) > 0:\n",
    "        if os.path.isfile(seg_df_csv):\n",
    "            seg_sec_df = pd.concat([pd.read_csv(seg_df_csv, index_col='file_name'), pd.DataFrame.from_records(seg_records, index='file_name')])\n",
    "        else:\n",
    "            seg_sec_df = pd.DataFrame.from_records(seg_records, index='file_name')\n",
    "        seg_sec_df.to_csv(seg_df_csv)\n"
   ]
  },
  {
   "cell_type": "code",
   "execution_count": 9,
   "metadata": {},
   "outputs": [],
   "source": [
    "# processing these items might take a very long time. To permit the process to be interrupted and restarted the indexes of processed items\n",
    "# are maintained in a set that is pickled on each batch. This allows the batch to quickly pick up where it left off.\n",
    "def process_record_batch(items_df, *, batch_size=10):\n",
    "    batch_proc = 0\n",
    "    processed_file = f'/media/originals/segments/processed16_{NOTEBOOK_ID}.pkl'\n",
    "    if os.path.isfile(processed_file):\n",
    "        with open(processed_file, 'rb') as pklFile:\n",
    "            processed_items = pkl.load(pklFile)\n",
    "    else:\n",
    "        processed_items = set()\n",
    "\n",
    "    segmented_4sec_segs = []\n",
    "    segmented_6sec_segs = []\n",
    "    segmented_10sec_segs = []\n",
    "\n",
    "    for item in items_df.itertuples():\n",
    "        if batch_proc < batch_size:\n",
    "            if item.Index not in processed_items:\n",
    "                try:\n",
    "                    audio_seg, voice_segs = extract_audio_segment_for_item(item)\n",
    "                    segmented_4sec_segs.extend(create_mp3_files(audio_seg, voice_segs, SEG_4_SEC, SEC_4_DATA_DIR, item))\n",
    "                    segmented_6sec_segs.extend(create_mp3_files(audio_seg, voice_segs, SEG_6_SEC, SEC_6_DATA_DIR, item))\n",
    "                    segmented_10sec_segs.extend(create_mp3_files(audio_seg, voice_segs, SEG_10_SEC, SEC_10_DATA_DIR, item))\n",
    "                except:\n",
    "                    print('exception')\n",
    "                    pass\n",
    "\n",
    "                # we want to add an item that has an exception so it is not reprocessed on every batch\n",
    "                processed_items.add(item.Index)\n",
    "                batch_proc += 1\n",
    "\n",
    "        else:\n",
    "            break\n",
    "\n",
    "    update_dataframes(SEG_4_SEC_DF, segmented_4sec_segs)\n",
    "    update_dataframes(SEG_6_SEC_DF, segmented_6sec_segs)\n",
    "    update_dataframes(SEG_10_SEC_DF, segmented_10sec_segs)\n",
    "\n",
    "    with open(processed_file, 'wb') as pklFile:\n",
    "        pkl.dump(processed_items, pklFile)\n",
    "\n",
    "    return processed_items\n",
    "\n"
   ]
  },
  {
   "cell_type": "code",
   "execution_count": 10,
   "metadata": {},
   "outputs": [
    {
     "ename": "ParserError",
     "evalue": "Error tokenizing data. C error: Expected 15 fields in line 954, saw 28\n",
     "output_type": "error",
     "traceback": [
      "\u001b[0;31m---------------------------------------------------------------------------\u001b[0m",
      "\u001b[0;31mParserError\u001b[0m                               Traceback (most recent call last)",
      "\u001b[1;32m/home/jovyan/work/vox-grn/Projects/SegmentVOX/SegmentVOX14.ipynb Cell 11\u001b[0m in \u001b[0;36m<cell line: 5>\u001b[0;34m()\u001b[0m\n\u001b[1;32m      <a href='vscode-notebook-cell://ssh-remote%2Bvox-grn/home/jovyan/work/vox-grn/Projects/SegmentVOX/SegmentVOX14.ipynb#X13sdnNjb2RlLXJlbW90ZQ%3D%3D?line=3'>4</a>\u001b[0m items_to_process \u001b[39m=\u001b[39m \u001b[39mlen\u001b[39m(items)\n\u001b[1;32m      <a href='vscode-notebook-cell://ssh-remote%2Bvox-grn/home/jovyan/work/vox-grn/Projects/SegmentVOX/SegmentVOX14.ipynb#X13sdnNjb2RlLXJlbW90ZQ%3D%3D?line=4'>5</a>\u001b[0m \u001b[39mwhile\u001b[39;00m items_to_process \u001b[39m>\u001b[39m items_processed:\n\u001b[0;32m----> <a href='vscode-notebook-cell://ssh-remote%2Bvox-grn/home/jovyan/work/vox-grn/Projects/SegmentVOX/SegmentVOX14.ipynb#X13sdnNjb2RlLXJlbW90ZQ%3D%3D?line=5'>6</a>\u001b[0m     processed_items \u001b[39m=\u001b[39m process_record_batch(items, batch_size\u001b[39m=\u001b[39;49m\u001b[39m50\u001b[39;49m)\n\u001b[1;32m      <a href='vscode-notebook-cell://ssh-remote%2Bvox-grn/home/jovyan/work/vox-grn/Projects/SegmentVOX/SegmentVOX14.ipynb#X13sdnNjb2RlLXJlbW90ZQ%3D%3D?line=6'>7</a>\u001b[0m     items_processed \u001b[39m=\u001b[39m \u001b[39mlen\u001b[39m(processed_items)\n\u001b[1;32m      <a href='vscode-notebook-cell://ssh-remote%2Bvox-grn/home/jovyan/work/vox-grn/Projects/SegmentVOX/SegmentVOX14.ipynb#X13sdnNjb2RlLXJlbW90ZQ%3D%3D?line=7'>8</a>\u001b[0m     \u001b[39mprint\u001b[39m(\u001b[39mf\u001b[39m\u001b[39m'\u001b[39m\u001b[39mProcessed \u001b[39m\u001b[39m{\u001b[39;00mitems_processed\u001b[39m}\u001b[39;00m\u001b[39m out of \u001b[39m\u001b[39m{\u001b[39;00mitems_to_process\u001b[39m}\u001b[39;00m\u001b[39m in \u001b[39m\u001b[39m{\u001b[39;00mtime\u001b[39m.\u001b[39mtime()\u001b[39m-\u001b[39mstart_time\u001b[39m}\u001b[39;00m\u001b[39m seconds\u001b[39m\u001b[39m'\u001b[39m)\n",
      "\u001b[1;32m/home/jovyan/work/vox-grn/Projects/SegmentVOX/SegmentVOX14.ipynb Cell 11\u001b[0m in \u001b[0;36mprocess_record_batch\u001b[0;34m(items_df, batch_size)\u001b[0m\n\u001b[1;32m     <a href='vscode-notebook-cell://ssh-remote%2Bvox-grn/home/jovyan/work/vox-grn/Projects/SegmentVOX/SegmentVOX14.ipynb#X13sdnNjb2RlLXJlbW90ZQ%3D%3D?line=32'>33</a>\u001b[0m         \u001b[39mbreak\u001b[39;00m\n\u001b[1;32m     <a href='vscode-notebook-cell://ssh-remote%2Bvox-grn/home/jovyan/work/vox-grn/Projects/SegmentVOX/SegmentVOX14.ipynb#X13sdnNjb2RlLXJlbW90ZQ%3D%3D?line=34'>35</a>\u001b[0m update_dataframes(SEG_4_SEC_DF, segmented_4sec_segs)\n\u001b[0;32m---> <a href='vscode-notebook-cell://ssh-remote%2Bvox-grn/home/jovyan/work/vox-grn/Projects/SegmentVOX/SegmentVOX14.ipynb#X13sdnNjb2RlLXJlbW90ZQ%3D%3D?line=35'>36</a>\u001b[0m update_dataframes(SEG_6_SEC_DF, segmented_6sec_segs)\n\u001b[1;32m     <a href='vscode-notebook-cell://ssh-remote%2Bvox-grn/home/jovyan/work/vox-grn/Projects/SegmentVOX/SegmentVOX14.ipynb#X13sdnNjb2RlLXJlbW90ZQ%3D%3D?line=36'>37</a>\u001b[0m update_dataframes(SEG_10_SEC_DF, segmented_10sec_segs)\n\u001b[1;32m     <a href='vscode-notebook-cell://ssh-remote%2Bvox-grn/home/jovyan/work/vox-grn/Projects/SegmentVOX/SegmentVOX14.ipynb#X13sdnNjb2RlLXJlbW90ZQ%3D%3D?line=38'>39</a>\u001b[0m \u001b[39mwith\u001b[39;00m \u001b[39mopen\u001b[39m(processed_file, \u001b[39m'\u001b[39m\u001b[39mwb\u001b[39m\u001b[39m'\u001b[39m) \u001b[39mas\u001b[39;00m pklFile:\n",
      "\u001b[1;32m/home/jovyan/work/vox-grn/Projects/SegmentVOX/SegmentVOX14.ipynb Cell 11\u001b[0m in \u001b[0;36mupdate_dataframes\u001b[0;34m(seg_df_csv, seg_records)\u001b[0m\n\u001b[1;32m     <a href='vscode-notebook-cell://ssh-remote%2Bvox-grn/home/jovyan/work/vox-grn/Projects/SegmentVOX/SegmentVOX14.ipynb#X13sdnNjb2RlLXJlbW90ZQ%3D%3D?line=55'>56</a>\u001b[0m \u001b[39mif\u001b[39;00m \u001b[39mlen\u001b[39m(seg_records) \u001b[39m>\u001b[39m \u001b[39m0\u001b[39m:\n\u001b[1;32m     <a href='vscode-notebook-cell://ssh-remote%2Bvox-grn/home/jovyan/work/vox-grn/Projects/SegmentVOX/SegmentVOX14.ipynb#X13sdnNjb2RlLXJlbW90ZQ%3D%3D?line=56'>57</a>\u001b[0m     \u001b[39mif\u001b[39;00m os\u001b[39m.\u001b[39mpath\u001b[39m.\u001b[39misfile(seg_df_csv):\n\u001b[0;32m---> <a href='vscode-notebook-cell://ssh-remote%2Bvox-grn/home/jovyan/work/vox-grn/Projects/SegmentVOX/SegmentVOX14.ipynb#X13sdnNjb2RlLXJlbW90ZQ%3D%3D?line=57'>58</a>\u001b[0m         seg_sec_df \u001b[39m=\u001b[39m pd\u001b[39m.\u001b[39mconcat([pd\u001b[39m.\u001b[39;49mread_csv(seg_df_csv, index_col\u001b[39m=\u001b[39;49m\u001b[39m'\u001b[39;49m\u001b[39mfile_name\u001b[39;49m\u001b[39m'\u001b[39;49m), pd\u001b[39m.\u001b[39mDataFrame\u001b[39m.\u001b[39mfrom_records(seg_records, index\u001b[39m=\u001b[39m\u001b[39m'\u001b[39m\u001b[39mfile_name\u001b[39m\u001b[39m'\u001b[39m)])\n\u001b[1;32m     <a href='vscode-notebook-cell://ssh-remote%2Bvox-grn/home/jovyan/work/vox-grn/Projects/SegmentVOX/SegmentVOX14.ipynb#X13sdnNjb2RlLXJlbW90ZQ%3D%3D?line=58'>59</a>\u001b[0m     \u001b[39melse\u001b[39;00m:\n\u001b[1;32m     <a href='vscode-notebook-cell://ssh-remote%2Bvox-grn/home/jovyan/work/vox-grn/Projects/SegmentVOX/SegmentVOX14.ipynb#X13sdnNjb2RlLXJlbW90ZQ%3D%3D?line=59'>60</a>\u001b[0m         seg_sec_df \u001b[39m=\u001b[39m pd\u001b[39m.\u001b[39mDataFrame\u001b[39m.\u001b[39mfrom_records(seg_records, index\u001b[39m=\u001b[39m\u001b[39m'\u001b[39m\u001b[39mfile_name\u001b[39m\u001b[39m'\u001b[39m)\n",
      "File \u001b[0;32m/opt/conda/lib/python3.9/site-packages/pandas/util/_decorators.py:311\u001b[0m, in \u001b[0;36mdeprecate_nonkeyword_arguments.<locals>.decorate.<locals>.wrapper\u001b[0;34m(*args, **kwargs)\u001b[0m\n\u001b[1;32m    305\u001b[0m \u001b[39mif\u001b[39;00m \u001b[39mlen\u001b[39m(args) \u001b[39m>\u001b[39m num_allow_args:\n\u001b[1;32m    306\u001b[0m     warnings\u001b[39m.\u001b[39mwarn(\n\u001b[1;32m    307\u001b[0m         msg\u001b[39m.\u001b[39mformat(arguments\u001b[39m=\u001b[39marguments),\n\u001b[1;32m    308\u001b[0m         \u001b[39mFutureWarning\u001b[39;00m,\n\u001b[1;32m    309\u001b[0m         stacklevel\u001b[39m=\u001b[39mstacklevel,\n\u001b[1;32m    310\u001b[0m     )\n\u001b[0;32m--> 311\u001b[0m \u001b[39mreturn\u001b[39;00m func(\u001b[39m*\u001b[39;49margs, \u001b[39m*\u001b[39;49m\u001b[39m*\u001b[39;49mkwargs)\n",
      "File \u001b[0;32m/opt/conda/lib/python3.9/site-packages/pandas/io/parsers/readers.py:680\u001b[0m, in \u001b[0;36mread_csv\u001b[0;34m(filepath_or_buffer, sep, delimiter, header, names, index_col, usecols, squeeze, prefix, mangle_dupe_cols, dtype, engine, converters, true_values, false_values, skipinitialspace, skiprows, skipfooter, nrows, na_values, keep_default_na, na_filter, verbose, skip_blank_lines, parse_dates, infer_datetime_format, keep_date_col, date_parser, dayfirst, cache_dates, iterator, chunksize, compression, thousands, decimal, lineterminator, quotechar, quoting, doublequote, escapechar, comment, encoding, encoding_errors, dialect, error_bad_lines, warn_bad_lines, on_bad_lines, delim_whitespace, low_memory, memory_map, float_precision, storage_options)\u001b[0m\n\u001b[1;32m    665\u001b[0m kwds_defaults \u001b[39m=\u001b[39m _refine_defaults_read(\n\u001b[1;32m    666\u001b[0m     dialect,\n\u001b[1;32m    667\u001b[0m     delimiter,\n\u001b[0;32m   (...)\u001b[0m\n\u001b[1;32m    676\u001b[0m     defaults\u001b[39m=\u001b[39m{\u001b[39m\"\u001b[39m\u001b[39mdelimiter\u001b[39m\u001b[39m\"\u001b[39m: \u001b[39m\"\u001b[39m\u001b[39m,\u001b[39m\u001b[39m\"\u001b[39m},\n\u001b[1;32m    677\u001b[0m )\n\u001b[1;32m    678\u001b[0m kwds\u001b[39m.\u001b[39mupdate(kwds_defaults)\n\u001b[0;32m--> 680\u001b[0m \u001b[39mreturn\u001b[39;00m _read(filepath_or_buffer, kwds)\n",
      "File \u001b[0;32m/opt/conda/lib/python3.9/site-packages/pandas/io/parsers/readers.py:581\u001b[0m, in \u001b[0;36m_read\u001b[0;34m(filepath_or_buffer, kwds)\u001b[0m\n\u001b[1;32m    578\u001b[0m     \u001b[39mreturn\u001b[39;00m parser\n\u001b[1;32m    580\u001b[0m \u001b[39mwith\u001b[39;00m parser:\n\u001b[0;32m--> 581\u001b[0m     \u001b[39mreturn\u001b[39;00m parser\u001b[39m.\u001b[39;49mread(nrows)\n",
      "File \u001b[0;32m/opt/conda/lib/python3.9/site-packages/pandas/io/parsers/readers.py:1250\u001b[0m, in \u001b[0;36mTextFileReader.read\u001b[0;34m(self, nrows)\u001b[0m\n\u001b[1;32m   1248\u001b[0m nrows \u001b[39m=\u001b[39m validate_integer(\u001b[39m\"\u001b[39m\u001b[39mnrows\u001b[39m\u001b[39m\"\u001b[39m, nrows)\n\u001b[1;32m   1249\u001b[0m \u001b[39mtry\u001b[39;00m:\n\u001b[0;32m-> 1250\u001b[0m     index, columns, col_dict \u001b[39m=\u001b[39m \u001b[39mself\u001b[39;49m\u001b[39m.\u001b[39;49m_engine\u001b[39m.\u001b[39;49mread(nrows)\n\u001b[1;32m   1251\u001b[0m \u001b[39mexcept\u001b[39;00m \u001b[39mException\u001b[39;00m:\n\u001b[1;32m   1252\u001b[0m     \u001b[39mself\u001b[39m\u001b[39m.\u001b[39mclose()\n",
      "File \u001b[0;32m/opt/conda/lib/python3.9/site-packages/pandas/io/parsers/c_parser_wrapper.py:225\u001b[0m, in \u001b[0;36mCParserWrapper.read\u001b[0;34m(self, nrows)\u001b[0m\n\u001b[1;32m    223\u001b[0m \u001b[39mtry\u001b[39;00m:\n\u001b[1;32m    224\u001b[0m     \u001b[39mif\u001b[39;00m \u001b[39mself\u001b[39m\u001b[39m.\u001b[39mlow_memory:\n\u001b[0;32m--> 225\u001b[0m         chunks \u001b[39m=\u001b[39m \u001b[39mself\u001b[39;49m\u001b[39m.\u001b[39;49m_reader\u001b[39m.\u001b[39;49mread_low_memory(nrows)\n\u001b[1;32m    226\u001b[0m         \u001b[39m# destructive to chunks\u001b[39;00m\n\u001b[1;32m    227\u001b[0m         data \u001b[39m=\u001b[39m _concatenate_chunks(chunks)\n",
      "File \u001b[0;32m/opt/conda/lib/python3.9/site-packages/pandas/_libs/parsers.pyx:805\u001b[0m, in \u001b[0;36mpandas._libs.parsers.TextReader.read_low_memory\u001b[0;34m()\u001b[0m\n",
      "File \u001b[0;32m/opt/conda/lib/python3.9/site-packages/pandas/_libs/parsers.pyx:861\u001b[0m, in \u001b[0;36mpandas._libs.parsers.TextReader._read_rows\u001b[0;34m()\u001b[0m\n",
      "File \u001b[0;32m/opt/conda/lib/python3.9/site-packages/pandas/_libs/parsers.pyx:847\u001b[0m, in \u001b[0;36mpandas._libs.parsers.TextReader._tokenize_rows\u001b[0;34m()\u001b[0m\n",
      "File \u001b[0;32m/opt/conda/lib/python3.9/site-packages/pandas/_libs/parsers.pyx:1960\u001b[0m, in \u001b[0;36mpandas._libs.parsers.raise_parser_error\u001b[0;34m()\u001b[0m\n",
      "\u001b[0;31mParserError\u001b[0m: Error tokenizing data. C error: Expected 15 fields in line 954, saw 28\n"
     ]
    }
   ],
   "source": [
    "start_time = time.time()\n",
    "# form the language classification file\n",
    "items_processed = 0\n",
    "items_to_process = len(items)\n",
    "while items_to_process > items_processed:\n",
    "    processed_items = process_record_batch(items, batch_size=50)\n",
    "    items_processed = len(processed_items)\n",
    "    print(f'Processed {items_processed} out of {items_to_process} in {time.time()-start_time} seconds')\n"
   ]
  }
 ],
 "metadata": {
  "kernelspec": {
   "display_name": "Python 3.9.10 ('base')",
   "language": "python",
   "name": "python3"
  },
  "language_info": {
   "codemirror_mode": {
    "name": "ipython",
    "version": 3
   },
   "file_extension": ".py",
   "mimetype": "text/x-python",
   "name": "python",
   "nbconvert_exporter": "python",
   "pygments_lexer": "ipython3",
   "version": "3.9.10"
  },
  "orig_nbformat": 4,
  "vscode": {
   "interpreter": {
    "hash": "d4d1e4263499bec80672ea0156c357c1ee493ec2b1c70f0acce89fc37c4a6abe"
   }
  }
 },
 "nbformat": 4,
 "nbformat_minor": 2
}
