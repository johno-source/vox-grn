{
 "cells": [
  {
   "cell_type": "markdown",
   "metadata": {},
   "source": [
    "# Form Local DB\n",
    "This notebook aims to upload the files needed to the amazon server. This has been broken up into 10 groups in an attempt to make it go faster."
   ]
  },
  {
   "cell_type": "markdown",
   "metadata": {},
   "source": [
    "## 4 Sec Data\n",
    "Lets start with the 4 sec data."
   ]
  },
  {
   "cell_type": "code",
   "execution_count": 1,
   "metadata": {},
   "outputs": [],
   "source": [
    "import pandas as pd\n",
    "import numpy as np\n",
    "import os\n",
    "import sys\n",
    "import pickle as pkl\n",
    "from pathlib import Path\n"
   ]
  },
  {
   "cell_type": "code",
   "execution_count": 3,
   "metadata": {},
   "outputs": [],
   "source": [
    "SEGMENTS_DIR = '/media/originals/segments/'\n",
    "DATASETS_DIR = '/media/originals/datasets/'\n",
    "SEC_4_DATA_DIR = 'seg_4sec/data/'\n",
    "SEC_6_DATA_DIR = 'seg_6sec/data/'\n",
    "SEC_10_DATA_DIR = 'seg_10sec/data/'\n",
    "UPLOAD_ID = 1\n"
   ]
  },
  {
   "cell_type": "code",
   "execution_count": 4,
   "metadata": {},
   "outputs": [],
   "source": [
    "# read in the csv file\n",
    "lang_ids = []\n",
    "with open(f'lang_{UPLOAD_ID}.pkl', 'rb') as pkl_file:\n",
    "    lang_ids = pkl.load(pkl_file)"
   ]
  },
  {
   "cell_type": "markdown",
   "metadata": {},
   "source": [
    "## Uploading files\n",
    "To upload files to the SIL Amazon servr we first have to log on."
   ]
  },
  {
   "cell_type": "code",
   "execution_count": 5,
   "metadata": {},
   "outputs": [],
   "source": [
    "import boto3\n",
    "import getpass\n"
   ]
  },
  {
   "cell_type": "code",
   "execution_count": 6,
   "metadata": {},
   "outputs": [],
   "source": [
    "access_key = getpass.getpass('key')\n",
    "secret = getpass.getpass('secret')"
   ]
  },
  {
   "cell_type": "code",
   "execution_count": 7,
   "metadata": {},
   "outputs": [],
   "source": [
    "session = boto3.session.Session()\n",
    "client = session.client('s3',\n",
    "                        region_name='us-east-1',\n",
    "                        aws_access_key_id=access_key,\n",
    "                        aws_secret_access_key=secret)"
   ]
  },
  {
   "cell_type": "markdown",
   "metadata": {},
   "source": [
    "### Upload the language files\n",
    "This will take a while and may get interrupted. To ensure we can pick up where we left off a pkl of the uploaded files will be kept."
   ]
  },
  {
   "cell_type": "code",
   "execution_count": 8,
   "metadata": {},
   "outputs": [],
   "source": [
    "class persistent_set:\n",
    "    \"\"\"Context manager for keeping track of a persistent variable\"\"\"\n",
    "    def __init__(self, setname):\n",
    "        self.pkl_filename = f'{setname}.pkl'\n",
    "        self.the_set = set()\n",
    "\n",
    "    def __enter__(self):\n",
    "        if os.path.isfile(self.pkl_filename):\n",
    "            with open(self.pkl_filename, 'rb') as pklFile:\n",
    "                self.the_set = pkl.load(pklFile)\n",
    "        return self.the_set\n",
    "\n",
    "    def __exit__(self, etype, value, traceback):\n",
    "        with open(self.pkl_filename, 'wb') as pklFile:\n",
    "            pkl.dump(self.the_set, pklFile)\n",
    "\n"
   ]
  },
  {
   "cell_type": "code",
   "execution_count": 9,
   "metadata": {},
   "outputs": [
    {
     "name": "stdout",
     "output_type": "stream",
     "text": [
      "Uploaded 150 out of 315 in 171.9245891571045 seconds\n",
      "Uploaded 160 out of 315 in 2832.250636816025 seconds\n",
      "Uploaded 170 out of 315 in 7278.00167632103 seconds\n",
      "Uploaded 180 out of 315 in 9442.605977535248 seconds\n",
      "Uploaded 190 out of 315 in 11363.19177699089 seconds\n",
      "Uploaded 200 out of 315 in 13794.84683561325 seconds\n",
      "Uploaded 210 out of 315 in 17436.559710502625 seconds\n",
      "Uploaded 220 out of 315 in 20906.876516342163 seconds\n",
      "Uploaded 230 out of 315 in 23223.02387881279 seconds\n",
      "Uploaded 240 out of 315 in 25337.51039814949 seconds\n",
      "Uploaded 250 out of 315 in 26868.245100736618 seconds\n",
      "Uploaded 260 out of 315 in 28996.75351691246 seconds\n",
      "Uploaded 270 out of 315 in 30600.561100006104 seconds\n",
      "Uploaded 280 out of 315 in 33367.48814201355 seconds\n",
      "Uploaded 290 out of 315 in 35687.59020662308 seconds\n",
      "Uploaded 300 out of 315 in 37430.53291630745 seconds\n",
      "Uploaded 310 out of 315 in 39514.21308803558 seconds\n"
     ]
    }
   ],
   "source": [
    "import time\n",
    "start_time = time.time()\n",
    "items_to_upload = len(lang_ids)\n",
    "for lang in lang_ids:\n",
    "    with persistent_set(f'uploaded_4sec_{UPLOAD_ID}') as uploaded:\n",
    "        if lang not in uploaded:\n",
    "            client.upload_file(f'/media/originals/datasets/vox_grn_4sec_{lang}.tar.gz', 'grn-media', f'archives/seg_4sec/data/vox_grn_4sec_{lang}.tar.gz')\n",
    "            uploaded.add(lang)\n",
    "            items_uploaded = len(uploaded)\n",
    "            if items_uploaded % 10 == 0:\n",
    "                print(f'Uploaded {items_uploaded} out of {items_to_upload} in {time.time()-start_time} seconds')\n"
   ]
  }
 ],
 "metadata": {
  "kernelspec": {
   "display_name": "Python 3.9.10 ('base')",
   "language": "python",
   "name": "python3"
  },
  "language_info": {
   "codemirror_mode": {
    "name": "ipython",
    "version": 3
   },
   "file_extension": ".py",
   "mimetype": "text/x-python",
   "name": "python",
   "nbconvert_exporter": "python",
   "pygments_lexer": "ipython3",
   "version": "3.9.10"
  },
  "orig_nbformat": 4,
  "vscode": {
   "interpreter": {
    "hash": "d4d1e4263499bec80672ea0156c357c1ee493ec2b1c70f0acce89fc37c4a6abe"
   }
  }
 },
 "nbformat": 4,
 "nbformat_minor": 2
}
