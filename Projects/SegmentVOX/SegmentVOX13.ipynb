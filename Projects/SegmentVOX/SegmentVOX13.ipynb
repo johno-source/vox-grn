{
 "cells": [
  {
   "cell_type": "markdown",
   "metadata": {},
   "source": [
    "# Partial Process of Segment GRN Data for vox-grn\n",
    "\n",
    "See SegmentVox.ipynb for full description.\n",
    "\n",
    "In an attempt to speed up the processing I have divided the items up into 10 groups and want to have them all process in parallel. It probably won't be 10 times faster but it should still be quicker.\n"
   ]
  },
  {
   "cell_type": "code",
   "execution_count": 1,
   "metadata": {},
   "outputs": [],
   "source": [
    "import pandas as pd\n",
    "import numpy as np\n",
    "import os\n",
    "import sys\n",
    "module_path = os.path.abspath(os.path.join('../vad_utils'))\n",
    "if module_path not in sys.path:\n",
    "    sys.path.append(module_path)\n",
    "from vad_utils import SAMPLING_RATE, FRAME_SIZE_MS, SAMPLES_PER_FRAME\n",
    "import vad_utils as vu\n",
    "from pydub import AudioSegment\n",
    "import pickle as pkl\n",
    "from pathlib import Path\n",
    "import time\n"
   ]
  },
  {
   "cell_type": "code",
   "execution_count": 2,
   "metadata": {},
   "outputs": [],
   "source": [
    "# define the locations for each of the file types\n",
    "NOTEBOOK_ID=13\n",
    "SEGMENTS_DIR = '/media/originals/segments/'\n",
    "DATASETS_DIR = '/media/originals/datasets/'\n",
    "SEC_4_DATA_DIR = 'seg_4sec/data/'\n",
    "SEC_6_DATA_DIR = 'seg_6sec/data/'\n",
    "SEC_10_DATA_DIR = 'seg_10sec/data/'\n",
    "\n",
    "# define specific files used in the process\n",
    "SEG_4_SEC_DF = f'{SEGMENTS_DIR}seg_4sec_{NOTEBOOK_ID}.csv'\n",
    "SEG_6_SEC_DF = f'{SEGMENTS_DIR}seg_6sec_{NOTEBOOK_ID}.csv'\n",
    "SEG_10_SEC_DF = f'{SEGMENTS_DIR}seg_10sec_{NOTEBOOK_ID}.csv'\n",
    "\n",
    "# define segment sizes for each dataset\n",
    "SEG_4_SEC = 4.0\n",
    "SEG_6_SEC = 6.0\n",
    "SEG_10_SEC = 10.0"
   ]
  },
  {
   "cell_type": "code",
   "execution_count": 3,
   "metadata": {},
   "outputs": [
    {
     "data": {
      "text/plain": [
       "Index(['iso', 'program', 'location', 'year', 'path', 'filename', 'item_no',\n",
       "       'title', 'start', 'end'],\n",
       "      dtype='object')"
      ]
     },
     "execution_count": 3,
     "metadata": {},
     "output_type": "execute_result"
    }
   ],
   "source": [
    "# Now read in the description of the input and remove the unwanted columns and rename the rest to be python attribute names.\n",
    "items = pd.read_csv(f'/media/originals/segments/items_{NOTEBOOK_ID}.csv')\n",
    "items.set_index('ID', inplace=True)\n",
    "items.columns\n"
   ]
  },
  {
   "cell_type": "code",
   "execution_count": 4,
   "metadata": {},
   "outputs": [
    {
     "name": "stdout",
     "output_type": "stream",
     "text": [
      "iso                                       swk\n",
      "program                                A82313\n",
      "location                     Blantyre, Malawi\n",
      "year                                   1998.0\n",
      "path        Programs/82/82313/A82313/PM-1401/\n",
      "filename                       A82313-023.wav\n",
      "item_no                                    23\n",
      "title                              Picture 66\n",
      "start                                     0.0\n",
      "end                                      77.0\n",
      "Name: A82313_023, dtype: object\n"
     ]
    }
   ],
   "source": [
    "print(items.iloc[100])"
   ]
  },
  {
   "cell_type": "code",
   "execution_count": 5,
   "metadata": {},
   "outputs": [
    {
     "name": "stdout",
     "output_type": "stream",
     "text": [
      "Index(['A19381_051', 'A65140_030', 'A65141_006', 'A19381_050', 'A72880_012',\n",
      "       'A72880_013', 'A72880_014', 'A65140_021', 'A65140_020', 'A19381_049',\n",
      "       ...\n",
      "       'A21071_017', 'A21071_003', 'A21071_001', 'A21071_034', 'A21071_035',\n",
      "       'A21071_036', 'A21071_037', 'A21071_038', 'A21071_039', 'A21071_040'],\n",
      "      dtype='object', name='ID', length=12582)\n"
     ]
    }
   ],
   "source": [
    "print(items.index)"
   ]
  },
  {
   "cell_type": "code",
   "execution_count": 6,
   "metadata": {},
   "outputs": [],
   "source": [
    "# generate directories and filenames\n",
    "def prepare_dir(dirname):\n",
    "    if dirname[-1] != '/':\n",
    "        dirname = dirname + '/'\n",
    "    Path(dirname).mkdir(parents=True, exist_ok=True)\n",
    "    return dirname\n",
    "\n",
    "def prepare_raw_seg_dir(item):\n",
    "    return prepare_dir(SEGMENTS_DIR + item.iso)\n",
    "\n",
    "def raw_seg_filename(item):\n",
    "    return f'{item.program}_{item.item_no:03d}.pkl'\n",
    "\n",
    "def prepare_dataset_data_dir(item, dataset_dir):\n",
    "    return prepare_dir(DATASETS_DIR + dataset_dir + item.iso)\n",
    "\n",
    "def seg_mp3_filename(item, seg):\n",
    "    return f'{item.program}_{item.item_no:03d}_{seg:03d}.mp3'\n"
   ]
  },
  {
   "cell_type": "code",
   "execution_count": 7,
   "metadata": {},
   "outputs": [],
   "source": [
    "\n",
    "def condition_audio_segment(audio_seg):\n",
    "    if audio_seg.channels != 1:\n",
    "        audio_seg = audio_seg.set_channels(1)\n",
    "\n",
    "    if audio_seg.sample_width != 2:\n",
    "        audio_seg = audio_seg.set_sample_width(2)\n",
    "\n",
    "    if audio_seg.frame_rate != SAMPLING_RATE:\n",
    "        audio_seg = audio_seg.set_frame_rate(SAMPLING_RATE)\n",
    "\n",
    "    return audio_seg\n",
    "        \n"
   ]
  },
  {
   "cell_type": "code",
   "execution_count": 8,
   "metadata": {},
   "outputs": [],
   "source": [
    "\n",
    "def save_the_segment_info(item, segs):\n",
    "    fname = prepare_raw_seg_dir(item) + raw_seg_filename(item)\n",
    "    with open(fname, 'wb') as pklFile:\n",
    "         pkl.dump(segs, pklFile)\n",
    "\n",
    "def read_the_segment_info(item):\n",
    "    fname = prepare_raw_seg_dir(item) + raw_seg_filename(item)\n",
    "    if os.path.exists(fname):\n",
    "        if os.path.getsize(fname) > 0:\n",
    "            with open(fname, 'rb') as pklFile:\n",
    "                return pkl.load(pklFile)\n",
    "    return []\n",
    "    \n",
    "def extract_audio_segment_for_item(item):\n",
    "    fmt = 'wav'\n",
    "    if item.filename[-4:] == '.mp3' :\n",
    "        fmt = 'mp3'\n",
    "    audio_seg = AudioSegment.from_file('/media/programs/' + item.path + item.filename, format=fmt)\n",
    "    start_ms = int(item.start * 1000)\n",
    "    end_ms = int(item.end * 1000)\n",
    "    audio_seg = audio_seg[start_ms:end_ms]\n",
    "\n",
    "    # now condition the segment and extract the raw segments.\n",
    "    audio_seg = condition_audio_segment(audio_seg)\n",
    "    segs = read_the_segment_info(item)\n",
    "    if len(segs) == 0:\n",
    "        segs = vu.audio_to_raw_voice_segments(audio_seg)\n",
    "        save_the_segment_info(item, segs)\n",
    "\n",
    "    return audio_seg, segs\n",
    "\n",
    "def create_mp3_files(audio_seg, segs, time_per_segment, dataset_dir, item):\n",
    "    segs_for_time = vu.divide_into_segments(segs, time_per_segment)\n",
    "\n",
    "    # now write out the 4 sec segments\n",
    "    dirname = prepare_dataset_data_dir(item, dataset_dir)\n",
    "    rows = list()\n",
    "    for i, seg in enumerate(segs_for_time):\n",
    "        file_name = dataset_dir + item.iso + '/' + seg_mp3_filename(item, i)\n",
    "        fname = dirname + seg_mp3_filename(item, i)\n",
    "        if not os.path.exists(fname):\n",
    "            start = vu.convert_frames_to_ms(seg.start)\n",
    "            stop = vu.convert_frames_to_ms(seg.stop)\n",
    "            audio_seg[start:stop].export(fname, format='mp3', bitrate='32k')\n",
    "        desc = dict(item._asdict())\n",
    "        desc['seg_start'] = vu.convert_frames_to_seconds(seg.start)\n",
    "        desc['seg_stop'] = vu.convert_frames_to_seconds(seg.stop)\n",
    "        desc['seg'] = i\n",
    "        desc['file_name'] = file_name\n",
    "        rows.append(desc)\n",
    "\n",
    "    return rows\n",
    "\n",
    "def update_dataframes(seg_df_csv, seg_records):\n",
    "    # now update the dataframes\n",
    "    if len(seg_records) > 0:\n",
    "        if os.path.isfile(seg_df_csv):\n",
    "            seg_sec_df = pd.concat([pd.read_csv(seg_df_csv, index_col='file_name'), pd.DataFrame.from_records(seg_records, index='file_name')])\n",
    "        else:\n",
    "            seg_sec_df = pd.DataFrame.from_records(seg_records, index='file_name')\n",
    "        seg_sec_df.to_csv(seg_df_csv)\n"
   ]
  },
  {
   "cell_type": "code",
   "execution_count": 9,
   "metadata": {},
   "outputs": [],
   "source": [
    "# processing these items might take a very long time. To permit the process to be interrupted and restarted the indexes of processed items\n",
    "# are maintained in a set that is pickled on each batch. This allows the batch to quickly pick up where it left off.\n",
    "def process_record_batch(items_df, *, batch_size=10):\n",
    "    batch_proc = 0\n",
    "    processed_file = f'/media/originals/segments/processed16_{NOTEBOOK_ID}.pkl'\n",
    "    if os.path.isfile(processed_file):\n",
    "        with open(processed_file, 'rb') as pklFile:\n",
    "            processed_items = pkl.load(pklFile)\n",
    "    else:\n",
    "        processed_items = set()\n",
    "\n",
    "    segmented_4sec_segs = []\n",
    "    segmented_6sec_segs = []\n",
    "    segmented_10sec_segs = []\n",
    "\n",
    "    for item in items_df.itertuples():\n",
    "        if batch_proc < batch_size:\n",
    "            if item.Index not in processed_items:\n",
    "                try:\n",
    "                    audio_seg, voice_segs = extract_audio_segment_for_item(item)\n",
    "                    segmented_4sec_segs.extend(create_mp3_files(audio_seg, voice_segs, SEG_4_SEC, SEC_4_DATA_DIR, item))\n",
    "                    segmented_6sec_segs.extend(create_mp3_files(audio_seg, voice_segs, SEG_6_SEC, SEC_6_DATA_DIR, item))\n",
    "                    segmented_10sec_segs.extend(create_mp3_files(audio_seg, voice_segs, SEG_10_SEC, SEC_10_DATA_DIR, item))\n",
    "                except:\n",
    "                    print('exception')\n",
    "                    pass\n",
    "\n",
    "                # we want to add an item that has an exception so it is not reprocessed on every batch\n",
    "                processed_items.add(item.Index)\n",
    "                batch_proc += 1\n",
    "\n",
    "        else:\n",
    "            break\n",
    "\n",
    "    update_dataframes(SEG_4_SEC_DF, segmented_4sec_segs)\n",
    "    update_dataframes(SEG_6_SEC_DF, segmented_6sec_segs)\n",
    "    update_dataframes(SEG_10_SEC_DF, segmented_10sec_segs)\n",
    "\n",
    "    with open(processed_file, 'wb') as pklFile:\n",
    "        pkl.dump(processed_items, pklFile)\n",
    "\n",
    "    return processed_items\n",
    "\n"
   ]
  },
  {
   "cell_type": "code",
   "execution_count": null,
   "metadata": {},
   "outputs": [],
   "source": [
    "start_time = time.time()\n",
    "# form the language classification file\n",
    "items_processed = 0\n",
    "items_to_process = len(items)\n",
    "while items_to_process > items_processed:\n",
    "    processed_items = process_record_batch(items, batch_size=50)\n",
    "    items_processed = len(processed_items)\n",
    "    print(f'Processed {items_processed} out of {items_to_process} in {time.time()-start_time} seconds')\n"
   ]
  }
 ],
 "metadata": {
  "kernelspec": {
   "display_name": "Python 3.9.10 ('base')",
   "language": "python",
   "name": "python3"
  },
  "language_info": {
   "codemirror_mode": {
    "name": "ipython",
    "version": 3
   },
   "file_extension": ".py",
   "mimetype": "text/x-python",
   "name": "python",
   "nbconvert_exporter": "python",
   "pygments_lexer": "ipython3",
   "version": "3.9.10"
  },
  "orig_nbformat": 4,
  "vscode": {
   "interpreter": {
    "hash": "d4d1e4263499bec80672ea0156c357c1ee493ec2b1c70f0acce89fc37c4a6abe"
   }
  }
 },
 "nbformat": 4,
 "nbformat_minor": 2
}
