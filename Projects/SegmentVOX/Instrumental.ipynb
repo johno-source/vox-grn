{
 "cells": [
  {
   "attachments": {},
   "cell_type": "markdown",
   "metadata": {},
   "source": [
    "# Instrumental Investigation\n",
    "The purpose of this file is to investigate the ability of different vad algorithms to reject instrumental sections.\n"
   ]
  },
  {
   "cell_type": "code",
   "execution_count": 3,
   "metadata": {},
   "outputs": [],
   "source": [
    "import pandas as pd\n",
    "import os\n",
    "import sys\n",
    "from collections import namedtuple\n",
    "\n",
    "module_path = os.path.abspath(os.path.join('../vad_utils'))\n",
    "if module_path not in sys.path:\n",
    "    sys.path.append(module_path)\n",
    "from vad_utils import SAMPLING_RATE, FRAME_SIZE_MS, SAMPLES_PER_FRAME\n",
    "import vad_utils as vu\n",
    "from pydub import AudioSegment\n",
    "import matplotlib.pyplot as plt\n"
   ]
  },
  {
   "cell_type": "code",
   "execution_count": 2,
   "metadata": {},
   "outputs": [
    {
     "name": "stdout",
     "output_type": "stream",
     "text": [
      "The columns of records are:\n",
      "Index(['Unnamed: 0.1', 'Unnamed: 0', 'iso', 'language_name', 'track',\n",
      "       'location', 'year', 'path', 'filename', 'length', 'program', 'ID'],\n",
      "      dtype='object')\n",
      "Program items shape: (267681, 21)\n"
     ]
    }
   ],
   "source": [
    "fd = pd.read_csv(\"../../data/records_with_voxgrn_files.csv\")\n",
    "print(f'The columns of records are:\\n{fd.columns}')\n",
    "items = pd.read_csv(\"/prometheus/GRN/grid_program_items.csv\")\n",
    "print(f'Program items shape: {items.shape}')\n",
    "# watch out for the missplelling. A t was actually dropped.\n",
    "instrument = pd.read_csv(\"../../data/instrumenal_file_segs.csv\")\n"
   ]
  },
  {
   "attachments": {},
   "cell_type": "markdown",
   "metadata": {},
   "source": [
    "Now how many segments were erroneously found using each sensitivity setting?"
   ]
  },
  {
   "cell_type": "code",
   "execution_count": 5,
   "metadata": {},
   "outputs": [
    {
     "name": "stdout",
     "output_type": "stream",
     "text": [
      "2    3679\n",
      "1    2442\n",
      "3    2402\n",
      "0    2260\n",
      "Name: sens, dtype: int64\n"
     ]
    }
   ],
   "source": [
    "counts = instrument.sens.value_counts()\n",
    "print(counts)"
   ]
  },
  {
   "attachments": {},
   "cell_type": "markdown",
   "metadata": {},
   "source": [
    "OK - that was not expected. What happens if we reject the first segment for each file?"
   ]
  },
  {
   "cell_type": "code",
   "execution_count": 8,
   "metadata": {},
   "outputs": [
    {
     "name": "stdout",
     "output_type": "stream",
     "text": [
      "0    971\n",
      "2     55\n",
      "3     22\n",
      "1      4\n",
      "Name: sens, dtype: int64\n"
     ]
    }
   ],
   "source": [
    "multi_seg_instrument = instrument[~instrument.file.duplicated(keep='first')]\n",
    "multi_counts = multi_seg_instrument.sens.value_counts()\n",
    "print(multi_counts)"
   ]
  },
  {
   "attachments": {},
   "cell_type": "markdown",
   "metadata": {},
   "source": [
    "So the most robust rejection of instrumentals is to use sensitivity 1 and ignore the first segment. This is what I have in mind to do anyway as some files start with English."
   ]
  }
 ],
 "metadata": {
  "kernelspec": {
   "display_name": "base",
   "language": "python",
   "name": "python3"
  },
  "language_info": {
   "codemirror_mode": {
    "name": "ipython",
    "version": 3
   },
   "file_extension": ".py",
   "mimetype": "text/x-python",
   "name": "python",
   "nbconvert_exporter": "python",
   "pygments_lexer": "ipython3",
   "version": "3.9.10"
  },
  "orig_nbformat": 4,
  "vscode": {
   "interpreter": {
    "hash": "d4d1e4263499bec80672ea0156c357c1ee493ec2b1c70f0acce89fc37c4a6abe"
   }
  }
 },
 "nbformat": 4,
 "nbformat_minor": 2
}
