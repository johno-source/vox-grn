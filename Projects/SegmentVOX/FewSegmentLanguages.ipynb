{
 "cells": [
  {
   "attachments": {},
   "cell_type": "markdown",
   "metadata": {},
   "source": [
    "# Few Segment Languages\n",
    "This notebook aims to work out why some of the languages had so few segments created."
   ]
  },
  {
   "cell_type": "markdown",
   "metadata": {},
   "source": [
    "## 4 Sec Data\n",
    "Lets start with the 4 sec data."
   ]
  },
  {
   "cell_type": "code",
   "execution_count": 25,
   "metadata": {},
   "outputs": [],
   "source": [
    "import pandas as pd\n",
    "import numpy as np\n",
    "import os\n",
    "import sys\n",
    "import pickle as pkl\n",
    "from pathlib import Path\n",
    "module_path = os.path.abspath(os.path.join('../vad_utils'))\n",
    "if module_path not in sys.path:\n",
    "    sys.path.append(module_path)\n",
    "from vad_utils import SAMPLING_RATE, FRAME_SIZE_MS, SAMPLES_PER_FRAME\n",
    "import vad_utils as vu\n",
    "from pydub import AudioSegment\n",
    "\n"
   ]
  },
  {
   "cell_type": "code",
   "execution_count": 3,
   "metadata": {},
   "outputs": [],
   "source": [
    "SEGMENTS_DIR = '/media/originals/fsegs/'\n",
    "DATASETS_DIR = '/media/originals/datasets/'\n",
    "SEC_4_DATA_DIR = 'fseg_4sec/data/'\n"
   ]
  },
  {
   "attachments": {},
   "cell_type": "markdown",
   "metadata": {},
   "source": [
    "Read in the relevant input data"
   ]
  },
  {
   "cell_type": "code",
   "execution_count": 4,
   "metadata": {},
   "outputs": [],
   "source": [
    "fsegs_4sec = pd.read_csv(\"../../data/fseg_4_df.csv\")"
   ]
  },
  {
   "cell_type": "markdown",
   "metadata": {},
   "source": [
    "## Extract the Languages"
   ]
  },
  {
   "cell_type": "code",
   "execution_count": 6,
   "metadata": {},
   "outputs": [],
   "source": [
    "langs = fsegs_4sec['iso'].value_counts()"
   ]
  },
  {
   "attachments": {},
   "cell_type": "markdown",
   "metadata": {},
   "source": [
    "Now by examining that file we see that smy, srz, kmz, rdb, and tov all only have one segment."
   ]
  },
  {
   "cell_type": "code",
   "execution_count": 7,
   "metadata": {},
   "outputs": [],
   "source": [
    "# what languages do we have\n",
    "lang_ids = sorted(list(langs.index))"
   ]
  },
  {
   "cell_type": "code",
   "execution_count": 8,
   "metadata": {},
   "outputs": [],
   "source": [
    "fd = pd.read_csv('../../data/usable_files.csv')"
   ]
  },
  {
   "attachments": {},
   "cell_type": "markdown",
   "metadata": {},
   "source": [
    "# Investigation\n",
    "\n",
    "We want to answer the following questions:\n",
    "\n",
    "1. Do these languages have many candidate files?\n",
    "2. Are there any languages with zero segments?\n",
    "3. If a different sensitivity were used would the result have been different?\n",
    "\n",
    "Lets answer the second question first."
   ]
  },
  {
   "cell_type": "code",
   "execution_count": 9,
   "metadata": {},
   "outputs": [
    {
     "name": "stdout",
     "output_type": "stream",
     "text": [
      "Files of languages without any segments: 802\n"
     ]
    }
   ],
   "source": [
    "fd['no_segs'] = ~fd['iso'].isin(lang_ids)\n",
    "print(f'Files of languages without any segments: {sum(fd.no_segs)}')"
   ]
  },
  {
   "cell_type": "code",
   "execution_count": 10,
   "metadata": {},
   "outputs": [
    {
     "name": "stdout",
     "output_type": "stream",
     "text": [
      "ISO languages which had no segments generated: 30\n"
     ]
    }
   ],
   "source": [
    "fd_no_segs = fd[fd.no_segs].copy()\n",
    "iso_no_segs = set(fd_no_segs.iso)\n",
    "print(f'ISO languages which had no segments generated: {len(iso_no_segs)}')"
   ]
  },
  {
   "attachments": {},
   "cell_type": "markdown",
   "metadata": {},
   "source": [
    "Now find the languages for which there was a low number of segments (>=10)"
   ]
  },
  {
   "cell_type": "code",
   "execution_count": 17,
   "metadata": {},
   "outputs": [
    {
     "name": "stdout",
     "output_type": "stream",
     "text": [
      "{'kmz', 'pau', 'jge', 'inj', 'rdb', 'bsy', 'rmq', 'chb', 'tov', 'arx', 'srz', 'ulk', 'def', 'eip', 'dmw', 'wrk', 'smy', 'mep', 'buj', 'dso', 'sos'}\n"
     ]
    }
   ],
   "source": [
    "langs_df = langs.to_frame()\n",
    "low_segs_langs = langs_df[langs_df.iso <= 10]\n",
    "low_seg_iso = set(low_segs_langs.index)\n",
    "print(low_seg_iso)"
   ]
  },
  {
   "attachments": {},
   "cell_type": "markdown",
   "metadata": {},
   "source": [
    "Now answer question 1: How many files do each of these languages have?"
   ]
  },
  {
   "cell_type": "code",
   "execution_count": 20,
   "metadata": {},
   "outputs": [],
   "source": [
    "low_seg_iso = low_seg_iso | iso_no_segs\n",
    "fd_low_segs = fd[fd.iso.isin(low_seg_iso)]\n",
    "fd_segs = fd_low_segs.iso.value_counts()\n"
   ]
  },
  {
   "attachments": {},
   "cell_type": "markdown",
   "metadata": {},
   "source": [
    "So of the 51 languages in question 32 had at least 10 files. Lets see if we could have done better with the segments."
   ]
  },
  {
   "attachments": {},
   "cell_type": "markdown",
   "metadata": {},
   "source": [
    "# Recreate the VAD Segments"
   ]
  },
  {
   "cell_type": "code",
   "execution_count": 21,
   "metadata": {},
   "outputs": [],
   "source": [
    "\n",
    "def condition_audio_segment(audio_seg):\n",
    "    if audio_seg.channels != 1:\n",
    "        audio_seg = audio_seg.set_channels(1)\n",
    "\n",
    "    if audio_seg.sample_width != 2:\n",
    "        audio_seg = audio_seg.set_sample_width(2)\n",
    "\n",
    "    if audio_seg.frame_rate != SAMPLING_RATE:\n",
    "        audio_seg = audio_seg.set_frame_rate(SAMPLING_RATE)\n",
    "\n",
    "    return audio_seg\n",
    "        \n",
    "\n",
    "def extract_audio_segment_for_file(fd, sensitivity=2):\n",
    "    fmt = 'wav'\n",
    "    if fd.filename[-4:].lower() == '.mp3' :\n",
    "        fmt = 'mp3'\n",
    "    if not fd.path.endswith('/'):\n",
    "        path = fd.path + '/'\n",
    "    else:\n",
    "        path = fd.path\n",
    "    audio_seg = AudioSegment.from_file('/media/programs/' + path + fd.filename, format=fmt)\n",
    "\n",
    "    # now condition the segment and extract the raw segments.\n",
    "    audio_seg = condition_audio_segment(audio_seg)\n",
    "    segs = vu.audio_to_raw_voice_segments(audio_seg, sensitivity)\n",
    "\n",
    "    return audio_seg, segs\n"
   ]
  },
  {
   "attachments": {},
   "cell_type": "markdown",
   "metadata": {},
   "source": [
    "## Find the relevant files."
   ]
  },
  {
   "cell_type": "code",
   "execution_count": 26,
   "metadata": {},
   "outputs": [],
   "source": [
    "from collections import namedtuple\n",
    "# find some segments\n",
    "segs = list()\n",
    "Desc = namedtuple('Desc', ['sens', 'start', 'stop', 'path', 'file'])\n",
    "for sens in range(4):\n",
    "    for fd in fd_low_segs.itertuples():\n",
    "        audio_seg, voice_segs = extract_audio_segment_for_file(fd, sens)\n",
    "        segs_for_time = vu.divide_into_segments(voice_segs, 4.0)\n",
    "        for i, seg in enumerate(segs_for_time):\n",
    "            start = vu.convert_frames_to_ms(seg.start)\n",
    "            stop = vu.convert_frames_to_ms(seg.stop)\n",
    "            segs.append(Desc(sens, start, stop, fd.path, fd.filename))\n",
    "    else:\n",
    "        if len(segs_for_time) == 0:\n",
    "            print(f'{sens}: No segments {fd.path} {fd.filename}')\n",
    "\n"
   ]
  },
  {
   "cell_type": "code",
   "execution_count": 27,
   "metadata": {},
   "outputs": [],
   "source": [
    "segs_df = pd.DataFrame(segs)"
   ]
  },
  {
   "cell_type": "code",
   "execution_count": 29,
   "metadata": {},
   "outputs": [
    {
     "name": "stdout",
     "output_type": "stream",
     "text": [
      "3    2968\n",
      "2    1353\n",
      "1     371\n",
      "0     327\n",
      "Name: sens, dtype: int64\n"
     ]
    }
   ],
   "source": [
    "segs_df_sens = segs_df.sens.value_counts()\n",
    "print(segs_df_sens)"
   ]
  },
  {
   "attachments": {},
   "cell_type": "markdown",
   "metadata": {},
   "source": [
    "So a sensitivity of 3 works much better. Why did I choose 1? Because when rejecting instrumentals it did the best - but 3 was not that much worse.\n",
    "\n",
    "Questions: \n",
    "* How many segments per file did we find for each sensitivity?\n",
    "* What happens when we reject the first segment in each file?"
   ]
  },
  {
   "cell_type": "code",
   "execution_count": 36,
   "metadata": {},
   "outputs": [],
   "source": [
    "def seg_count(fd, sens):\n",
    "    global segs_df\n",
    "    segs_for_file = segs_df[(segs_df.path == fd.path) & (segs_df.file == fd.filename)]\n",
    "    return sum(segs_for_file.sens == sens)\n",
    "\n",
    "fd_low_segs['segs_0'] = fd_low_segs.apply(seg_count, axis=1, args=(0,))\n",
    "fd_low_segs['segs_1'] = fd_low_segs.apply(seg_count, axis=1, args=(1,))\n",
    "fd_low_segs['segs_2'] = fd_low_segs.apply(seg_count, axis=1, args=(2,))\n",
    "fd_low_segs['segs_3'] = fd_low_segs.apply(seg_count, axis=1, args=(3,))\n"
   ]
  },
  {
   "cell_type": "code",
   "execution_count": null,
   "metadata": {},
   "outputs": [],
   "source": [
    "fd_low_segs.to_csv('../../data/files_with_few_segs.csv')"
   ]
  }
 ],
 "metadata": {
  "kernelspec": {
   "display_name": "Python 3.9.10 ('base')",
   "language": "python",
   "name": "python3"
  },
  "language_info": {
   "codemirror_mode": {
    "name": "ipython",
    "version": 3
   },
   "file_extension": ".py",
   "mimetype": "text/x-python",
   "name": "python",
   "nbconvert_exporter": "python",
   "pygments_lexer": "ipython3",
   "version": "3.9.10"
  },
  "orig_nbformat": 4,
  "vscode": {
   "interpreter": {
    "hash": "d4d1e4263499bec80672ea0156c357c1ee493ec2b1c70f0acce89fc37c4a6abe"
   }
  }
 },
 "nbformat": 4,
 "nbformat_minor": 2
}
