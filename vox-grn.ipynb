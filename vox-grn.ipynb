{
  "cells": [
    {
      "cell_type": "markdown",
      "metadata": {
        "id": "view-in-github",
        "colab_type": "text"
      },
      "source": [
        "<a href=\"https://colab.research.google.com/github/johno-source/vox-grn/blob/main/vox-grn.ipynb\" target=\"_parent\"><img src=\"https://colab.research.google.com/assets/colab-badge.svg\" alt=\"Open In Colab\"/></a>"
      ]
    },
    {
      "cell_type": "markdown",
      "metadata": {
        "id": "UwqF7gcRemRY"
      },
      "source": [
        "# Analysis of vox-grn\n",
        "The purpose of this file is to analyse the vox-grn dataset on huggingface."
      ]
    },
    {
      "cell_type": "code",
      "execution_count": 6,
      "metadata": {
        "id": "i2vsJ5htemRb"
      },
      "outputs": [],
      "source": [
        "import pandas as pd\n",
        "import json\n",
        "import requests\n"
      ]
    },
    {
      "cell_type": "code",
      "source": [
        "\n",
        "# create a dataframe using a generator\n",
        "def gen_vox_grn():\n",
        "  resp = requests.get('https://raw.githubusercontent.com/johno-source/vox-grn/main/data/vox-grn.json')\n",
        "  vox_dict = json.loads(resp.text)\n",
        "  for iso in vox_dict.keys():\n",
        "    lang_df = pd.json_normalize(vox_dict[iso])\n",
        "    lang_df['iso'] = iso\n",
        "    yield lang_df\n",
        "\n",
        "vox_df = pd.concat(gen_vox_grn())"
      ],
      "metadata": {
        "id": "KiqmDyzQgIok"
      },
      "execution_count": 8,
      "outputs": []
    }
  ],
  "metadata": {
    "language_info": {
      "name": "python"
    },
    "orig_nbformat": 4,
    "colab": {
      "name": "vox-grn.ipynb",
      "provenance": [],
      "include_colab_link": true
    },
    "kernelspec": {
      "name": "python3",
      "display_name": "Python 3"
    },
    "gpuClass": "standard"
  },
  "nbformat": 4,
  "nbformat_minor": 0
}